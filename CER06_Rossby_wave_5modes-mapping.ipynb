{
 "cells": [
  {
   "cell_type": "markdown",
   "id": "19307edd-281b-458b-8432-9346a36d39bd",
   "metadata": {},
   "source": [
    "# Rossby wave Model with 5 modes\n",
    "## This jupyter notebook test inverse problem with swath samples"
   ]
  },
  {
   "cell_type": "markdown",
   "id": "090e3448-08b0-4234-ad91-b0da524213b5",
   "metadata": {
    "tags": []
   },
   "source": [
    "#### First we calculate the Brunt-Vaisla frequency squared with a sample dataset."
   ]
  },
  {
   "cell_type": "code",
   "execution_count": 1,
   "id": "d3166eac-cabd-405b-a19c-0aca6151b1fa",
   "metadata": {},
   "outputs": [],
   "source": [
    "import numpy as np\n",
    "import scipy\n",
    "import gsw\n",
    "import xarray as xr\n",
    "import cmocean as cmo\n",
    "from numpy import linalg as LA\n",
    "from scipy import linalg"
   ]
  },
  {
   "cell_type": "code",
   "execution_count": 2,
   "id": "47606cd5-7063-472b-a467-a0e270376332",
   "metadata": {},
   "outputs": [],
   "source": [
    "import matplotlib.pyplot as plt\n",
    "import cartopy.crs as ccrs"
   ]
  },
  {
   "cell_type": "code",
   "execution_count": 3,
   "id": "f1561427-2527-4166-8ab1-0f7b6700b4b2",
   "metadata": {},
   "outputs": [
    {
     "data": {
      "text/html": [
       "<div><svg style=\"position: absolute; width: 0; height: 0; overflow: hidden\">\n",
       "<defs>\n",
       "<symbol id=\"icon-database\" viewBox=\"0 0 32 32\">\n",
       "<path d=\"M16 0c-8.837 0-16 2.239-16 5v4c0 2.761 7.163 5 16 5s16-2.239 16-5v-4c0-2.761-7.163-5-16-5z\"></path>\n",
       "<path d=\"M16 17c-8.837 0-16-2.239-16-5v6c0 2.761 7.163 5 16 5s16-2.239 16-5v-6c0 2.761-7.163 5-16 5z\"></path>\n",
       "<path d=\"M16 26c-8.837 0-16-2.239-16-5v6c0 2.761 7.163 5 16 5s16-2.239 16-5v-6c0 2.761-7.163 5-16 5z\"></path>\n",
       "</symbol>\n",
       "<symbol id=\"icon-file-text2\" viewBox=\"0 0 32 32\">\n",
       "<path d=\"M28.681 7.159c-0.694-0.947-1.662-2.053-2.724-3.116s-2.169-2.030-3.116-2.724c-1.612-1.182-2.393-1.319-2.841-1.319h-15.5c-1.378 0-2.5 1.121-2.5 2.5v27c0 1.378 1.122 2.5 2.5 2.5h23c1.378 0 2.5-1.122 2.5-2.5v-19.5c0-0.448-0.137-1.23-1.319-2.841zM24.543 5.457c0.959 0.959 1.712 1.825 2.268 2.543h-4.811v-4.811c0.718 0.556 1.584 1.309 2.543 2.268zM28 29.5c0 0.271-0.229 0.5-0.5 0.5h-23c-0.271 0-0.5-0.229-0.5-0.5v-27c0-0.271 0.229-0.5 0.5-0.5 0 0 15.499-0 15.5 0v7c0 0.552 0.448 1 1 1h7v19.5z\"></path>\n",
       "<path d=\"M23 26h-14c-0.552 0-1-0.448-1-1s0.448-1 1-1h14c0.552 0 1 0.448 1 1s-0.448 1-1 1z\"></path>\n",
       "<path d=\"M23 22h-14c-0.552 0-1-0.448-1-1s0.448-1 1-1h14c0.552 0 1 0.448 1 1s-0.448 1-1 1z\"></path>\n",
       "<path d=\"M23 18h-14c-0.552 0-1-0.448-1-1s0.448-1 1-1h14c0.552 0 1 0.448 1 1s-0.448 1-1 1z\"></path>\n",
       "</symbol>\n",
       "</defs>\n",
       "</svg>\n",
       "<style>/* CSS stylesheet for displaying xarray objects in jupyterlab.\n",
       " *\n",
       " */\n",
       "\n",
       ":root {\n",
       "  --xr-font-color0: var(--jp-content-font-color0, rgba(0, 0, 0, 1));\n",
       "  --xr-font-color2: var(--jp-content-font-color2, rgba(0, 0, 0, 0.54));\n",
       "  --xr-font-color3: var(--jp-content-font-color3, rgba(0, 0, 0, 0.38));\n",
       "  --xr-border-color: var(--jp-border-color2, #e0e0e0);\n",
       "  --xr-disabled-color: var(--jp-layout-color3, #bdbdbd);\n",
       "  --xr-background-color: var(--jp-layout-color0, white);\n",
       "  --xr-background-color-row-even: var(--jp-layout-color1, white);\n",
       "  --xr-background-color-row-odd: var(--jp-layout-color2, #eeeeee);\n",
       "}\n",
       "\n",
       "html[theme=dark],\n",
       "body.vscode-dark {\n",
       "  --xr-font-color0: rgba(255, 255, 255, 1);\n",
       "  --xr-font-color2: rgba(255, 255, 255, 0.54);\n",
       "  --xr-font-color3: rgba(255, 255, 255, 0.38);\n",
       "  --xr-border-color: #1F1F1F;\n",
       "  --xr-disabled-color: #515151;\n",
       "  --xr-background-color: #111111;\n",
       "  --xr-background-color-row-even: #111111;\n",
       "  --xr-background-color-row-odd: #313131;\n",
       "}\n",
       "\n",
       ".xr-wrap {\n",
       "  display: block;\n",
       "  min-width: 300px;\n",
       "  max-width: 700px;\n",
       "}\n",
       "\n",
       ".xr-text-repr-fallback {\n",
       "  /* fallback to plain text repr when CSS is not injected (untrusted notebook) */\n",
       "  display: none;\n",
       "}\n",
       "\n",
       ".xr-header {\n",
       "  padding-top: 6px;\n",
       "  padding-bottom: 6px;\n",
       "  margin-bottom: 4px;\n",
       "  border-bottom: solid 1px var(--xr-border-color);\n",
       "}\n",
       "\n",
       ".xr-header > div,\n",
       ".xr-header > ul {\n",
       "  display: inline;\n",
       "  margin-top: 0;\n",
       "  margin-bottom: 0;\n",
       "}\n",
       "\n",
       ".xr-obj-type,\n",
       ".xr-array-name {\n",
       "  margin-left: 2px;\n",
       "  margin-right: 10px;\n",
       "}\n",
       "\n",
       ".xr-obj-type {\n",
       "  color: var(--xr-font-color2);\n",
       "}\n",
       "\n",
       ".xr-sections {\n",
       "  padding-left: 0 !important;\n",
       "  display: grid;\n",
       "  grid-template-columns: 150px auto auto 1fr 20px 20px;\n",
       "}\n",
       "\n",
       ".xr-section-item {\n",
       "  display: contents;\n",
       "}\n",
       "\n",
       ".xr-section-item input {\n",
       "  display: none;\n",
       "}\n",
       "\n",
       ".xr-section-item input + label {\n",
       "  color: var(--xr-disabled-color);\n",
       "}\n",
       "\n",
       ".xr-section-item input:enabled + label {\n",
       "  cursor: pointer;\n",
       "  color: var(--xr-font-color2);\n",
       "}\n",
       "\n",
       ".xr-section-item input:enabled + label:hover {\n",
       "  color: var(--xr-font-color0);\n",
       "}\n",
       "\n",
       ".xr-section-summary {\n",
       "  grid-column: 1;\n",
       "  color: var(--xr-font-color2);\n",
       "  font-weight: 500;\n",
       "}\n",
       "\n",
       ".xr-section-summary > span {\n",
       "  display: inline-block;\n",
       "  padding-left: 0.5em;\n",
       "}\n",
       "\n",
       ".xr-section-summary-in:disabled + label {\n",
       "  color: var(--xr-font-color2);\n",
       "}\n",
       "\n",
       ".xr-section-summary-in + label:before {\n",
       "  display: inline-block;\n",
       "  content: '►';\n",
       "  font-size: 11px;\n",
       "  width: 15px;\n",
       "  text-align: center;\n",
       "}\n",
       "\n",
       ".xr-section-summary-in:disabled + label:before {\n",
       "  color: var(--xr-disabled-color);\n",
       "}\n",
       "\n",
       ".xr-section-summary-in:checked + label:before {\n",
       "  content: '▼';\n",
       "}\n",
       "\n",
       ".xr-section-summary-in:checked + label > span {\n",
       "  display: none;\n",
       "}\n",
       "\n",
       ".xr-section-summary,\n",
       ".xr-section-inline-details {\n",
       "  padding-top: 4px;\n",
       "  padding-bottom: 4px;\n",
       "}\n",
       "\n",
       ".xr-section-inline-details {\n",
       "  grid-column: 2 / -1;\n",
       "}\n",
       "\n",
       ".xr-section-details {\n",
       "  display: none;\n",
       "  grid-column: 1 / -1;\n",
       "  margin-bottom: 5px;\n",
       "}\n",
       "\n",
       ".xr-section-summary-in:checked ~ .xr-section-details {\n",
       "  display: contents;\n",
       "}\n",
       "\n",
       ".xr-array-wrap {\n",
       "  grid-column: 1 / -1;\n",
       "  display: grid;\n",
       "  grid-template-columns: 20px auto;\n",
       "}\n",
       "\n",
       ".xr-array-wrap > label {\n",
       "  grid-column: 1;\n",
       "  vertical-align: top;\n",
       "}\n",
       "\n",
       ".xr-preview {\n",
       "  color: var(--xr-font-color3);\n",
       "}\n",
       "\n",
       ".xr-array-preview,\n",
       ".xr-array-data {\n",
       "  padding: 0 5px !important;\n",
       "  grid-column: 2;\n",
       "}\n",
       "\n",
       ".xr-array-data,\n",
       ".xr-array-in:checked ~ .xr-array-preview {\n",
       "  display: none;\n",
       "}\n",
       "\n",
       ".xr-array-in:checked ~ .xr-array-data,\n",
       ".xr-array-preview {\n",
       "  display: inline-block;\n",
       "}\n",
       "\n",
       ".xr-dim-list {\n",
       "  display: inline-block !important;\n",
       "  list-style: none;\n",
       "  padding: 0 !important;\n",
       "  margin: 0;\n",
       "}\n",
       "\n",
       ".xr-dim-list li {\n",
       "  display: inline-block;\n",
       "  padding: 0;\n",
       "  margin: 0;\n",
       "}\n",
       "\n",
       ".xr-dim-list:before {\n",
       "  content: '(';\n",
       "}\n",
       "\n",
       ".xr-dim-list:after {\n",
       "  content: ')';\n",
       "}\n",
       "\n",
       ".xr-dim-list li:not(:last-child):after {\n",
       "  content: ',';\n",
       "  padding-right: 5px;\n",
       "}\n",
       "\n",
       ".xr-has-index {\n",
       "  font-weight: bold;\n",
       "}\n",
       "\n",
       ".xr-var-list,\n",
       ".xr-var-item {\n",
       "  display: contents;\n",
       "}\n",
       "\n",
       ".xr-var-item > div,\n",
       ".xr-var-item label,\n",
       ".xr-var-item > .xr-var-name span {\n",
       "  background-color: var(--xr-background-color-row-even);\n",
       "  margin-bottom: 0;\n",
       "}\n",
       "\n",
       ".xr-var-item > .xr-var-name:hover span {\n",
       "  padding-right: 5px;\n",
       "}\n",
       "\n",
       ".xr-var-list > li:nth-child(odd) > div,\n",
       ".xr-var-list > li:nth-child(odd) > label,\n",
       ".xr-var-list > li:nth-child(odd) > .xr-var-name span {\n",
       "  background-color: var(--xr-background-color-row-odd);\n",
       "}\n",
       "\n",
       ".xr-var-name {\n",
       "  grid-column: 1;\n",
       "}\n",
       "\n",
       ".xr-var-dims {\n",
       "  grid-column: 2;\n",
       "}\n",
       "\n",
       ".xr-var-dtype {\n",
       "  grid-column: 3;\n",
       "  text-align: right;\n",
       "  color: var(--xr-font-color2);\n",
       "}\n",
       "\n",
       ".xr-var-preview {\n",
       "  grid-column: 4;\n",
       "}\n",
       "\n",
       ".xr-var-name,\n",
       ".xr-var-dims,\n",
       ".xr-var-dtype,\n",
       ".xr-preview,\n",
       ".xr-attrs dt {\n",
       "  white-space: nowrap;\n",
       "  overflow: hidden;\n",
       "  text-overflow: ellipsis;\n",
       "  padding-right: 10px;\n",
       "}\n",
       "\n",
       ".xr-var-name:hover,\n",
       ".xr-var-dims:hover,\n",
       ".xr-var-dtype:hover,\n",
       ".xr-attrs dt:hover {\n",
       "  overflow: visible;\n",
       "  width: auto;\n",
       "  z-index: 1;\n",
       "}\n",
       "\n",
       ".xr-var-attrs,\n",
       ".xr-var-data {\n",
       "  display: none;\n",
       "  background-color: var(--xr-background-color) !important;\n",
       "  padding-bottom: 5px !important;\n",
       "}\n",
       "\n",
       ".xr-var-attrs-in:checked ~ .xr-var-attrs,\n",
       ".xr-var-data-in:checked ~ .xr-var-data {\n",
       "  display: block;\n",
       "}\n",
       "\n",
       ".xr-var-data > table {\n",
       "  float: right;\n",
       "}\n",
       "\n",
       ".xr-var-name span,\n",
       ".xr-var-data,\n",
       ".xr-attrs {\n",
       "  padding-left: 25px !important;\n",
       "}\n",
       "\n",
       ".xr-attrs,\n",
       ".xr-var-attrs,\n",
       ".xr-var-data {\n",
       "  grid-column: 1 / -1;\n",
       "}\n",
       "\n",
       "dl.xr-attrs {\n",
       "  padding: 0;\n",
       "  margin: 0;\n",
       "  display: grid;\n",
       "  grid-template-columns: 125px auto;\n",
       "}\n",
       "\n",
       ".xr-attrs dt,\n",
       ".xr-attrs dd {\n",
       "  padding: 0;\n",
       "  margin: 0;\n",
       "  float: left;\n",
       "  padding-right: 10px;\n",
       "  width: auto;\n",
       "}\n",
       "\n",
       ".xr-attrs dt {\n",
       "  font-weight: normal;\n",
       "  grid-column: 1;\n",
       "}\n",
       "\n",
       ".xr-attrs dt:hover span {\n",
       "  display: inline-block;\n",
       "  background: var(--xr-background-color);\n",
       "  padding-right: 10px;\n",
       "}\n",
       "\n",
       ".xr-attrs dd {\n",
       "  grid-column: 2;\n",
       "  white-space: pre-wrap;\n",
       "  word-break: break-all;\n",
       "}\n",
       "\n",
       ".xr-icon-database,\n",
       ".xr-icon-file-text2 {\n",
       "  display: inline-block;\n",
       "  vertical-align: middle;\n",
       "  width: 1em;\n",
       "  height: 1.5em !important;\n",
       "  stroke-width: 0;\n",
       "  stroke: currentColor;\n",
       "  fill: currentColor;\n",
       "}\n",
       "</style><pre class='xr-text-repr-fallback'>&lt;xarray.Dataset&gt;\n",
       "Dimensions:  (XC: 672, XG: 672, YC: 576, YG: 576, Zp1: 91, Z: 90, Zl: 90, Zu: 90)\n",
       "Coordinates: (12/33)\n",
       "  * XC       (XC) float32 230.0 230.0 230.1 230.1 ... 243.9 243.9 243.9 244.0\n",
       "  * XG       (XG) float32 230.0 230.0 230.0 230.1 ... 243.9 243.9 243.9 244.0\n",
       "    rA       (YC, XC) float32 ...\n",
       "    dxG      (YG, XC) float32 ...\n",
       "    dyG      (YC, XG) float32 ...\n",
       "    Depth    (YC, XC) float32 ...\n",
       "    ...       ...\n",
       "  * Zl       (Zl) float32 0.0 -1.0 -2.14 ... -5.682e+03 -6.082e+03 -6.52e+03\n",
       "    drF      (Z) float32 1.0 1.14 1.3 1.49 1.7 ... 334.6 365.9 400.4 438.2 479.7\n",
       "    PHrefC   (Z) float32 4.905 15.4 27.37 41.05 ... 5.77e+04 6.181e+04 6.632e+04\n",
       "    rhoRef   (Z) float32 1.025e+03 1.025e+03 1.025e+03 ... 1.056e+03 1.058e+03\n",
       "    iter     int32 2880\n",
       "    time     datetime64[ns] 2015-01-06T02:00:00\n",
       "Data variables:\n",
       "    THETA    (Z, YC, XC) float32 ...\n",
       "    SALT     (Z, YC, XC) float32 ...\n",
       "    UVEL     (Z, YC, XG) float32 ...\n",
       "    VVEL     (Z, YG, XC) float32 ...\n",
       "    WVEL     (Zl, YC, XC) float32 ...\n",
       "    PHIHYD   (Z, YC, XC) float32 ...\n",
       "    DRHODR   (Zl, YC, XC) float32 ...\n",
       "Attributes:\n",
       "    Conventions:  CF-1.6\n",
       "    title:        netCDF wrapper of MITgcm MDS binary data\n",
       "    source:       MITgcm\n",
       "    history:      Created by calling `open_mdsdataset(grid_dir=&#x27;/data/SO2/SWO...</pre><div class='xr-wrap' hidden><div class='xr-header'><div class='xr-obj-type'>xarray.Dataset</div></div><ul class='xr-sections'><li class='xr-section-item'><input id='section-6e8e4b7d-4046-4df4-aa96-839cea694597' class='xr-section-summary-in' type='checkbox' disabled ><label for='section-6e8e4b7d-4046-4df4-aa96-839cea694597' class='xr-section-summary'  title='Expand/collapse section'>Dimensions:</label><div class='xr-section-inline-details'><ul class='xr-dim-list'><li><span class='xr-has-index'>XC</span>: 672</li><li><span class='xr-has-index'>XG</span>: 672</li><li><span class='xr-has-index'>YC</span>: 576</li><li><span class='xr-has-index'>YG</span>: 576</li><li><span class='xr-has-index'>Zp1</span>: 91</li><li><span class='xr-has-index'>Z</span>: 90</li><li><span class='xr-has-index'>Zl</span>: 90</li><li><span class='xr-has-index'>Zu</span>: 90</li></ul></div><div class='xr-section-details'></div></li><li class='xr-section-item'><input id='section-0189b161-e711-4286-9b61-144907575df1' class='xr-section-summary-in' type='checkbox'  ><label for='section-0189b161-e711-4286-9b61-144907575df1' class='xr-section-summary' >Coordinates: <span>(33)</span></label><div class='xr-section-inline-details'></div><div class='xr-section-details'><ul class='xr-var-list'><li class='xr-var-item'><div class='xr-var-name'><span class='xr-has-index'>XC</span></div><div class='xr-var-dims'>(XC)</div><div class='xr-var-dtype'>float32</div><div class='xr-var-preview xr-preview'>230.0 230.0 230.1 ... 243.9 244.0</div><input id='attrs-fb77c7dc-76b4-48ba-94f9-b53d8f4bf61d' class='xr-var-attrs-in' type='checkbox' ><label for='attrs-fb77c7dc-76b4-48ba-94f9-b53d8f4bf61d' title='Show/Hide attributes'><svg class='icon xr-icon-file-text2'><use xlink:href='#icon-file-text2'></use></svg></label><input id='data-26dce8ac-8b43-46dc-ab96-fc985320ef2f' class='xr-var-data-in' type='checkbox'><label for='data-26dce8ac-8b43-46dc-ab96-fc985320ef2f' title='Show/Hide data repr'><svg class='icon xr-icon-database'><use xlink:href='#icon-database'></use></svg></label><div class='xr-var-attrs'><dl class='xr-attrs'><dt><span>standard_name :</span></dt><dd>longitude</dd><dt><span>long_name :</span></dt><dd>longitude</dd><dt><span>units :</span></dt><dd>degrees_east</dd><dt><span>coordinate :</span></dt><dd>YC XC</dd><dt><span>axis :</span></dt><dd>X</dd></dl></div><div class='xr-var-data'><pre>array([230.0104, 230.0312, 230.052 , ..., 243.9256, 243.9464, 243.9672],\n",
       "      dtype=float32)</pre></div></li><li class='xr-var-item'><div class='xr-var-name'><span class='xr-has-index'>XG</span></div><div class='xr-var-dims'>(XG)</div><div class='xr-var-dtype'>float32</div><div class='xr-var-preview xr-preview'>230.0 230.0 230.0 ... 243.9 244.0</div><input id='attrs-aa34c7a9-72ea-4fdb-800c-34954951639d' class='xr-var-attrs-in' type='checkbox' ><label for='attrs-aa34c7a9-72ea-4fdb-800c-34954951639d' title='Show/Hide attributes'><svg class='icon xr-icon-file-text2'><use xlink:href='#icon-file-text2'></use></svg></label><input id='data-983c350a-1c11-49c0-af25-7987e84b2e43' class='xr-var-data-in' type='checkbox'><label for='data-983c350a-1c11-49c0-af25-7987e84b2e43' title='Show/Hide data repr'><svg class='icon xr-icon-database'><use xlink:href='#icon-database'></use></svg></label><div class='xr-var-attrs'><dl class='xr-attrs'><dt><span>standard_name :</span></dt><dd>longitude_at_f_location</dd><dt><span>long_name :</span></dt><dd>longitude</dd><dt><span>units :</span></dt><dd>degrees_east</dd><dt><span>coordinate :</span></dt><dd>YG XG</dd><dt><span>axis :</span></dt><dd>X</dd><dt><span>c_grid_axis_shift :</span></dt><dd>-0.5</dd></dl></div><div class='xr-var-data'><pre>array([230.    , 230.0208, 230.0416, ..., 243.9152, 243.936 , 243.9568],\n",
       "      dtype=float32)</pre></div></li><li class='xr-var-item'><div class='xr-var-name'><span>rA</span></div><div class='xr-var-dims'>(YC, XC)</div><div class='xr-var-dtype'>float32</div><div class='xr-var-preview xr-preview'>...</div><input id='attrs-17dfe860-cef3-4f1d-ac55-44b83a0171ef' class='xr-var-attrs-in' type='checkbox' ><label for='attrs-17dfe860-cef3-4f1d-ac55-44b83a0171ef' title='Show/Hide attributes'><svg class='icon xr-icon-file-text2'><use xlink:href='#icon-file-text2'></use></svg></label><input id='data-5fbfbd66-effc-4f67-bf1e-0ffe35f1b188' class='xr-var-data-in' type='checkbox'><label for='data-5fbfbd66-effc-4f67-bf1e-0ffe35f1b188' title='Show/Hide data repr'><svg class='icon xr-icon-database'><use xlink:href='#icon-database'></use></svg></label><div class='xr-var-attrs'><dl class='xr-attrs'><dt><span>standard_name :</span></dt><dd>cell_area</dd><dt><span>long_name :</span></dt><dd>cell area</dd><dt><span>units :</span></dt><dd>m2</dd><dt><span>coordinate :</span></dt><dd>YC XC</dd></dl></div><div class='xr-var-data'><pre>[387072 values with dtype=float32]</pre></div></li><li class='xr-var-item'><div class='xr-var-name'><span>dxG</span></div><div class='xr-var-dims'>(YG, XC)</div><div class='xr-var-dtype'>float32</div><div class='xr-var-preview xr-preview'>...</div><input id='attrs-b3e72752-8750-4e87-b05c-c2ab5f38a684' class='xr-var-attrs-in' type='checkbox' ><label for='attrs-b3e72752-8750-4e87-b05c-c2ab5f38a684' title='Show/Hide attributes'><svg class='icon xr-icon-file-text2'><use xlink:href='#icon-file-text2'></use></svg></label><input id='data-e7a3a180-459d-48ae-b9a6-9eca6dca418c' class='xr-var-data-in' type='checkbox'><label for='data-e7a3a180-459d-48ae-b9a6-9eca6dca418c' title='Show/Hide data repr'><svg class='icon xr-icon-database'><use xlink:href='#icon-database'></use></svg></label><div class='xr-var-attrs'><dl class='xr-attrs'><dt><span>standard_name :</span></dt><dd>cell_x_size_at_v_location</dd><dt><span>long_name :</span></dt><dd>cell x size</dd><dt><span>units :</span></dt><dd>m</dd><dt><span>coordinate :</span></dt><dd>YG XC</dd></dl></div><div class='xr-var-data'><pre>[387072 values with dtype=float32]</pre></div></li><li class='xr-var-item'><div class='xr-var-name'><span>dyG</span></div><div class='xr-var-dims'>(YC, XG)</div><div class='xr-var-dtype'>float32</div><div class='xr-var-preview xr-preview'>...</div><input id='attrs-3061922e-d413-40ae-8b27-a139337174f4' class='xr-var-attrs-in' type='checkbox' ><label for='attrs-3061922e-d413-40ae-8b27-a139337174f4' title='Show/Hide attributes'><svg class='icon xr-icon-file-text2'><use xlink:href='#icon-file-text2'></use></svg></label><input id='data-7c8d4fa1-5cbd-447b-b4ca-c0366dec3f15' class='xr-var-data-in' type='checkbox'><label for='data-7c8d4fa1-5cbd-447b-b4ca-c0366dec3f15' title='Show/Hide data repr'><svg class='icon xr-icon-database'><use xlink:href='#icon-database'></use></svg></label><div class='xr-var-attrs'><dl class='xr-attrs'><dt><span>standard_name :</span></dt><dd>cell_y_size_at_u_location</dd><dt><span>long_name :</span></dt><dd>cell y size</dd><dt><span>units :</span></dt><dd>m</dd><dt><span>coordinate :</span></dt><dd>YC XG</dd></dl></div><div class='xr-var-data'><pre>[387072 values with dtype=float32]</pre></div></li><li class='xr-var-item'><div class='xr-var-name'><span>Depth</span></div><div class='xr-var-dims'>(YC, XC)</div><div class='xr-var-dtype'>float32</div><div class='xr-var-preview xr-preview'>...</div><input id='attrs-2df0aedf-5961-4366-8592-91962eb88fee' class='xr-var-attrs-in' type='checkbox' ><label for='attrs-2df0aedf-5961-4366-8592-91962eb88fee' title='Show/Hide attributes'><svg class='icon xr-icon-file-text2'><use xlink:href='#icon-file-text2'></use></svg></label><input id='data-60f1484e-8c4f-432e-aff3-e22f827f9156' class='xr-var-data-in' type='checkbox'><label for='data-60f1484e-8c4f-432e-aff3-e22f827f9156' title='Show/Hide data repr'><svg class='icon xr-icon-database'><use xlink:href='#icon-database'></use></svg></label><div class='xr-var-attrs'><dl class='xr-attrs'><dt><span>standard_name :</span></dt><dd>ocean_depth</dd><dt><span>long_name :</span></dt><dd>ocean depth</dd><dt><span>units :</span></dt><dd>m</dd><dt><span>coordinate :</span></dt><dd>XC YC</dd></dl></div><div class='xr-var-data'><pre>[387072 values with dtype=float32]</pre></div></li><li class='xr-var-item'><div class='xr-var-name'><span>rAz</span></div><div class='xr-var-dims'>(YG, XG)</div><div class='xr-var-dtype'>float32</div><div class='xr-var-preview xr-preview'>...</div><input id='attrs-7fbd70b3-a6c2-4e5a-a362-351758acf4e0' class='xr-var-attrs-in' type='checkbox' ><label for='attrs-7fbd70b3-a6c2-4e5a-a362-351758acf4e0' title='Show/Hide attributes'><svg class='icon xr-icon-file-text2'><use xlink:href='#icon-file-text2'></use></svg></label><input id='data-8bc2d2bb-7d65-44d5-b540-a473593888dd' class='xr-var-data-in' type='checkbox'><label for='data-8bc2d2bb-7d65-44d5-b540-a473593888dd' title='Show/Hide data repr'><svg class='icon xr-icon-database'><use xlink:href='#icon-database'></use></svg></label><div class='xr-var-attrs'><dl class='xr-attrs'><dt><span>standard_name :</span></dt><dd>cell_area_at_f_location</dd><dt><span>long_name :</span></dt><dd>cell area</dd><dt><span>units :</span></dt><dd>m</dd><dt><span>coordinate :</span></dt><dd>YG XG</dd></dl></div><div class='xr-var-data'><pre>[387072 values with dtype=float32]</pre></div></li><li class='xr-var-item'><div class='xr-var-name'><span>dxC</span></div><div class='xr-var-dims'>(YC, XG)</div><div class='xr-var-dtype'>float32</div><div class='xr-var-preview xr-preview'>...</div><input id='attrs-bcc1541b-6409-4f34-8fbe-8759a0031dc2' class='xr-var-attrs-in' type='checkbox' ><label for='attrs-bcc1541b-6409-4f34-8fbe-8759a0031dc2' title='Show/Hide attributes'><svg class='icon xr-icon-file-text2'><use xlink:href='#icon-file-text2'></use></svg></label><input id='data-953b360d-18fe-4616-82e9-353fa04fb3fe' class='xr-var-data-in' type='checkbox'><label for='data-953b360d-18fe-4616-82e9-353fa04fb3fe' title='Show/Hide data repr'><svg class='icon xr-icon-database'><use xlink:href='#icon-database'></use></svg></label><div class='xr-var-attrs'><dl class='xr-attrs'><dt><span>standard_name :</span></dt><dd>cell_x_size_at_u_location</dd><dt><span>long_name :</span></dt><dd>cell x size</dd><dt><span>units :</span></dt><dd>m</dd><dt><span>coordinate :</span></dt><dd>YC XG</dd></dl></div><div class='xr-var-data'><pre>[387072 values with dtype=float32]</pre></div></li><li class='xr-var-item'><div class='xr-var-name'><span>dyC</span></div><div class='xr-var-dims'>(YG, XC)</div><div class='xr-var-dtype'>float32</div><div class='xr-var-preview xr-preview'>...</div><input id='attrs-2b6be5e4-7921-4883-8a4e-e35adbd3d0e4' class='xr-var-attrs-in' type='checkbox' ><label for='attrs-2b6be5e4-7921-4883-8a4e-e35adbd3d0e4' title='Show/Hide attributes'><svg class='icon xr-icon-file-text2'><use xlink:href='#icon-file-text2'></use></svg></label><input id='data-5b1b24c4-36e2-4d61-9a06-1ea8e96676ff' class='xr-var-data-in' type='checkbox'><label for='data-5b1b24c4-36e2-4d61-9a06-1ea8e96676ff' title='Show/Hide data repr'><svg class='icon xr-icon-database'><use xlink:href='#icon-database'></use></svg></label><div class='xr-var-attrs'><dl class='xr-attrs'><dt><span>standard_name :</span></dt><dd>cell_y_size_at_v_location</dd><dt><span>long_name :</span></dt><dd>cell y size</dd><dt><span>units :</span></dt><dd>m</dd><dt><span>coordinate :</span></dt><dd>YG XC</dd></dl></div><div class='xr-var-data'><pre>[387072 values with dtype=float32]</pre></div></li><li class='xr-var-item'><div class='xr-var-name'><span>rAw</span></div><div class='xr-var-dims'>(YC, XG)</div><div class='xr-var-dtype'>float32</div><div class='xr-var-preview xr-preview'>...</div><input id='attrs-ff31a7e9-9050-4af5-9f89-808e2879f7d4' class='xr-var-attrs-in' type='checkbox' ><label for='attrs-ff31a7e9-9050-4af5-9f89-808e2879f7d4' title='Show/Hide attributes'><svg class='icon xr-icon-file-text2'><use xlink:href='#icon-file-text2'></use></svg></label><input id='data-a24d6dc6-4fbd-47a9-8f94-85bda959182f' class='xr-var-data-in' type='checkbox'><label for='data-a24d6dc6-4fbd-47a9-8f94-85bda959182f' title='Show/Hide data repr'><svg class='icon xr-icon-database'><use xlink:href='#icon-database'></use></svg></label><div class='xr-var-attrs'><dl class='xr-attrs'><dt><span>standard_name :</span></dt><dd>cell_area_at_u_location</dd><dt><span>long_name :</span></dt><dd>cell area</dd><dt><span>units :</span></dt><dd>m2</dd><dt><span>coordinate :</span></dt><dd>YG XC</dd></dl></div><div class='xr-var-data'><pre>[387072 values with dtype=float32]</pre></div></li><li class='xr-var-item'><div class='xr-var-name'><span>rAs</span></div><div class='xr-var-dims'>(YG, XC)</div><div class='xr-var-dtype'>float32</div><div class='xr-var-preview xr-preview'>...</div><input id='attrs-569a5e39-478d-4c83-b841-ad3a663d8ae0' class='xr-var-attrs-in' type='checkbox' ><label for='attrs-569a5e39-478d-4c83-b841-ad3a663d8ae0' title='Show/Hide attributes'><svg class='icon xr-icon-file-text2'><use xlink:href='#icon-file-text2'></use></svg></label><input id='data-f701a959-d3d1-48d7-b195-0c208910751c' class='xr-var-data-in' type='checkbox'><label for='data-f701a959-d3d1-48d7-b195-0c208910751c' title='Show/Hide data repr'><svg class='icon xr-icon-database'><use xlink:href='#icon-database'></use></svg></label><div class='xr-var-attrs'><dl class='xr-attrs'><dt><span>standard_name :</span></dt><dd>cell_area_at_v_location</dd><dt><span>long_name :</span></dt><dd>cell area</dd><dt><span>units :</span></dt><dd>m2</dd><dt><span>coordinate :</span></dt><dd>YG XC</dd></dl></div><div class='xr-var-data'><pre>[387072 values with dtype=float32]</pre></div></li><li class='xr-var-item'><div class='xr-var-name'><span>maskInC</span></div><div class='xr-var-dims'>(YC, XC)</div><div class='xr-var-dtype'>bool</div><div class='xr-var-preview xr-preview'>...</div><input id='attrs-a3f3df61-3a20-4268-9ba3-4214fd79c679' class='xr-var-attrs-in' type='checkbox' ><label for='attrs-a3f3df61-3a20-4268-9ba3-4214fd79c679' title='Show/Hide attributes'><svg class='icon xr-icon-file-text2'><use xlink:href='#icon-file-text2'></use></svg></label><input id='data-b5ffa747-35ee-4bb3-9958-afc91709e243' class='xr-var-data-in' type='checkbox'><label for='data-b5ffa747-35ee-4bb3-9958-afc91709e243' title='Show/Hide data repr'><svg class='icon xr-icon-database'><use xlink:href='#icon-database'></use></svg></label><div class='xr-var-attrs'><dl class='xr-attrs'><dt><span>standard_name :</span></dt><dd>interior_2d_mask</dd><dt><span>long_name :</span></dt><dd>OBCS 2D interior mask at tracer location, zero beyond OB</dd><dt><span>units :</span></dt><dd></dd></dl></div><div class='xr-var-data'><pre>[387072 values with dtype=bool]</pre></div></li><li class='xr-var-item'><div class='xr-var-name'><span>maskInS</span></div><div class='xr-var-dims'>(YG, XC)</div><div class='xr-var-dtype'>bool</div><div class='xr-var-preview xr-preview'>...</div><input id='attrs-a387710c-4152-4c89-9f5e-d86930dab568' class='xr-var-attrs-in' type='checkbox' ><label for='attrs-a387710c-4152-4c89-9f5e-d86930dab568' title='Show/Hide attributes'><svg class='icon xr-icon-file-text2'><use xlink:href='#icon-file-text2'></use></svg></label><input id='data-f8ddc32b-f9df-49a2-81d7-8c352f2cbddd' class='xr-var-data-in' type='checkbox'><label for='data-f8ddc32b-f9df-49a2-81d7-8c352f2cbddd' title='Show/Hide data repr'><svg class='icon xr-icon-database'><use xlink:href='#icon-database'></use></svg></label><div class='xr-var-attrs'><dl class='xr-attrs'><dt><span>standard_name :</span></dt><dd>interior_2d_mask_at_v_location</dd><dt><span>long_name :</span></dt><dd>OBCS 2D interior mask at v location, zero on &amp; beyond OB</dd><dt><span>units :</span></dt><dd></dd></dl></div><div class='xr-var-data'><pre>[387072 values with dtype=bool]</pre></div></li><li class='xr-var-item'><div class='xr-var-name'><span>maskInW</span></div><div class='xr-var-dims'>(YC, XG)</div><div class='xr-var-dtype'>bool</div><div class='xr-var-preview xr-preview'>...</div><input id='attrs-8f6cee7b-05be-409b-9edb-b79692d8ab89' class='xr-var-attrs-in' type='checkbox' ><label for='attrs-8f6cee7b-05be-409b-9edb-b79692d8ab89' title='Show/Hide attributes'><svg class='icon xr-icon-file-text2'><use xlink:href='#icon-file-text2'></use></svg></label><input id='data-36d8273c-a2a4-458b-b450-de5c93483f00' class='xr-var-data-in' type='checkbox'><label for='data-36d8273c-a2a4-458b-b450-de5c93483f00' title='Show/Hide data repr'><svg class='icon xr-icon-database'><use xlink:href='#icon-database'></use></svg></label><div class='xr-var-attrs'><dl class='xr-attrs'><dt><span>standard_name :</span></dt><dd>interior_2d_mask_at_u_location</dd><dt><span>long_name :</span></dt><dd>OBCS 2D interior mask at u location, zero on &amp; beyond OB</dd><dt><span>units :</span></dt><dd></dd></dl></div><div class='xr-var-data'><pre>[387072 values with dtype=bool]</pre></div></li><li class='xr-var-item'><div class='xr-var-name'><span class='xr-has-index'>YC</span></div><div class='xr-var-dims'>(YC)</div><div class='xr-var-dtype'>float32</div><div class='xr-var-preview xr-preview'>31.01 31.03 31.05 ... 42.95 42.97</div><input id='attrs-5baf34e2-8328-461e-a7ed-52ff3419764e' class='xr-var-attrs-in' type='checkbox' ><label for='attrs-5baf34e2-8328-461e-a7ed-52ff3419764e' title='Show/Hide attributes'><svg class='icon xr-icon-file-text2'><use xlink:href='#icon-file-text2'></use></svg></label><input id='data-bf9694ee-2e4c-4d4f-b8be-18b34c886bb7' class='xr-var-data-in' type='checkbox'><label for='data-bf9694ee-2e4c-4d4f-b8be-18b34c886bb7' title='Show/Hide data repr'><svg class='icon xr-icon-database'><use xlink:href='#icon-database'></use></svg></label><div class='xr-var-attrs'><dl class='xr-attrs'><dt><span>standard_name :</span></dt><dd>latitude</dd><dt><span>long_name :</span></dt><dd>latitude</dd><dt><span>units :</span></dt><dd>degrees_north</dd><dt><span>coordinate :</span></dt><dd>YC XC</dd><dt><span>axis :</span></dt><dd>Y</dd></dl></div><div class='xr-var-data'><pre>array([31.0104, 31.0312, 31.052 , ..., 42.9288, 42.9496, 42.9704],\n",
       "      dtype=float32)</pre></div></li><li class='xr-var-item'><div class='xr-var-name'><span class='xr-has-index'>YG</span></div><div class='xr-var-dims'>(YG)</div><div class='xr-var-dtype'>float32</div><div class='xr-var-preview xr-preview'>31.0 31.02 31.04 ... 42.94 42.96</div><input id='attrs-ff6fcf23-25eb-4861-a99c-d896132054f1' class='xr-var-attrs-in' type='checkbox' ><label for='attrs-ff6fcf23-25eb-4861-a99c-d896132054f1' title='Show/Hide attributes'><svg class='icon xr-icon-file-text2'><use xlink:href='#icon-file-text2'></use></svg></label><input id='data-9efe5502-b9e1-4c0a-ae33-e9ac8ce5713c' class='xr-var-data-in' type='checkbox'><label for='data-9efe5502-b9e1-4c0a-ae33-e9ac8ce5713c' title='Show/Hide data repr'><svg class='icon xr-icon-database'><use xlink:href='#icon-database'></use></svg></label><div class='xr-var-attrs'><dl class='xr-attrs'><dt><span>standard_name :</span></dt><dd>latitude_at_f_location</dd><dt><span>long_name :</span></dt><dd>latitude</dd><dt><span>units :</span></dt><dd>degrees_north</dd><dt><span>coordinate :</span></dt><dd>YG XG</dd><dt><span>axis :</span></dt><dd>Y</dd><dt><span>c_grid_axis_shift :</span></dt><dd>-0.5</dd></dl></div><div class='xr-var-data'><pre>array([31.    , 31.0208, 31.0416, ..., 42.9184, 42.9392, 42.96  ],\n",
       "      dtype=float32)</pre></div></li><li class='xr-var-item'><div class='xr-var-name'><span class='xr-has-index'>Zp1</span></div><div class='xr-var-dims'>(Zp1)</div><div class='xr-var-dtype'>float32</div><div class='xr-var-preview xr-preview'>0.0 -1.0 -2.14 ... -6.52e+03 -7e+03</div><input id='attrs-08bc0b7e-4cae-47c2-b1f0-b1f5a77eef89' class='xr-var-attrs-in' type='checkbox' ><label for='attrs-08bc0b7e-4cae-47c2-b1f0-b1f5a77eef89' title='Show/Hide attributes'><svg class='icon xr-icon-file-text2'><use xlink:href='#icon-file-text2'></use></svg></label><input id='data-caaa87fa-4425-4625-ba25-7ab5320242f4' class='xr-var-data-in' type='checkbox'><label for='data-caaa87fa-4425-4625-ba25-7ab5320242f4' title='Show/Hide data repr'><svg class='icon xr-icon-database'><use xlink:href='#icon-database'></use></svg></label><div class='xr-var-attrs'><dl class='xr-attrs'><dt><span>standard_name :</span></dt><dd>depth_at_w_location</dd><dt><span>long_name :</span></dt><dd>vertical coordinate of cell interface</dd><dt><span>units :</span></dt><dd>m</dd><dt><span>positive :</span></dt><dd>down</dd><dt><span>axis :</span></dt><dd>Z</dd><dt><span>c_grid_axis_shift :</span></dt><dd>[-0.5  0.5]</dd></dl></div><div class='xr-var-data'><pre>array([ 0.00000e+00, -1.00000e+00, -2.14000e+00, -3.44000e+00, -4.93000e+00,\n",
       "       -6.63000e+00, -8.56000e+00, -1.07600e+01, -1.32600e+01, -1.61000e+01,\n",
       "       -1.93100e+01, -2.29400e+01, -2.70400e+01, -3.16500e+01, -3.68300e+01,\n",
       "       -4.26200e+01, -4.90900e+01, -5.62900e+01, -6.42700e+01, -7.31000e+01,\n",
       "       -8.28300e+01, -9.35200e+01, -1.05220e+02, -1.17980e+02, -1.31850e+02,\n",
       "       -1.46880e+02, -1.63100e+02, -1.80550e+02, -1.99250e+02, -2.19220e+02,\n",
       "       -2.40490e+02, -2.63050e+02, -2.86920e+02, -3.12090e+02, -3.38550e+02,\n",
       "       -3.66290e+02, -3.95290e+02, -4.25530e+02, -4.56980e+02, -4.89630e+02,\n",
       "       -5.23450e+02, -5.58420e+02, -5.94510e+02, -6.31710e+02, -6.70000e+02,\n",
       "       -7.09370e+02, -7.49820e+02, -7.91350e+02, -8.33970e+02, -8.77700e+02,\n",
       "       -9.22570e+02, -9.68620e+02, -1.01590e+03, -1.06446e+03, -1.11439e+03,\n",
       "       -1.16577e+03, -1.21870e+03, -1.27331e+03, -1.32973e+03, -1.38811e+03,\n",
       "       -1.44864e+03, -1.51151e+03, -1.57694e+03, -1.64518e+03, -1.71651e+03,\n",
       "       -1.79124e+03, -1.86971e+03, -1.95232e+03, -2.03949e+03, -2.13170e+03,\n",
       "       -2.22949e+03, -2.33345e+03, -2.44424e+03, -2.56259e+03, -2.68932e+03,\n",
       "       -2.82533e+03, -2.97163e+03, -3.12934e+03, -3.29969e+03, -3.48406e+03,\n",
       "       -3.68395e+03, -3.90104e+03, -4.13717e+03, -4.39438e+03, -4.67488e+03,\n",
       "       -4.98112e+03, -5.31576e+03, -5.68169e+03, -6.08207e+03, -6.52030e+03,\n",
       "       -7.00004e+03], dtype=float32)</pre></div></li><li class='xr-var-item'><div class='xr-var-name'><span>drC</span></div><div class='xr-var-dims'>(Zp1)</div><div class='xr-var-dtype'>float32</div><div class='xr-var-preview xr-preview'>...</div><input id='attrs-b6e230a2-10c0-4bc6-b5bc-d599d3b9697b' class='xr-var-attrs-in' type='checkbox' ><label for='attrs-b6e230a2-10c0-4bc6-b5bc-d599d3b9697b' title='Show/Hide attributes'><svg class='icon xr-icon-file-text2'><use xlink:href='#icon-file-text2'></use></svg></label><input id='data-c93ffaa5-1ba4-413b-ae20-fceee6afba7e' class='xr-var-data-in' type='checkbox'><label for='data-c93ffaa5-1ba4-413b-ae20-fceee6afba7e' title='Show/Hide data repr'><svg class='icon xr-icon-database'><use xlink:href='#icon-database'></use></svg></label><div class='xr-var-attrs'><dl class='xr-attrs'><dt><span>standard_name :</span></dt><dd>cell_z_size_at_w_location</dd><dt><span>long_name :</span></dt><dd>cell z size</dd><dt><span>units :</span></dt><dd>m</dd></dl></div><div class='xr-var-data'><pre>array([  0.5  ,   1.07 ,   1.22 ,   1.395,   1.595,   1.815,   2.065,   2.35 ,\n",
       "         2.67 ,   3.025,   3.42 ,   3.865,   4.355,   4.895,   5.485,   6.13 ,\n",
       "         6.835,   7.59 ,   8.405,   9.28 ,  10.21 ,  11.195,  12.23 ,  13.315,\n",
       "        14.45 ,  15.625,  16.835,  18.075,  19.335,  20.62 ,  21.915,  23.215,\n",
       "        24.52 ,  25.815,  27.1  ,  28.37 ,  29.62 ,  30.845,  32.05 ,  33.235,\n",
       "        34.395,  35.53 ,  36.645,  37.745,  38.83 ,  39.91 ,  40.99 ,  42.075,\n",
       "        43.175,  44.3  ,  45.46 ,  46.665,  47.92 ,  49.245,  50.655,  52.155,\n",
       "        53.77 ,  55.515,  57.4  ,  59.455,  61.7  ,  64.15 ,  66.835,  69.785,\n",
       "        73.03 ,  76.6  ,  80.54 ,  84.89 ,  89.69 ,  95.   , 100.875, 107.375,\n",
       "       114.57 , 122.54 , 131.37 , 141.155, 152.005, 164.03 , 177.36 , 192.13 ,\n",
       "       208.49 , 226.61 , 246.67 , 268.855, 293.37 , 320.44 , 350.285, 383.155,\n",
       "       419.305, 458.985, 239.87 ], dtype=float32)</pre></div></li><li class='xr-var-item'><div class='xr-var-name'><span>PHrefF</span></div><div class='xr-var-dims'>(Zp1)</div><div class='xr-var-dtype'>float32</div><div class='xr-var-preview xr-preview'>...</div><input id='attrs-49cdefa4-a549-4823-8816-7a628c0734f3' class='xr-var-attrs-in' type='checkbox' ><label for='attrs-49cdefa4-a549-4823-8816-7a628c0734f3' title='Show/Hide attributes'><svg class='icon xr-icon-file-text2'><use xlink:href='#icon-file-text2'></use></svg></label><input id='data-02e18b42-5900-4759-95f4-2682ff241187' class='xr-var-data-in' type='checkbox'><label for='data-02e18b42-5900-4759-95f4-2682ff241187' title='Show/Hide data repr'><svg class='icon xr-icon-database'><use xlink:href='#icon-database'></use></svg></label><div class='xr-var-attrs'><dl class='xr-attrs'><dt><span>standard_name :</span></dt><dd>cell_reference_pressure</dd><dt><span>long_name :</span></dt><dd>Reference Hydrostatic Pressure</dd><dt><span>units :</span></dt><dd>m2 s-2</dd></dl></div><div class='xr-var-data'><pre>array([0.000000e+00, 9.810000e+00, 2.099340e+01, 3.374640e+01, 4.836330e+01,\n",
       "       6.504030e+01, 8.397360e+01, 1.055556e+02, 1.300806e+02, 1.579410e+02,\n",
       "       1.894311e+02, 2.250414e+02, 2.652624e+02, 3.104865e+02, 3.613023e+02,\n",
       "       4.181022e+02, 4.815729e+02, 5.522049e+02, 6.304887e+02, 7.171110e+02,\n",
       "       8.125623e+02, 9.174312e+02, 1.032208e+03, 1.157384e+03, 1.293448e+03,\n",
       "       1.440893e+03, 1.600011e+03, 1.771196e+03, 1.954642e+03, 2.150548e+03,\n",
       "       2.359207e+03, 2.580521e+03, 2.814685e+03, 3.061603e+03, 3.321176e+03,\n",
       "       3.593305e+03, 3.877795e+03, 4.174449e+03, 4.482974e+03, 4.803271e+03,\n",
       "       5.135044e+03, 5.478100e+03, 5.832143e+03, 6.197075e+03, 6.572700e+03,\n",
       "       6.958920e+03, 7.355734e+03, 7.763144e+03, 8.181246e+03, 8.610237e+03,\n",
       "       9.050412e+03, 9.502162e+03, 9.965979e+03, 1.044235e+04, 1.093217e+04,\n",
       "       1.143620e+04, 1.195545e+04, 1.249117e+04, 1.304465e+04, 1.361736e+04,\n",
       "       1.421116e+04, 1.482791e+04, 1.546978e+04, 1.613922e+04, 1.683896e+04,\n",
       "       1.757206e+04, 1.834186e+04, 1.915226e+04, 2.000740e+04, 2.091198e+04,\n",
       "       2.187130e+04, 2.289114e+04, 2.397799e+04, 2.513901e+04, 2.638223e+04,\n",
       "       2.771649e+04, 2.915169e+04, 3.069883e+04, 3.236996e+04, 3.417863e+04,\n",
       "       3.613955e+04, 3.826920e+04, 4.058564e+04, 4.310887e+04, 4.586057e+04,\n",
       "       4.886479e+04, 5.214761e+04, 5.573738e+04, 5.966511e+04, 6.396414e+04,\n",
       "       6.867039e+04], dtype=float32)</pre></div></li><li class='xr-var-item'><div class='xr-var-name'><span>hFacC</span></div><div class='xr-var-dims'>(Z, YC, XC)</div><div class='xr-var-dtype'>float32</div><div class='xr-var-preview xr-preview'>...</div><input id='attrs-ad745bca-f897-4db4-a8e3-b6ee22a662be' class='xr-var-attrs-in' type='checkbox' ><label for='attrs-ad745bca-f897-4db4-a8e3-b6ee22a662be' title='Show/Hide attributes'><svg class='icon xr-icon-file-text2'><use xlink:href='#icon-file-text2'></use></svg></label><input id='data-3f1c868c-9afe-4d10-a90c-c188b63d1e3c' class='xr-var-data-in' type='checkbox'><label for='data-3f1c868c-9afe-4d10-a90c-c188b63d1e3c' title='Show/Hide data repr'><svg class='icon xr-icon-database'><use xlink:href='#icon-database'></use></svg></label><div class='xr-var-attrs'><dl class='xr-attrs'><dt><span>standard_name :</span></dt><dd>cell_vertical_fraction</dd><dt><span>long_name :</span></dt><dd>vertical fraction of open cell</dd></dl></div><div class='xr-var-data'><pre>[34836480 values with dtype=float32]</pre></div></li><li class='xr-var-item'><div class='xr-var-name'><span>hFacW</span></div><div class='xr-var-dims'>(Z, YC, XG)</div><div class='xr-var-dtype'>float32</div><div class='xr-var-preview xr-preview'>...</div><input id='attrs-b1c76870-387a-48b4-89c2-3568ab696675' class='xr-var-attrs-in' type='checkbox' ><label for='attrs-b1c76870-387a-48b4-89c2-3568ab696675' title='Show/Hide attributes'><svg class='icon xr-icon-file-text2'><use xlink:href='#icon-file-text2'></use></svg></label><input id='data-a6ed96fc-1802-47d6-b248-17f5f5ceef05' class='xr-var-data-in' type='checkbox'><label for='data-a6ed96fc-1802-47d6-b248-17f5f5ceef05' title='Show/Hide data repr'><svg class='icon xr-icon-database'><use xlink:href='#icon-database'></use></svg></label><div class='xr-var-attrs'><dl class='xr-attrs'><dt><span>standard_name :</span></dt><dd>cell_vertical_fraction_at_u_location</dd><dt><span>long_name :</span></dt><dd>vertical fraction of open cell</dd></dl></div><div class='xr-var-data'><pre>[34836480 values with dtype=float32]</pre></div></li><li class='xr-var-item'><div class='xr-var-name'><span>hFacS</span></div><div class='xr-var-dims'>(Z, YG, XC)</div><div class='xr-var-dtype'>float32</div><div class='xr-var-preview xr-preview'>...</div><input id='attrs-4a22ccc8-f4fe-4e62-bbe4-278d95f1c525' class='xr-var-attrs-in' type='checkbox' ><label for='attrs-4a22ccc8-f4fe-4e62-bbe4-278d95f1c525' title='Show/Hide attributes'><svg class='icon xr-icon-file-text2'><use xlink:href='#icon-file-text2'></use></svg></label><input id='data-4e5e55fb-fda5-474b-a2a1-87d79311ea97' class='xr-var-data-in' type='checkbox'><label for='data-4e5e55fb-fda5-474b-a2a1-87d79311ea97' title='Show/Hide data repr'><svg class='icon xr-icon-database'><use xlink:href='#icon-database'></use></svg></label><div class='xr-var-attrs'><dl class='xr-attrs'><dt><span>standard_name :</span></dt><dd>cell_vertical_fraction_at_v_location</dd><dt><span>long_name :</span></dt><dd>vertical fraction of open cell</dd></dl></div><div class='xr-var-data'><pre>[34836480 values with dtype=float32]</pre></div></li><li class='xr-var-item'><div class='xr-var-name'><span>maskC</span></div><div class='xr-var-dims'>(Z, YC, XC)</div><div class='xr-var-dtype'>bool</div><div class='xr-var-preview xr-preview'>...</div><input id='attrs-692109d8-2b3c-40da-817e-32d6de9176ac' class='xr-var-attrs-in' type='checkbox' ><label for='attrs-692109d8-2b3c-40da-817e-32d6de9176ac' title='Show/Hide attributes'><svg class='icon xr-icon-file-text2'><use xlink:href='#icon-file-text2'></use></svg></label><input id='data-4a4307c1-7db0-46ea-8b86-ffa5f33632ce' class='xr-var-data-in' type='checkbox'><label for='data-4a4307c1-7db0-46ea-8b86-ffa5f33632ce' title='Show/Hide data repr'><svg class='icon xr-icon-database'><use xlink:href='#icon-database'></use></svg></label><div class='xr-var-attrs'><dl class='xr-attrs'><dt><span>standard_name :</span></dt><dd>sea_binary_mask_at_t_location</dd><dt><span>long_name :</span></dt><dd>mask denoting wet point at center</dd></dl></div><div class='xr-var-data'><pre>[34836480 values with dtype=bool]</pre></div></li><li class='xr-var-item'><div class='xr-var-name'><span>maskW</span></div><div class='xr-var-dims'>(Z, YC, XG)</div><div class='xr-var-dtype'>bool</div><div class='xr-var-preview xr-preview'>...</div><input id='attrs-c2feab0e-cce5-4499-83c4-c6c2a9abfdf6' class='xr-var-attrs-in' type='checkbox' ><label for='attrs-c2feab0e-cce5-4499-83c4-c6c2a9abfdf6' title='Show/Hide attributes'><svg class='icon xr-icon-file-text2'><use xlink:href='#icon-file-text2'></use></svg></label><input id='data-2fc4ea5f-2335-4f07-8faf-ccc762d49c4f' class='xr-var-data-in' type='checkbox'><label for='data-2fc4ea5f-2335-4f07-8faf-ccc762d49c4f' title='Show/Hide data repr'><svg class='icon xr-icon-database'><use xlink:href='#icon-database'></use></svg></label><div class='xr-var-attrs'><dl class='xr-attrs'><dt><span>standard_name :</span></dt><dd>cell_vertical_fraction_at_u_location</dd><dt><span>long_name :</span></dt><dd>mask denoting wet point at interface</dd></dl></div><div class='xr-var-data'><pre>[34836480 values with dtype=bool]</pre></div></li><li class='xr-var-item'><div class='xr-var-name'><span>maskS</span></div><div class='xr-var-dims'>(Z, YG, XC)</div><div class='xr-var-dtype'>bool</div><div class='xr-var-preview xr-preview'>...</div><input id='attrs-d5629b3c-465d-437b-8d36-985a0a184817' class='xr-var-attrs-in' type='checkbox' ><label for='attrs-d5629b3c-465d-437b-8d36-985a0a184817' title='Show/Hide attributes'><svg class='icon xr-icon-file-text2'><use xlink:href='#icon-file-text2'></use></svg></label><input id='data-3b0e8145-e615-4200-802d-a5467e8557e1' class='xr-var-data-in' type='checkbox'><label for='data-3b0e8145-e615-4200-802d-a5467e8557e1' title='Show/Hide data repr'><svg class='icon xr-icon-database'><use xlink:href='#icon-database'></use></svg></label><div class='xr-var-attrs'><dl class='xr-attrs'><dt><span>standard_name :</span></dt><dd>cell_vertical_fraction_at_v_location</dd><dt><span>long_name :</span></dt><dd>mask denoting wet point at interface</dd></dl></div><div class='xr-var-data'><pre>[34836480 values with dtype=bool]</pre></div></li><li class='xr-var-item'><div class='xr-var-name'><span class='xr-has-index'>Z</span></div><div class='xr-var-dims'>(Z)</div><div class='xr-var-dtype'>float32</div><div class='xr-var-preview xr-preview'>-0.5 -1.57 ... -6.301e+03 -6.76e+03</div><input id='attrs-d83f7904-e94a-4357-a943-29cc29f71ac5' class='xr-var-attrs-in' type='checkbox' ><label for='attrs-d83f7904-e94a-4357-a943-29cc29f71ac5' title='Show/Hide attributes'><svg class='icon xr-icon-file-text2'><use xlink:href='#icon-file-text2'></use></svg></label><input id='data-f2753837-401a-4e80-bfe3-a4f799562f71' class='xr-var-data-in' type='checkbox'><label for='data-f2753837-401a-4e80-bfe3-a4f799562f71' title='Show/Hide data repr'><svg class='icon xr-icon-database'><use xlink:href='#icon-database'></use></svg></label><div class='xr-var-attrs'><dl class='xr-attrs'><dt><span>standard_name :</span></dt><dd>depth</dd><dt><span>long_name :</span></dt><dd>vertical coordinate of cell center</dd><dt><span>units :</span></dt><dd>m</dd><dt><span>positive :</span></dt><dd>down</dd><dt><span>axis :</span></dt><dd>Z</dd></dl></div><div class='xr-var-data'><pre>array([-5.000000e-01, -1.570000e+00, -2.790000e+00, -4.185000e+00,\n",
       "       -5.780000e+00, -7.595000e+00, -9.660000e+00, -1.201000e+01,\n",
       "       -1.468000e+01, -1.770500e+01, -2.112500e+01, -2.499000e+01,\n",
       "       -2.934500e+01, -3.424000e+01, -3.972500e+01, -4.585500e+01,\n",
       "       -5.269000e+01, -6.028000e+01, -6.868500e+01, -7.796500e+01,\n",
       "       -8.817500e+01, -9.937000e+01, -1.116000e+02, -1.249150e+02,\n",
       "       -1.393650e+02, -1.549900e+02, -1.718250e+02, -1.899000e+02,\n",
       "       -2.092350e+02, -2.298550e+02, -2.517700e+02, -2.749850e+02,\n",
       "       -2.995050e+02, -3.253200e+02, -3.524200e+02, -3.807900e+02,\n",
       "       -4.104100e+02, -4.412550e+02, -4.733050e+02, -5.065400e+02,\n",
       "       -5.409350e+02, -5.764650e+02, -6.131100e+02, -6.508550e+02,\n",
       "       -6.896850e+02, -7.295950e+02, -7.705850e+02, -8.126600e+02,\n",
       "       -8.558350e+02, -9.001350e+02, -9.455950e+02, -9.922600e+02,\n",
       "       -1.040180e+03, -1.089425e+03, -1.140080e+03, -1.192235e+03,\n",
       "       -1.246005e+03, -1.301520e+03, -1.358920e+03, -1.418375e+03,\n",
       "       -1.480075e+03, -1.544225e+03, -1.611060e+03, -1.680845e+03,\n",
       "       -1.753875e+03, -1.830475e+03, -1.911015e+03, -1.995905e+03,\n",
       "       -2.085595e+03, -2.180595e+03, -2.281470e+03, -2.388845e+03,\n",
       "       -2.503415e+03, -2.625955e+03, -2.757325e+03, -2.898480e+03,\n",
       "       -3.050485e+03, -3.214515e+03, -3.391875e+03, -3.584005e+03,\n",
       "       -3.792495e+03, -4.019105e+03, -4.265775e+03, -4.534630e+03,\n",
       "       -4.828000e+03, -5.148440e+03, -5.498725e+03, -5.881880e+03,\n",
       "       -6.301185e+03, -6.760170e+03], dtype=float32)</pre></div></li><li class='xr-var-item'><div class='xr-var-name'><span class='xr-has-index'>Zu</span></div><div class='xr-var-dims'>(Zu)</div><div class='xr-var-dtype'>float32</div><div class='xr-var-preview xr-preview'>-1.0 -2.14 ... -6.52e+03 -7e+03</div><input id='attrs-bdfc5efe-daf8-4075-bf6b-a2aff8939598' class='xr-var-attrs-in' type='checkbox' ><label for='attrs-bdfc5efe-daf8-4075-bf6b-a2aff8939598' title='Show/Hide attributes'><svg class='icon xr-icon-file-text2'><use xlink:href='#icon-file-text2'></use></svg></label><input id='data-c71822a4-8e9f-4b24-bcaa-d9fbb5f745a6' class='xr-var-data-in' type='checkbox'><label for='data-c71822a4-8e9f-4b24-bcaa-d9fbb5f745a6' title='Show/Hide data repr'><svg class='icon xr-icon-database'><use xlink:href='#icon-database'></use></svg></label><div class='xr-var-attrs'><dl class='xr-attrs'><dt><span>standard_name :</span></dt><dd>depth_at_upper_w_location</dd><dt><span>long_name :</span></dt><dd>vertical coordinate of upper cell interface</dd><dt><span>units :</span></dt><dd>m</dd><dt><span>positive :</span></dt><dd>down</dd><dt><span>axis :</span></dt><dd>Z</dd><dt><span>c_grid_axis_shift :</span></dt><dd>0.5</dd></dl></div><div class='xr-var-data'><pre>array([-1.00000e+00, -2.14000e+00, -3.44000e+00, -4.93000e+00, -6.63000e+00,\n",
       "       -8.56000e+00, -1.07600e+01, -1.32600e+01, -1.61000e+01, -1.93100e+01,\n",
       "       -2.29400e+01, -2.70400e+01, -3.16500e+01, -3.68300e+01, -4.26200e+01,\n",
       "       -4.90900e+01, -5.62900e+01, -6.42700e+01, -7.31000e+01, -8.28300e+01,\n",
       "       -9.35200e+01, -1.05220e+02, -1.17980e+02, -1.31850e+02, -1.46880e+02,\n",
       "       -1.63100e+02, -1.80550e+02, -1.99250e+02, -2.19220e+02, -2.40490e+02,\n",
       "       -2.63050e+02, -2.86920e+02, -3.12090e+02, -3.38550e+02, -3.66290e+02,\n",
       "       -3.95290e+02, -4.25530e+02, -4.56980e+02, -4.89630e+02, -5.23450e+02,\n",
       "       -5.58420e+02, -5.94510e+02, -6.31710e+02, -6.70000e+02, -7.09370e+02,\n",
       "       -7.49820e+02, -7.91350e+02, -8.33970e+02, -8.77700e+02, -9.22570e+02,\n",
       "       -9.68620e+02, -1.01590e+03, -1.06446e+03, -1.11439e+03, -1.16577e+03,\n",
       "       -1.21870e+03, -1.27331e+03, -1.32973e+03, -1.38811e+03, -1.44864e+03,\n",
       "       -1.51151e+03, -1.57694e+03, -1.64518e+03, -1.71651e+03, -1.79124e+03,\n",
       "       -1.86971e+03, -1.95232e+03, -2.03949e+03, -2.13170e+03, -2.22949e+03,\n",
       "       -2.33345e+03, -2.44424e+03, -2.56259e+03, -2.68932e+03, -2.82533e+03,\n",
       "       -2.97163e+03, -3.12934e+03, -3.29969e+03, -3.48406e+03, -3.68395e+03,\n",
       "       -3.90104e+03, -4.13717e+03, -4.39438e+03, -4.67488e+03, -4.98112e+03,\n",
       "       -5.31576e+03, -5.68169e+03, -6.08207e+03, -6.52030e+03, -7.00004e+03],\n",
       "      dtype=float32)</pre></div></li><li class='xr-var-item'><div class='xr-var-name'><span class='xr-has-index'>Zl</span></div><div class='xr-var-dims'>(Zl)</div><div class='xr-var-dtype'>float32</div><div class='xr-var-preview xr-preview'>0.0 -1.0 ... -6.082e+03 -6.52e+03</div><input id='attrs-b595a532-b3f5-476a-be96-16c9a5845f51' class='xr-var-attrs-in' type='checkbox' ><label for='attrs-b595a532-b3f5-476a-be96-16c9a5845f51' title='Show/Hide attributes'><svg class='icon xr-icon-file-text2'><use xlink:href='#icon-file-text2'></use></svg></label><input id='data-739bdd2c-080f-482c-b280-340ef950be48' class='xr-var-data-in' type='checkbox'><label for='data-739bdd2c-080f-482c-b280-340ef950be48' title='Show/Hide data repr'><svg class='icon xr-icon-database'><use xlink:href='#icon-database'></use></svg></label><div class='xr-var-attrs'><dl class='xr-attrs'><dt><span>standard_name :</span></dt><dd>depth_at_lower_w_location</dd><dt><span>long_name :</span></dt><dd>vertical coordinate of lower cell interface</dd><dt><span>units :</span></dt><dd>m</dd><dt><span>positive :</span></dt><dd>down</dd><dt><span>axis :</span></dt><dd>Z</dd><dt><span>c_grid_axis_shift :</span></dt><dd>-0.5</dd></dl></div><div class='xr-var-data'><pre>array([ 0.00000e+00, -1.00000e+00, -2.14000e+00, -3.44000e+00, -4.93000e+00,\n",
       "       -6.63000e+00, -8.56000e+00, -1.07600e+01, -1.32600e+01, -1.61000e+01,\n",
       "       -1.93100e+01, -2.29400e+01, -2.70400e+01, -3.16500e+01, -3.68300e+01,\n",
       "       -4.26200e+01, -4.90900e+01, -5.62900e+01, -6.42700e+01, -7.31000e+01,\n",
       "       -8.28300e+01, -9.35200e+01, -1.05220e+02, -1.17980e+02, -1.31850e+02,\n",
       "       -1.46880e+02, -1.63100e+02, -1.80550e+02, -1.99250e+02, -2.19220e+02,\n",
       "       -2.40490e+02, -2.63050e+02, -2.86920e+02, -3.12090e+02, -3.38550e+02,\n",
       "       -3.66290e+02, -3.95290e+02, -4.25530e+02, -4.56980e+02, -4.89630e+02,\n",
       "       -5.23450e+02, -5.58420e+02, -5.94510e+02, -6.31710e+02, -6.70000e+02,\n",
       "       -7.09370e+02, -7.49820e+02, -7.91350e+02, -8.33970e+02, -8.77700e+02,\n",
       "       -9.22570e+02, -9.68620e+02, -1.01590e+03, -1.06446e+03, -1.11439e+03,\n",
       "       -1.16577e+03, -1.21870e+03, -1.27331e+03, -1.32973e+03, -1.38811e+03,\n",
       "       -1.44864e+03, -1.51151e+03, -1.57694e+03, -1.64518e+03, -1.71651e+03,\n",
       "       -1.79124e+03, -1.86971e+03, -1.95232e+03, -2.03949e+03, -2.13170e+03,\n",
       "       -2.22949e+03, -2.33345e+03, -2.44424e+03, -2.56259e+03, -2.68932e+03,\n",
       "       -2.82533e+03, -2.97163e+03, -3.12934e+03, -3.29969e+03, -3.48406e+03,\n",
       "       -3.68395e+03, -3.90104e+03, -4.13717e+03, -4.39438e+03, -4.67488e+03,\n",
       "       -4.98112e+03, -5.31576e+03, -5.68169e+03, -6.08207e+03, -6.52030e+03],\n",
       "      dtype=float32)</pre></div></li><li class='xr-var-item'><div class='xr-var-name'><span>drF</span></div><div class='xr-var-dims'>(Z)</div><div class='xr-var-dtype'>float32</div><div class='xr-var-preview xr-preview'>...</div><input id='attrs-f70dac65-610b-4e3d-871b-0a6a886866f5' class='xr-var-attrs-in' type='checkbox' ><label for='attrs-f70dac65-610b-4e3d-871b-0a6a886866f5' title='Show/Hide attributes'><svg class='icon xr-icon-file-text2'><use xlink:href='#icon-file-text2'></use></svg></label><input id='data-931db27a-bd17-44c0-9eb4-a52efe936308' class='xr-var-data-in' type='checkbox'><label for='data-931db27a-bd17-44c0-9eb4-a52efe936308' title='Show/Hide data repr'><svg class='icon xr-icon-database'><use xlink:href='#icon-database'></use></svg></label><div class='xr-var-attrs'><dl class='xr-attrs'><dt><span>standard_name :</span></dt><dd>cell_z_size</dd><dt><span>long_name :</span></dt><dd>cell z size</dd><dt><span>units :</span></dt><dd>m</dd></dl></div><div class='xr-var-data'><pre>array([  1.  ,   1.14,   1.3 ,   1.49,   1.7 ,   1.93,   2.2 ,   2.5 ,   2.84,\n",
       "         3.21,   3.63,   4.1 ,   4.61,   5.18,   5.79,   6.47,   7.2 ,   7.98,\n",
       "         8.83,   9.73,  10.69,  11.7 ,  12.76,  13.87,  15.03,  16.22,  17.45,\n",
       "        18.7 ,  19.97,  21.27,  22.56,  23.87,  25.17,  26.46,  27.74,  29.  ,\n",
       "        30.24,  31.45,  32.65,  33.82,  34.97,  36.09,  37.2 ,  38.29,  39.37,\n",
       "        40.45,  41.53,  42.62,  43.73,  44.87,  46.05,  47.28,  48.56,  49.93,\n",
       "        51.38,  52.93,  54.61,  56.42,  58.38,  60.53,  62.87,  65.43,  68.24,\n",
       "        71.33,  74.73,  78.47,  82.61,  87.17,  92.21,  97.79, 103.96, 110.79,\n",
       "       118.35, 126.73, 136.01, 146.3 , 157.71, 170.35, 184.37, 199.89, 217.09,\n",
       "       236.13, 257.21, 280.5 , 306.24, 334.64, 365.93, 400.38, 438.23, 479.74],\n",
       "      dtype=float32)</pre></div></li><li class='xr-var-item'><div class='xr-var-name'><span>PHrefC</span></div><div class='xr-var-dims'>(Z)</div><div class='xr-var-dtype'>float32</div><div class='xr-var-preview xr-preview'>...</div><input id='attrs-cbf02661-9a22-409f-b73e-4cf606ac4db9' class='xr-var-attrs-in' type='checkbox' ><label for='attrs-cbf02661-9a22-409f-b73e-4cf606ac4db9' title='Show/Hide attributes'><svg class='icon xr-icon-file-text2'><use xlink:href='#icon-file-text2'></use></svg></label><input id='data-54a1d89b-9096-4fc0-b4ac-ef95168681b8' class='xr-var-data-in' type='checkbox'><label for='data-54a1d89b-9096-4fc0-b4ac-ef95168681b8' title='Show/Hide data repr'><svg class='icon xr-icon-database'><use xlink:href='#icon-database'></use></svg></label><div class='xr-var-attrs'><dl class='xr-attrs'><dt><span>standard_name :</span></dt><dd>cell_reference_pressure</dd><dt><span>long_name :</span></dt><dd>Reference Hydrostatic Pressure</dd><dt><span>units :</span></dt><dd>m2 s-2</dd></dl></div><div class='xr-var-data'><pre>array([4.905000e+00, 1.540170e+01, 2.736990e+01, 4.105485e+01, 5.670180e+01,\n",
       "       7.450695e+01, 9.476460e+01, 1.178181e+02, 1.440108e+02, 1.736861e+02,\n",
       "       2.072363e+02, 2.451519e+02, 2.878745e+02, 3.358944e+02, 3.897022e+02,\n",
       "       4.498376e+02, 5.168889e+02, 5.913468e+02, 6.737999e+02, 7.648367e+02,\n",
       "       8.649968e+02, 9.748197e+02, 1.094796e+03, 1.225416e+03, 1.367171e+03,\n",
       "       1.520452e+03, 1.685603e+03, 1.862919e+03, 2.052595e+03, 2.254877e+03,\n",
       "       2.469864e+03, 2.697603e+03, 2.938144e+03, 3.191389e+03, 3.457240e+03,\n",
       "       3.735550e+03, 4.026122e+03, 4.328711e+03, 4.643122e+03, 4.969157e+03,\n",
       "       5.306572e+03, 5.655122e+03, 6.014609e+03, 6.384888e+03, 6.765810e+03,\n",
       "       7.157327e+03, 7.559439e+03, 7.972195e+03, 8.395741e+03, 8.830324e+03,\n",
       "       9.276287e+03, 9.734070e+03, 1.020417e+04, 1.068726e+04, 1.118418e+04,\n",
       "       1.169583e+04, 1.222331e+04, 1.276791e+04, 1.333100e+04, 1.391426e+04,\n",
       "       1.451954e+04, 1.514885e+04, 1.580450e+04, 1.648909e+04, 1.720551e+04,\n",
       "       1.795696e+04, 1.874706e+04, 1.957983e+04, 2.045969e+04, 2.139164e+04,\n",
       "       2.238122e+04, 2.343457e+04, 2.455850e+04, 2.576062e+04, 2.704936e+04,\n",
       "       2.843409e+04, 2.992526e+04, 3.153439e+04, 3.327429e+04, 3.515909e+04,\n",
       "       3.720438e+04, 3.942742e+04, 4.184725e+04, 4.448472e+04, 4.736268e+04,\n",
       "       5.050620e+04, 5.394249e+04, 5.770124e+04, 6.181462e+04, 6.631727e+04],\n",
       "      dtype=float32)</pre></div></li><li class='xr-var-item'><div class='xr-var-name'><span>rhoRef</span></div><div class='xr-var-dims'>(Z)</div><div class='xr-var-dtype'>float32</div><div class='xr-var-preview xr-preview'>...</div><input id='attrs-de116ddb-42e8-4d59-ab3e-982639c61e68' class='xr-var-attrs-in' type='checkbox' ><label for='attrs-de116ddb-42e8-4d59-ab3e-982639c61e68' title='Show/Hide attributes'><svg class='icon xr-icon-file-text2'><use xlink:href='#icon-file-text2'></use></svg></label><input id='data-edd05a3d-373c-4870-affc-3ab9f7ab402c' class='xr-var-data-in' type='checkbox'><label for='data-edd05a3d-373c-4870-affc-3ab9f7ab402c' title='Show/Hide data repr'><svg class='icon xr-icon-database'><use xlink:href='#icon-database'></use></svg></label><div class='xr-var-attrs'><dl class='xr-attrs'><dt><span>standard_name :</span></dt><dd>reference_density_profile</dd><dt><span>long_name :</span></dt><dd>1D, vertical reference density profile</dd><dt><span>coordinate :</span></dt><dd>Z</dd><dt><span>units :</span></dt><dd>kg m-3</dd></dl></div><div class='xr-var-data'><pre>array([1024.9302, 1024.9349, 1024.9402, 1024.9463, 1024.9532, 1024.9663,\n",
       "       1024.988 , 1025.006 , 1025.0227, 1025.0613, 1025.1041, 1025.1488,\n",
       "       1025.2181, 1025.2922, 1025.3861, 1025.4922, 1025.6106, 1025.7365,\n",
       "       1025.8746, 1026.0178, 1026.1733, 1026.3364, 1026.5038, 1026.6709,\n",
       "       1026.8474, 1027.0156, 1027.1869, 1027.3572, 1027.5192, 1027.681 ,\n",
       "       1027.8448, 1028.009 , 1028.1698, 1028.3354, 1028.5106, 1028.6818,\n",
       "       1028.8622, 1029.0466, 1029.2292, 1029.4178, 1029.611 , 1029.8038,\n",
       "       1030.0076, 1030.2144, 1030.4227, 1030.6433, 1030.8579, 1031.085 ,\n",
       "       1031.3204, 1031.553 , 1031.7958, 1032.0348, 1032.2858, 1032.5415,\n",
       "       1032.8021, 1033.0682, 1033.3389, 1033.6188, 1033.9059, 1034.2008,\n",
       "       1034.5059, 1034.8219, 1035.1487, 1035.4808, 1035.8352, 1036.1951,\n",
       "       1036.5817, 1036.9784, 1037.4042, 1037.8441, 1038.31  , 1038.8043,\n",
       "       1039.3395, 1039.8922, 1040.4911, 1041.1321, 1041.8198, 1042.559 ,\n",
       "       1043.3546, 1044.2142, 1045.1346, 1046.1382, 1047.2224, 1048.3892,\n",
       "       1049.6521, 1051.0057, 1052.4714, 1054.0743, 1055.8121, 1057.6947],\n",
       "      dtype=float32)</pre></div></li><li class='xr-var-item'><div class='xr-var-name'><span>iter</span></div><div class='xr-var-dims'>()</div><div class='xr-var-dtype'>int32</div><div class='xr-var-preview xr-preview'>...</div><input id='attrs-46f45823-cbdd-48a8-951a-150415003265' class='xr-var-attrs-in' type='checkbox' ><label for='attrs-46f45823-cbdd-48a8-951a-150415003265' title='Show/Hide attributes'><svg class='icon xr-icon-file-text2'><use xlink:href='#icon-file-text2'></use></svg></label><input id='data-2e612a56-e9fe-4129-8867-87058719012c' class='xr-var-data-in' type='checkbox'><label for='data-2e612a56-e9fe-4129-8867-87058719012c' title='Show/Hide data repr'><svg class='icon xr-icon-database'><use xlink:href='#icon-database'></use></svg></label><div class='xr-var-attrs'><dl class='xr-attrs'><dt><span>standard_name :</span></dt><dd>timestep</dd><dt><span>long_name :</span></dt><dd>model timestep number</dd></dl></div><div class='xr-var-data'><pre>array(2880, dtype=int32)</pre></div></li><li class='xr-var-item'><div class='xr-var-name'><span>time</span></div><div class='xr-var-dims'>()</div><div class='xr-var-dtype'>datetime64[ns]</div><div class='xr-var-preview xr-preview'>...</div><input id='attrs-8ae6eb07-f301-4f8d-bc47-0431d44d5844' class='xr-var-attrs-in' type='checkbox' ><label for='attrs-8ae6eb07-f301-4f8d-bc47-0431d44d5844' title='Show/Hide attributes'><svg class='icon xr-icon-file-text2'><use xlink:href='#icon-file-text2'></use></svg></label><input id='data-cd8188c8-507e-407d-b62b-e8661bcffdfc' class='xr-var-data-in' type='checkbox'><label for='data-cd8188c8-507e-407d-b62b-e8661bcffdfc' title='Show/Hide data repr'><svg class='icon xr-icon-database'><use xlink:href='#icon-database'></use></svg></label><div class='xr-var-attrs'><dl class='xr-attrs'><dt><span>standard_name :</span></dt><dd>time</dd><dt><span>long_name :</span></dt><dd>Time</dd><dt><span>axis :</span></dt><dd>T</dd></dl></div><div class='xr-var-data'><pre>array(&#x27;2015-01-06T02:00:00.000000000&#x27;, dtype=&#x27;datetime64[ns]&#x27;)</pre></div></li></ul></div></li><li class='xr-section-item'><input id='section-f0c676f0-eb77-4369-891c-e989ffc054c0' class='xr-section-summary-in' type='checkbox'  checked><label for='section-f0c676f0-eb77-4369-891c-e989ffc054c0' class='xr-section-summary' >Data variables: <span>(7)</span></label><div class='xr-section-inline-details'></div><div class='xr-section-details'><ul class='xr-var-list'><li class='xr-var-item'><div class='xr-var-name'><span>THETA</span></div><div class='xr-var-dims'>(Z, YC, XC)</div><div class='xr-var-dtype'>float32</div><div class='xr-var-preview xr-preview'>...</div><input id='attrs-5a7e48ce-89ab-4689-aa3e-7e1505e16009' class='xr-var-attrs-in' type='checkbox' ><label for='attrs-5a7e48ce-89ab-4689-aa3e-7e1505e16009' title='Show/Hide attributes'><svg class='icon xr-icon-file-text2'><use xlink:href='#icon-file-text2'></use></svg></label><input id='data-67c36217-3b05-43d6-9b6e-c4af131715d8' class='xr-var-data-in' type='checkbox'><label for='data-67c36217-3b05-43d6-9b6e-c4af131715d8' title='Show/Hide data repr'><svg class='icon xr-icon-database'><use xlink:href='#icon-database'></use></svg></label><div class='xr-var-attrs'><dl class='xr-attrs'><dt><span>standard_name :</span></dt><dd>THETA</dd><dt><span>long_name :</span></dt><dd>Potential Temperature</dd><dt><span>units :</span></dt><dd>degC</dd></dl></div><div class='xr-var-data'><pre>[34836480 values with dtype=float32]</pre></div></li><li class='xr-var-item'><div class='xr-var-name'><span>SALT</span></div><div class='xr-var-dims'>(Z, YC, XC)</div><div class='xr-var-dtype'>float32</div><div class='xr-var-preview xr-preview'>...</div><input id='attrs-951b25d9-7958-46d2-ade5-3a074e2ed4c7' class='xr-var-attrs-in' type='checkbox' ><label for='attrs-951b25d9-7958-46d2-ade5-3a074e2ed4c7' title='Show/Hide attributes'><svg class='icon xr-icon-file-text2'><use xlink:href='#icon-file-text2'></use></svg></label><input id='data-bd0f3abb-f06b-4f6c-b10b-10433eca5551' class='xr-var-data-in' type='checkbox'><label for='data-bd0f3abb-f06b-4f6c-b10b-10433eca5551' title='Show/Hide data repr'><svg class='icon xr-icon-database'><use xlink:href='#icon-database'></use></svg></label><div class='xr-var-attrs'><dl class='xr-attrs'><dt><span>standard_name :</span></dt><dd>SALT</dd><dt><span>long_name :</span></dt><dd>Salinity</dd><dt><span>units :</span></dt><dd>g/kg</dd></dl></div><div class='xr-var-data'><pre>[34836480 values with dtype=float32]</pre></div></li><li class='xr-var-item'><div class='xr-var-name'><span>UVEL</span></div><div class='xr-var-dims'>(Z, YC, XG)</div><div class='xr-var-dtype'>float32</div><div class='xr-var-preview xr-preview'>...</div><input id='attrs-47ecc459-ca84-4f63-9935-34ca2d1baeed' class='xr-var-attrs-in' type='checkbox' ><label for='attrs-47ecc459-ca84-4f63-9935-34ca2d1baeed' title='Show/Hide attributes'><svg class='icon xr-icon-file-text2'><use xlink:href='#icon-file-text2'></use></svg></label><input id='data-1b7a543d-c41a-417b-ab8e-94a694aaff80' class='xr-var-data-in' type='checkbox'><label for='data-1b7a543d-c41a-417b-ab8e-94a694aaff80' title='Show/Hide data repr'><svg class='icon xr-icon-database'><use xlink:href='#icon-database'></use></svg></label><div class='xr-var-attrs'><dl class='xr-attrs'><dt><span>standard_name :</span></dt><dd>UVEL</dd><dt><span>long_name :</span></dt><dd>Zonal Component of Velocity (m/s)</dd><dt><span>units :</span></dt><dd>m/s</dd><dt><span>mate :</span></dt><dd>VVEL</dd></dl></div><div class='xr-var-data'><pre>[34836480 values with dtype=float32]</pre></div></li><li class='xr-var-item'><div class='xr-var-name'><span>VVEL</span></div><div class='xr-var-dims'>(Z, YG, XC)</div><div class='xr-var-dtype'>float32</div><div class='xr-var-preview xr-preview'>...</div><input id='attrs-558cd1c6-8d20-4d62-9ac3-00db767af071' class='xr-var-attrs-in' type='checkbox' ><label for='attrs-558cd1c6-8d20-4d62-9ac3-00db767af071' title='Show/Hide attributes'><svg class='icon xr-icon-file-text2'><use xlink:href='#icon-file-text2'></use></svg></label><input id='data-465176f3-f3d2-4493-a09c-6fb82c389981' class='xr-var-data-in' type='checkbox'><label for='data-465176f3-f3d2-4493-a09c-6fb82c389981' title='Show/Hide data repr'><svg class='icon xr-icon-database'><use xlink:href='#icon-database'></use></svg></label><div class='xr-var-attrs'><dl class='xr-attrs'><dt><span>standard_name :</span></dt><dd>VVEL</dd><dt><span>long_name :</span></dt><dd>Meridional Component of Velocity (m/s)</dd><dt><span>units :</span></dt><dd>m/s</dd><dt><span>mate :</span></dt><dd>UVEL</dd></dl></div><div class='xr-var-data'><pre>[34836480 values with dtype=float32]</pre></div></li><li class='xr-var-item'><div class='xr-var-name'><span>WVEL</span></div><div class='xr-var-dims'>(Zl, YC, XC)</div><div class='xr-var-dtype'>float32</div><div class='xr-var-preview xr-preview'>...</div><input id='attrs-751244b2-b882-49b0-8d69-c97d46de226c' class='xr-var-attrs-in' type='checkbox' ><label for='attrs-751244b2-b882-49b0-8d69-c97d46de226c' title='Show/Hide attributes'><svg class='icon xr-icon-file-text2'><use xlink:href='#icon-file-text2'></use></svg></label><input id='data-c2b88c37-0aae-4b26-986d-636986b23254' class='xr-var-data-in' type='checkbox'><label for='data-c2b88c37-0aae-4b26-986d-636986b23254' title='Show/Hide data repr'><svg class='icon xr-icon-database'><use xlink:href='#icon-database'></use></svg></label><div class='xr-var-attrs'><dl class='xr-attrs'><dt><span>standard_name :</span></dt><dd>WVEL</dd><dt><span>long_name :</span></dt><dd>Vertical Component of Velocity (r_units/s)</dd><dt><span>units :</span></dt><dd>m/s</dd></dl></div><div class='xr-var-data'><pre>[34836480 values with dtype=float32]</pre></div></li><li class='xr-var-item'><div class='xr-var-name'><span>PHIHYD</span></div><div class='xr-var-dims'>(Z, YC, XC)</div><div class='xr-var-dtype'>float32</div><div class='xr-var-preview xr-preview'>...</div><input id='attrs-3dc628fc-e8e3-4592-8a1c-f99e9ca8dcfe' class='xr-var-attrs-in' type='checkbox' ><label for='attrs-3dc628fc-e8e3-4592-8a1c-f99e9ca8dcfe' title='Show/Hide attributes'><svg class='icon xr-icon-file-text2'><use xlink:href='#icon-file-text2'></use></svg></label><input id='data-aa955a4b-2464-491e-aacd-e25dd7da7e5e' class='xr-var-data-in' type='checkbox'><label for='data-aa955a4b-2464-491e-aacd-e25dd7da7e5e' title='Show/Hide data repr'><svg class='icon xr-icon-database'><use xlink:href='#icon-database'></use></svg></label><div class='xr-var-attrs'><dl class='xr-attrs'><dt><span>standard_name :</span></dt><dd>PHIHYD</dd><dt><span>long_name :</span></dt><dd>Hydrostatic Pressure Pot.(p/rho) Anomaly</dd><dt><span>units :</span></dt><dd>m^2/s^2</dd></dl></div><div class='xr-var-data'><pre>[34836480 values with dtype=float32]</pre></div></li><li class='xr-var-item'><div class='xr-var-name'><span>DRHODR</span></div><div class='xr-var-dims'>(Zl, YC, XC)</div><div class='xr-var-dtype'>float32</div><div class='xr-var-preview xr-preview'>...</div><input id='attrs-9f4a254a-2232-46a2-a5bb-57f975280f29' class='xr-var-attrs-in' type='checkbox' ><label for='attrs-9f4a254a-2232-46a2-a5bb-57f975280f29' title='Show/Hide attributes'><svg class='icon xr-icon-file-text2'><use xlink:href='#icon-file-text2'></use></svg></label><input id='data-d502d594-c9fe-4796-9298-6f6748c21ff7' class='xr-var-data-in' type='checkbox'><label for='data-d502d594-c9fe-4796-9298-6f6748c21ff7' title='Show/Hide data repr'><svg class='icon xr-icon-database'><use xlink:href='#icon-database'></use></svg></label><div class='xr-var-attrs'><dl class='xr-attrs'><dt><span>standard_name :</span></dt><dd>DRHODR</dd><dt><span>long_name :</span></dt><dd>Stratification: d.Sigma/dr (kg/m3/r_unit)</dd><dt><span>units :</span></dt><dd>kg/m^4</dd></dl></div><div class='xr-var-data'><pre>[34836480 values with dtype=float32]</pre></div></li></ul></div></li><li class='xr-section-item'><input id='section-9a10a05a-2d88-4f2a-b681-3ab1ea75c575' class='xr-section-summary-in' type='checkbox'  checked><label for='section-9a10a05a-2d88-4f2a-b681-3ab1ea75c575' class='xr-section-summary' >Attributes: <span>(4)</span></label><div class='xr-section-inline-details'></div><div class='xr-section-details'><dl class='xr-attrs'><dt><span>Conventions :</span></dt><dd>CF-1.6</dd><dt><span>title :</span></dt><dd>netCDF wrapper of MITgcm MDS binary data</dd><dt><span>source :</span></dt><dd>MITgcm</dd><dt><span>history :</span></dt><dd>Created by calling `open_mdsdataset(grid_dir=&#x27;/data/SO2/SWOT/GRID/BIN&#x27;, iters=None, prefix=[&#x27;diag_state&#x27;], read_grid=True, delta_t=150, ref_date=&#x27;2015-01-01 2:0:0&#x27;, calendar=&#x27;gregorian&#x27;, geometry=&#x27;sphericalpolar&#x27;, grid_vars_to_coords=False, swap_dims=False, endian=&#x27;&gt;&#x27;, chunks={}, ignore_unknown_vars=False, default_dtype=None, nx=None, ny=None, nz=None, llc_method=&#x27;smallchunks&#x27;, extra_metadata=None, extra_variables=None, data_dir=&#x27;/data/SO2/SWOT/MARA/RUN2/&#x27;, levels=None)`</dd></dl></div></li></ul></div></div>"
      ],
      "text/plain": [
       "<xarray.Dataset>\n",
       "Dimensions:  (XC: 672, XG: 672, YC: 576, YG: 576, Zp1: 91, Z: 90, Zl: 90, Zu: 90)\n",
       "Coordinates: (12/33)\n",
       "  * XC       (XC) float32 230.0 230.0 230.1 230.1 ... 243.9 243.9 243.9 244.0\n",
       "  * XG       (XG) float32 230.0 230.0 230.0 230.1 ... 243.9 243.9 243.9 244.0\n",
       "    rA       (YC, XC) float32 ...\n",
       "    dxG      (YG, XC) float32 ...\n",
       "    dyG      (YC, XG) float32 ...\n",
       "    Depth    (YC, XC) float32 ...\n",
       "    ...       ...\n",
       "  * Zl       (Zl) float32 0.0 -1.0 -2.14 ... -5.682e+03 -6.082e+03 -6.52e+03\n",
       "    drF      (Z) float32 ...\n",
       "    PHrefC   (Z) float32 ...\n",
       "    rhoRef   (Z) float32 ...\n",
       "    iter     int32 ...\n",
       "    time     datetime64[ns] ...\n",
       "Data variables:\n",
       "    THETA    (Z, YC, XC) float32 ...\n",
       "    SALT     (Z, YC, XC) float32 ...\n",
       "    UVEL     (Z, YC, XG) float32 ...\n",
       "    VVEL     (Z, YG, XC) float32 ...\n",
       "    WVEL     (Zl, YC, XC) float32 ...\n",
       "    PHIHYD   (Z, YC, XC) float32 ...\n",
       "    DRHODR   (Zl, YC, XC) float32 ...\n",
       "Attributes:\n",
       "    Conventions:  CF-1.6\n",
       "    title:        netCDF wrapper of MITgcm MDS binary data\n",
       "    source:       MITgcm\n",
       "    history:      Created by calling `open_mdsdataset(grid_dir='/data/SO2/SWO..."
      ]
     },
     "execution_count": 3,
     "metadata": {},
     "output_type": "execute_result"
    }
   ],
   "source": [
    "state_ds = xr.open_dataset('../../Rossby_wave_test_case/MARA_RUN2_SWOT_state_2015-01-06.nc')\n",
    "state_ds #.PHIHYD #, state_ds.DRHODR"
   ]
  },
  {
   "cell_type": "code",
   "execution_count": 4,
   "id": "266a0036-7482-4ae7-a555-58aab7b210f5",
   "metadata": {},
   "outputs": [],
   "source": [
    "LAT, LON = state_ds.YC.data, state_ds.XC.data"
   ]
  },
  {
   "cell_type": "code",
   "execution_count": 5,
   "id": "98c25eca-37cb-4d4c-8a98-72960574390b",
   "metadata": {},
   "outputs": [],
   "source": [
    "lat, lon = np.meshgrid(LAT, LON)"
   ]
  },
  {
   "cell_type": "markdown",
   "id": "56269005-f3f3-47c5-bc51-d5040901b35d",
   "metadata": {},
   "source": [
    "# Read Temperature, Salinity and Pressure data"
   ]
  },
  {
   "cell_type": "code",
   "execution_count": 6,
   "id": "3bde795c-8fc7-496f-90ba-30e894031292",
   "metadata": {},
   "outputs": [],
   "source": [
    "temp = state_ds.THETA\n",
    "salinity = state_ds.SALT\n",
    "Z = state_ds.Z\n",
    "pres_anomalies  =  state_ds.PHIHYD"
   ]
  },
  {
   "cell_type": "markdown",
   "id": "1ebd0bc1-4106-4e4f-b905-1084e0d32fdd",
   "metadata": {},
   "source": [
    "# Calculate Brunt-Vaisla frequency squared"
   ]
  },
  {
   "cell_type": "code",
   "execution_count": 7,
   "id": "913dff79-bb46-4cf0-8e4f-b2364da12663",
   "metadata": {
    "tags": []
   },
   "outputs": [],
   "source": [
    "SA, CT = np.ma.masked_all(salinity.shape), np.ma.masked_all(temp.shape)\n",
    "Nsquared = np.ma.masked_all([salinity.shape[0]-1,salinity.shape[1], salinity.shape[2]])\n",
    "Pressure_mid = np.ma.masked_all([salinity.shape[0]-1,salinity.shape[1], salinity.shape[2]])\n",
    "pres = np.ma.masked_all([salinity.shape[0],salinity.shape[1], salinity.shape[2]])\n",
    "Z_mid = np.ma.masked_all([salinity.shape[0]-1, salinity.shape[1], salinity.shape[2]])\n",
    "for y in range(SA.shape[1]):\n",
    "    for x in range(SA.shape[2]):\n",
    "        pres[:, y, x] = gsw.p_from_z(Z.data,  lat = LAT[y]) #+ pres_anomalies.data[:, y, x]\n",
    "        SA[:, y, x] = gsw.conversions.SA_from_SP(salinity.data[:, y, x], pres.data[:, y, x], LON[x], LAT[y])\n",
    "        CT[:, y, x] = gsw.CT_from_pt(SA.data[:, y, x], temp.data[:, y, x])  \n",
    "        Nsquared[:, y, x], Pressure_mid[:, y, x] = gsw.stability.Nsquared(SA[:, y, x], CT[:, y, x], pres[:, y, x])\n",
    "        Z_mid[:, y, x] = gsw.z_from_p(Pressure_mid[:, y, x] , lat = LAT[y])"
   ]
  },
  {
   "cell_type": "code",
   "execution_count": 8,
   "id": "9180f222-a32b-4439-bf67-1300030819e9",
   "metadata": {},
   "outputs": [],
   "source": [
    "xlon, ylat = np.meshgrid(LON, LAT)"
   ]
  },
  {
   "cell_type": "code",
   "execution_count": 9,
   "id": "d6eacb26-5720-419a-9914-5d3202c49df7",
   "metadata": {
    "tags": []
   },
   "outputs": [],
   "source": [
    "zz, yy = np.meshgrid(Z[1:], LAT)"
   ]
  },
  {
   "cell_type": "markdown",
   "id": "c9c126f7-33e9-41dd-b634-c3a694d5fa7d",
   "metadata": {
    "tags": []
   },
   "source": [
    "### Choose a vector at a random location"
   ]
  },
  {
   "cell_type": "code",
   "execution_count": 10,
   "id": "dcc5cd24-bb13-45f4-94a3-10fda1826dc3",
   "metadata": {},
   "outputs": [],
   "source": [
    "laty, lonx = 130, 220"
   ]
  },
  {
   "cell_type": "code",
   "execution_count": 11,
   "id": "97f0da0d-4a78-4eed-9aa4-8a144f84affc",
   "metadata": {
    "tags": []
   },
   "outputs": [
    {
     "data": {
      "text/plain": [
       "<matplotlib.collections.QuadMesh at 0x7fbbd933deb0>"
      ]
     },
     "execution_count": 11,
     "metadata": {},
     "output_type": "execute_result"
    },
    {
     "data": {
      "image/png": "[encoded data removed]",
      "text/plain": [
       "<Figure size 432x288 with 2 Axes>"
      ]
     },
     "metadata": {
      "needs_background": "light"
     },
     "output_type": "display_data"
    }
   ],
   "source": [
    "DEPTH = state_ds.Depth\n",
    "DEPTH.plot()"
   ]
  },
  {
   "cell_type": "markdown",
   "id": "b22fb52b-a2e4-4e9c-b331-65331669a209",
   "metadata": {
    "tags": []
   },
   "source": [
    "## Interpolate the N2 vector onto a uniform pressure grid"
   ]
  },
  {
   "cell_type": "code",
   "execution_count": 12,
   "id": "b7a17f68-1afb-4ac4-baa4-43c69c13ad1e",
   "metadata": {},
   "outputs": [],
   "source": [
    "N2_vector = Nsquared[:, laty, lonx]\n",
    "Pmid_vector = Pressure_mid[:, laty, lonx]\n",
    "#Pmid_vector, N2_vector\n",
    "for i in range(len(N2_vector)-1):\n",
    "    if N2_vector[i] < 0:\n",
    "        N2_vector[i] = N2_vector[i+1] #np.median(np.absolute(N2_vector))\n",
    "    if N2_vector[i] == 0:\n",
    "        N2_vector[i] = N2_vector[i+1] #np.median(np.absolute(N2_vector))"
   ]
  },
  {
   "cell_type": "code",
   "execution_count": 13,
   "id": "a8cf9f87-fd6f-4e6c-8570-b6ea971b7edd",
   "metadata": {},
   "outputs": [],
   "source": [
    "Pmid_uniform = np.arange(Pmid_vector[0], Pmid_vector[-1], step = 120)\n",
    "N2_uniform = np.interp(Pmid_uniform, Pmid_vector[:-2], N2_vector[:-2])"
   ]
  },
  {
   "cell_type": "code",
   "execution_count": 14,
   "id": "fef98f5c-5c6a-4b4e-9e04-aa485c55002c",
   "metadata": {},
   "outputs": [],
   "source": [
    "Pmid_uniform = Pmid_uniform[:]\n",
    "N2_uniform = N2_uniform[:]\n",
    "#Pmid_uniform[:-16], N2_uniform[:-16]"
   ]
  },
  {
   "cell_type": "code",
   "execution_count": 15,
   "id": "4e76f91b-a096-4b9a-b80c-a053b7d601af",
   "metadata": {},
   "outputs": [],
   "source": [
    "import VERT_FSFB3"
   ]
  },
  {
   "cell_type": "code",
   "execution_count": 16,
   "id": "2313aaca-dc57-438b-8cfd-febe39154078",
   "metadata": {},
   "outputs": [],
   "source": [
    "c2, Psi, G, N2, Pmid = VERT_FSFB3.VERT_FSFB3(N2_uniform[:-16], Pmid_uniform[:-16])"
   ]
  },
  {
   "cell_type": "code",
   "execution_count": 17,
   "id": "1fa0bc0c-e2ca-423e-8c1f-7c5311fd7573",
   "metadata": {},
   "outputs": [],
   "source": [
    "g = 9.81 # gravity"
   ]
  },
  {
   "cell_type": "markdown",
   "id": "a239a26d-d3b6-49e1-bbc9-694781864ea1",
   "metadata": {
    "tags": []
   },
   "source": [
    "## With a rigid lid assumpsion, SSH = Gm/g, where g is gravity, since hydrastatic pressure p = $rho * g *  SSH$"
   ]
  },
  {
   "cell_type": "code",
   "execution_count": 18,
   "id": "dff40d6e-a701-4d99-80c5-dd03a5f4fa40",
   "metadata": {},
   "outputs": [],
   "source": [
    "SSH = G/g"
   ]
  },
  {
   "cell_type": "code",
   "execution_count": 19,
   "id": "a0362212-ea43-4461-958f-7e89ba0016ae",
   "metadata": {},
   "outputs": [],
   "source": [
    "Z_mid_uniform  = gsw.z_from_p(np.append(0,Pmid), lat = laty)"
   ]
  },
  {
   "cell_type": "code",
   "execution_count": 20,
   "id": "78ae170c-9533-403d-be89-1c49704a8d69",
   "metadata": {
    "tags": []
   },
   "outputs": [
    {
     "data": {
      "image/png": "[encoded data removed]",
      "text/plain": [
       "<Figure size 720x432 with 2 Axes>"
      ]
     },
     "metadata": {
      "needs_background": "light"
     },
     "output_type": "display_data"
    }
   ],
   "source": [
    "plt.figure(figsize=(10, 6))\n",
    "plt.subplot(121)\n",
    "plt.plot(SSH[:,0], Z_mid_uniform, label = 'Mode 1')\n",
    "plt.plot(SSH[:,1], Z_mid_uniform, label = 'Mode 2')\n",
    "plt.plot(SSH[:,2], Z_mid_uniform, label = 'Mode 3')\n",
    "plt.plot(SSH[:,3], Z_mid_uniform, label = 'Mode 4')\n",
    "#plt.plot(SSH[:,4], Z_mid_uniform, label = 'Mode 5')\n",
    "plt.xlabel('Mode Amp.')\n",
    "plt.ylabel('Depth (m)')\n",
    "#plt.xlim([-.2, .2])\n",
    "plt.ylim([Z_mid_uniform.min(), 0])\n",
    "plt.legend()\n",
    "plt.title('Displacement Modes (G/g)', fontsize = 15)\n",
    "\n",
    "plt.subplot(122)\n",
    "plt.title('Brunt-Vaisala Frequency Squared ($N^2$)', fontsize = 16)\n",
    "plt.plot(N2, Z_mid_uniform[1:], '*')\n",
    "#plt.plot(Pmid_vector[:], N2_vector,  linewidth  = 2.0)\n",
    "plt.xlabel('Midpoint pressures (${m^2}/{s^2}$)', fontsize = 14)\n",
    "plt.ylabel('Depth (m)', fontsize = 14)\n",
    "#plt.xlim([10, 350])\n",
    "plt.ylim([Z_mid_uniform.min(), 0])\n",
    "\n",
    "plt.tight_layout()\n",
    "plt.savefig('vertical_modes_N2_sample_CCS_lon_' + str(lonx) + '_lat_' + str(laty) +'.png')"
   ]
  },
  {
   "cell_type": "code",
   "execution_count": 21,
   "id": "3dd1fdd2-6d0f-4c78-b957-07b1ac8c680e",
   "metadata": {},
   "outputs": [],
   "source": [
    "MODE = G.shape[-1]"
   ]
  },
  {
   "cell_type": "code",
   "execution_count": 22,
   "id": "c49d5929-d3d2-4be8-8121-63b3cf03e500",
   "metadata": {},
   "outputs": [],
   "source": [
    "Zgrid, mode = np.meshgrid(Z_mid_uniform, range(MODE) )"
   ]
  },
  {
   "cell_type": "code",
   "execution_count": 23,
   "id": "1d931d5a-9485-4a74-96ed-7fec3187e751",
   "metadata": {
    "tags": []
   },
   "outputs": [
    {
     "name": "stderr",
     "output_type": "stream",
     "text": [
      "/var/folders/4w/wvmyk9216kl39tqqrtqcndl80000gn/T/ipykernel_35534/53837551.py:4: MatplotlibDeprecationWarning: shading='flat' when X and Y have the same dimensions as C is deprecated since 3.3.  Either specify the corners of the quadrilaterals with X and Y, or pass shading='auto', 'nearest' or 'gouraud', or set rcParams['pcolor.shading'].  This will become an error two minor releases later.\n",
      "  plt.pcolormesh(mode, Zgrid, SSH[:].T, cmap = cmo.cm.balance)\n",
      "/var/folders/4w/wvmyk9216kl39tqqrtqcndl80000gn/T/ipykernel_35534/53837551.py:11: MatplotlibDeprecationWarning: shading='flat' when X and Y have the same dimensions as C is deprecated since 3.3.  Either specify the corners of the quadrilaterals with X and Y, or pass shading='auto', 'nearest' or 'gouraud', or set rcParams['pcolor.shading'].  This will become an error two minor releases later.\n",
      "  plt.pcolor(mode, Zgrid,G[:].T, cmap = cmo.cm.curl)\n",
      "/var/folders/4w/wvmyk9216kl39tqqrtqcndl80000gn/T/ipykernel_35534/53837551.py:25: MatplotlibDeprecationWarning: shading='flat' when X and Y have the same dimensions as C is deprecated since 3.3.  Either specify the corners of the quadrilaterals with X and Y, or pass shading='auto', 'nearest' or 'gouraud', or set rcParams['pcolor.shading'].  This will become an error two minor releases later.\n",
      "  plt.pcolor(mode, Zgrid, Psi[:].T, cmap = cmo.cm.curl)\n"
     ]
    },
    {
     "data": {
      "image/png": "[encoded data removed]",
      "text/plain": [
       "<Figure size 864x720 with 7 Axes>"
      ]
     },
     "metadata": {
      "needs_background": "light"
     },
     "output_type": "display_data"
    }
   ],
   "source": [
    "plt.figure(figsize = (12, 10))\n",
    "plt.subplot(221)\n",
    "plt.title('Displacement: G/g', fontsize = 14)\n",
    "plt.pcolormesh(mode, Zgrid, SSH[:].T, cmap = cmo.cm.balance)\n",
    "plt.ylabel('Depth', fontsize = 14)\n",
    "plt.xlabel('Mode', fontsize = 14)\n",
    "plt.colorbar()\n",
    "\n",
    "plt.subplot(222)\n",
    "plt.title('G: integral of eigenvectors', fontsize = 14)\n",
    "plt.pcolor(mode, Zgrid,G[:].T, cmap = cmo.cm.curl)\n",
    "plt.ylabel('Depth', fontsize = 14)\n",
    "plt.xlabel('Mode', fontsize = 14)\n",
    "plt.colorbar()\n",
    "\n",
    "plt.subplot(223)\n",
    "plt.title('Modal speed' , fontsize = 14)\n",
    "plt.plot(c2[:], \"-*\", linewidth = 2)\n",
    "plt.ylabel('Wave Speed Squared $(m/s)^2$', fontsize = 14)\n",
    "plt.xlabel('Mode', fontsize = 14)\n",
    "#plt.colorbar()\n",
    "\n",
    "plt.subplot(224)\n",
    "plt.title('Psi: horizontal velocity structure' , fontsize = 14)\n",
    "plt.pcolor(mode, Zgrid, Psi[:].T, cmap = cmo.cm.curl)\n",
    "plt.ylabel('Depth', fontsize = 14)\n",
    "plt.xlabel('Mode', fontsize = 14)\n",
    "plt.colorbar()\n",
    "\n",
    "plt.tight_layout()\n",
    "plt.savefig('vertical_modes_FSFB2_N2_sample_lon_' + str(lonx) + '_lat_' + str(laty) +'.png', dpi = 100)"
   ]
  },
  {
   "cell_type": "markdown",
   "id": "b78016d0-519b-4da6-a686-dd7fd9ee574e",
   "metadata": {
    "tags": []
   },
   "source": [
    "### Beta plane paramters"
   ]
  },
  {
   "cell_type": "code",
   "execution_count": 24,
   "id": "9c89dfb5-55eb-4e37-a62d-c2a93ed3094e",
   "metadata": {},
   "outputs": [
    {
     "data": {
      "text/plain": [
       "3.53106090197239e-12"
      ]
     },
     "execution_count": 24,
     "metadata": {},
     "output_type": "execute_result"
    }
   ],
   "source": [
    "# wavespeed = # -c2[0]\n",
    "Phi0 = 30 # central latitude (φ0)\n",
    "Omega = 7.2921159e-5 # Ω is the angular speed of the earth\n",
    "Earth_radius = 6.371e6 # meters\n",
    "Beta = 2 * Omega * np.cos(Phi0) / Earth_radius\n",
    "f0 = 2 * Omega * np.sin(Phi0) #1.0313e-4 # 45 N\n",
    "# Gradient of Coriolis parameter f = f0 + beta * (y-y0) \n",
    "# The constant β (the Rossby parameter) is given its value at a central latitude (φ0) on the spherical earth, \n",
    "# (2Ω cosφ0)/a, where Ω is the angular speed of the earth and a its mean radius. \n",
    "Beta"
   ]
  },
  {
   "cell_type": "markdown",
   "id": "19c85ad8-de03-4b72-9f41-b84431b31275",
   "metadata": {},
   "source": [
    "## Choose a wave with 200-km wavelength that moves westward (negative wave speed). "
   ]
  },
  {
   "cell_type": "code",
   "execution_count": 25,
   "id": "3b97ef18-77ae-4e2b-9798-b1af84cfa5d6",
   "metadata": {},
   "outputs": [],
   "source": [
    "wavelength = 2e5 # 200km\n",
    "wavespeed = c2 # m/s \n",
    "#np.sqrt(wavespeed) #,c2"
   ]
  },
  {
   "cell_type": "markdown",
   "id": "def0fe05-27a5-4ca0-a0a8-bdde86090897",
   "metadata": {},
   "source": [
    "## The dispersion relation relates frequency to wavenumber for each mode:"
   ]
  },
  {
   "cell_type": "code",
   "execution_count": 26,
   "id": "abc754c0-76d2-4b8e-91ac-37a757d59a10",
   "metadata": {},
   "outputs": [
    {
     "data": {
      "text/plain": [
       "3.141592653589793e-05"
      ]
     },
     "execution_count": 26,
     "metadata": {},
     "output_type": "execute_result"
    }
   ],
   "source": [
    "k_n = 2 * np.pi / wavelength # wavenumber\n",
    "k_n"
   ]
  },
  {
   "cell_type": "markdown",
   "id": "c6400e34-a2fd-4581-88f9-475ecebf519e",
   "metadata": {},
   "source": [
    "## Rossby deformation radius Rm = c/f0 = 50.6 km, consistent with Chelton et al. (1998) https://ceoas.oregonstate.edu/rossby_radius"
   ]
  },
  {
   "cell_type": "code",
   "execution_count": 27,
   "id": "029f4d81-0b9c-4957-965e-d917d1b0e9a5",
   "metadata": {},
   "outputs": [
    {
     "data": {
      "text/plain": [
       "(-54.73026096765938, -0.00014409682231500762)"
      ]
     },
     "execution_count": 27,
     "metadata": {},
     "output_type": "execute_result"
    }
   ],
   "source": [
    "Rm = wavespeed / f0\n",
    "Rm[0]/1000, f0"
   ]
  },
  {
   "cell_type": "code",
   "execution_count": 28,
   "id": "9368d757-82c2-488e-8290-a1259269cce6",
   "metadata": {},
   "outputs": [],
   "source": [
    "F_modes = 5"
   ]
  },
  {
   "cell_type": "markdown",
   "id": "cde3bbb7-e252-438d-b6b5-94f37a9e1333",
   "metadata": {},
   "source": [
    "## SSH Five Baroclinic mode"
   ]
  },
  {
   "cell_type": "markdown",
   "id": "dec1fb03-de0e-4880-8111-9ee60ecc4a55",
   "metadata": {},
   "source": [
    "### Amplitude matrix"
   ]
  },
  {
   "cell_type": "code",
   "execution_count": 62,
   "id": "4f1710be-d5f8-4ba2-ab48-bc40b9bedcad",
   "metadata": {},
   "outputs": [
    {
     "data": {
      "text/plain": [
       "(2, 5)"
      ]
     },
     "execution_count": 62,
     "metadata": {},
     "output_type": "execute_result"
    }
   ],
   "source": [
    "Amp = np.array([[.5, .4, .3, .2, .1], [.5, .4, .3, .2, .1]])\n",
    "Amp.shape"
   ]
  },
  {
   "cell_type": "code",
   "execution_count": 63,
   "id": "caa15ed6-537f-43ae-a02b-4e08b512fcda",
   "metadata": {},
   "outputs": [
    {
     "data": {
      "text/plain": [
       "array([8.39878009e-08, 2.68846601e-08, 5.66934577e-09, 1.85702449e-09,\n",
       "       7.85974319e-10])"
      ]
     },
     "execution_count": 63,
     "metadata": {},
     "output_type": "execute_result"
    }
   ],
   "source": [
    "freq_n = (Beta * k_n) / (k_n ** 2  + Rm[:Amp.shape[1]] ** -2)\n",
    "freq_n"
   ]
  },
  {
   "cell_type": "code",
   "execution_count": 64,
   "id": "19fcb9bd-41ac-4f7b-be48-2386414c3342",
   "metadata": {},
   "outputs": [
    {
     "data": {
      "text/plain": [
       "(6.283185307179586e-05, 3.141592653589793e-05, 200000.0, 100000.0)"
      ]
     },
     "execution_count": 64,
     "metadata": {},
     "output_type": "execute_result"
    }
   ],
   "source": [
    "wavelength_l = .5 * wavelength\n",
    "l_n = 2 * np.pi / wavelength_l # wavenumber\n",
    "l_n, k_n, wavelength, wavelength_l"
   ]
  },
  {
   "cell_type": "markdown",
   "id": "002f5d24-e20d-4529-bff4-2b9346366528",
   "metadata": {},
   "source": [
    "### Expand SSH to 2-dimensional space - SSH(x, y, t)"
   ]
  },
  {
   "cell_type": "code",
   "execution_count": 65,
   "id": "58e55d1c-f513-4725-8fa3-2c46f4e3d54a",
   "metadata": {},
   "outputs": [
    {
     "data": {
      "text/plain": [
       "(array([-54.73026097, -17.84791968,  -7.33631201,  -4.12571238,\n",
       "         -2.67116334]),\n",
       " -0.00014409682231500762)"
      ]
     },
     "execution_count": 65,
     "metadata": {},
     "output_type": "execute_result"
    }
   ],
   "source": [
    "Rm = wavespeed / f0\n",
    "Rm[:Amp.shape[1]]/1000, f0"
   ]
  },
  {
   "cell_type": "code",
   "execution_count": 66,
   "id": "d89ef8b5-078a-4256-8396-704b090cd22d",
   "metadata": {},
   "outputs": [
    {
     "data": {
      "text/plain": [
       "array([2.10550345e-08, 1.37392795e-08, 4.71753114e-09, 1.74190553e-09,\n",
       "       7.64587787e-10])"
      ]
     },
     "execution_count": 66,
     "metadata": {},
     "output_type": "execute_result"
    }
   ],
   "source": [
    "freq_n = (Beta * k_n) / (k_n ** 2 + l_n ** 2 + Rm[:Amp.shape[1]] ** -2)\n",
    "freq_n"
   ]
  },
  {
   "cell_type": "code",
   "execution_count": 67,
   "id": "d9612ab5-7b1a-4ef5-8f61-5113a8eb09ee",
   "metadata": {},
   "outputs": [],
   "source": [
    "X_loc = np.arange(0, 1e6, 1e4)\n",
    "Y_loc = np.arange(0, 1e6, 1e4)\n",
    "T_time = np.arange(0, 1e8, 5e7)"
   ]
  },
  {
   "cell_type": "code",
   "execution_count": 68,
   "id": "f2784f0c-c09b-49f2-bd57-c9813d35613b",
   "metadata": {},
   "outputs": [
    {
     "data": {
      "text/plain": [
       "array([1])"
      ]
     },
     "execution_count": 68,
     "metadata": {},
     "output_type": "execute_result"
    }
   ],
   "source": [
    "snapshot = np.arange(1, 2)\n",
    "M =  Amp.size\n",
    "snapshot"
   ]
  },
  {
   "cell_type": "code",
   "execution_count": 69,
   "id": "f4fb0598-7af0-4c3e-8d95-1fbf562590c9",
   "metadata": {},
   "outputs": [
    {
     "data": {
      "text/plain": [
       "(array([10, 11, 12, 13, 14, 15, 16, 17, 18, 19, 20, 21, 22, 23, 24, 25, 26,\n",
       "        27, 28, 29]),\n",
       " array([10, 10, 10, 10, 10, 10, 10, 10, 10, 10, 10, 10, 10, 10, 10, 10, 10,\n",
       "        10, 10, 10]))"
      ]
     },
     "execution_count": 69,
     "metadata": {},
     "output_type": "execute_result"
    }
   ],
   "source": [
    "points_x = np.arange(10, 30)\n",
    "points_y = np.repeat(10, len(points_x))\n",
    "points_x, points_y"
   ]
  },
  {
   "cell_type": "markdown",
   "id": "766ac06d-643a-47d2-bb25-dcac83196349",
   "metadata": {
    "tags": []
   },
   "source": [
    "### Elements of H Matrix"
   ]
  },
  {
   "cell_type": "code",
   "execution_count": 70,
   "id": "d4e7f9b1-b69d-4c48-93ff-927648769eb5",
   "metadata": {},
   "outputs": [
    {
     "name": "stdout",
     "output_type": "stream",
     "text": [
      "CPU times: user 530 ms, sys: 3.68 ms, total: 533 ms\n",
      "Wall time: 535 ms\n"
     ]
    }
   ],
   "source": [
    "%%time\n",
    "H_cos = np.ma.masked_all([Amp.shape[1], len(T_time), len(X_loc), len(Y_loc)]) # Number of waves * Number of data\n",
    "H_sin = np.ma.masked_all([Amp.shape[1], len(T_time), len(X_loc), len(Y_loc)])\n",
    "for mm in range(Amp.shape[1]):\n",
    "    #print(Psi[0, mm], freq_n[mm])\n",
    "    for tt in range(len(T_time)):\n",
    "        for xx in range(len(X_loc)):\n",
    "            for yy in range(len(Y_loc)):\n",
    "                H_cos[mm, tt, xx, yy] = Psi[0, mm] * np.cos(k_n * X_loc[xx] + l_n * Y_loc[yy] + freq_n[mm] * T_time[tt]) \n",
    "                H_sin[mm, tt, xx, yy] = Psi[0, mm] * np.sin(k_n * X_loc[xx] + l_n * Y_loc[yy] + freq_n[mm] * T_time[tt])"
   ]
  },
  {
   "cell_type": "code",
   "execution_count": 71,
   "id": "552d6c60-f86b-43e5-a6da-5fff28f3f8b7",
   "metadata": {},
   "outputs": [],
   "source": [
    "SSH_XYTM = np.ma.masked_all([Amp.shape[1],len(T_time), len(X_loc), len(Y_loc)])\n",
    "for mm in range(Amp.shape[1]):\n",
    "    #print(Psi[0, mm], freq_n[mm])\n",
    "    for xx in range(len(X_loc)):\n",
    "        for yy in range(len(Y_loc)):\n",
    "            for tt in range(len(T_time)):\n",
    "                SSH_XYTM[mm, tt, xx, yy] = Amp[0, mm]*Psi[0,mm]*np.cos(k_n * X_loc[xx] + l_n*Y_loc[yy] + freq_n[mm]*T_time[tt]) + Amp[1, mm] *Psi[0,mm]*np.sin(k_n*X_loc[xx] + l_n*Y_loc[yy] + freq_n[mm]*T_time[tt])"
   ]
  },
  {
   "cell_type": "markdown",
   "id": "83048ca7-77fb-452d-9def-488aec589784",
   "metadata": {
    "tags": []
   },
   "source": [
    "#### Add up long the last two axis: modes, frequences"
   ]
  },
  {
   "cell_type": "code",
   "execution_count": 72,
   "id": "aa20664a-caec-4b2a-9539-30f6e174db61",
   "metadata": {},
   "outputs": [
    {
     "data": {
      "text/plain": [
       "(2, 100, 100)"
      ]
     },
     "execution_count": 72,
     "metadata": {},
     "output_type": "execute_result"
    }
   ],
   "source": [
    "SSH_XYT = np.sum(SSH_XYTM, axis = 0)\n",
    "SSH_XYT.shape"
   ]
  },
  {
   "cell_type": "markdown",
   "id": "23ab1823-fd78-42c3-a30f-3f7f42c68ab4",
   "metadata": {},
   "source": [
    "### Select y samples"
   ]
  },
  {
   "cell_type": "code",
   "execution_count": 73,
   "id": "cc277df9-c144-4f36-ba59-f729656de086",
   "metadata": {},
   "outputs": [
    {
     "data": {
      "text/plain": [
       "(20,)"
      ]
     },
     "execution_count": 73,
     "metadata": {},
     "output_type": "execute_result"
    }
   ],
   "source": [
    "y_glider = SSH_XYT[snapshot, points_x, points_y]\n",
    "y_glider.shape"
   ]
  },
  {
   "cell_type": "code",
   "execution_count": 74,
   "id": "7df17c60-70f9-4fdf-bd59-1a0ec901708a",
   "metadata": {},
   "outputs": [
    {
     "data": {
      "text/plain": [
       "(10, 20)"
      ]
     },
     "execution_count": 74,
     "metadata": {},
     "output_type": "execute_result"
    }
   ],
   "source": [
    "M, N =  Amp.size, len(y_glider)\n",
    "M, N, "
   ]
  },
  {
   "cell_type": "code",
   "execution_count": 75,
   "id": "483e050c-6242-4acb-875d-9d25c940965e",
   "metadata": {},
   "outputs": [
    {
     "data": {
      "text/plain": [
       "<matplotlib.colorbar.Colorbar at 0x7fbbc9651dc0>"
      ]
     },
     "execution_count": 75,
     "metadata": {},
     "output_type": "execute_result"
    },
    {
     "data": {
      "image/png": "[encoded data removed]",
      "text/plain": [
       "<Figure size 432x288 with 2 Axes>"
      ]
     },
     "metadata": {
      "needs_background": "light"
     },
     "output_type": "display_data"
    }
   ],
   "source": [
    "H_ = np.ma.masked_all([Amp.size, len(T_time), len(X_loc), len(Y_loc)]) # Number of waves * Number of data\n",
    "H_[:Amp.shape[1]], H_[Amp.shape[1]:] = H_cos, H_sin\n",
    "H_matrix = H_[:, snapshot, points_x, points_y].data.reshape([N, M]) # , order = 'C'\n",
    "plt.pcolor(H_matrix, cmap = cmo.cm.balance)\n",
    "plt.title('H Matrix')\n",
    "plt.xlabel('models')\n",
    "plt.ylabel('data points')\n",
    "plt.colorbar()"
   ]
  },
  {
   "cell_type": "code",
   "execution_count": 83,
   "id": "6c28288d-29ab-49d5-a6a1-129e5c134005",
   "metadata": {},
   "outputs": [
    {
     "data": {
      "text/plain": [
       "(10, 2, 100, 100)"
      ]
     },
     "execution_count": 83,
     "metadata": {},
     "output_type": "execute_result"
    }
   ],
   "source": [
    "H_.shape"
   ]
  },
  {
   "cell_type": "code",
   "execution_count": 77,
   "id": "8a982b7c-a705-40cd-818f-890fdf6448d3",
   "metadata": {},
   "outputs": [],
   "source": [
    "nt, nx, ny = len(y_glider), len(points_x), len(points_y) #snapshot, points_x, points_y"
   ]
  },
  {
   "cell_type": "code",
   "execution_count": 78,
   "id": "4d2d9196-7694-4c64-b383-d53ab507b762",
   "metadata": {},
   "outputs": [
    {
     "data": {
      "text/plain": [
       "(array([1]),\n",
       " array([10, 11, 12, 13, 14, 15, 16, 17, 18, 19, 20, 21, 22, 23, 24, 25, 26,\n",
       "        27, 28, 29]),\n",
       " array([10, 10, 10, 10, 10, 10, 10, 10, 10, 10, 10, 10, 10, 10, 10, 10, 10,\n",
       "        10, 10, 10]))"
      ]
     },
     "execution_count": 78,
     "metadata": {},
     "output_type": "execute_result"
    }
   ],
   "source": [
    "tindex, xindex, yindex = snapshot, points_x, points_y\n",
    "tindex, xindex, yindex"
   ]
  },
  {
   "cell_type": "code",
   "execution_count": 79,
   "id": "aed5d90e-9fa0-482f-84a5-281ef6bf9ccf",
   "metadata": {},
   "outputs": [
    {
     "ename": "IndexError",
     "evalue": "index 1 is out of bounds for axis 0 with size 1",
     "output_type": "error",
     "traceback": [
      "\u001b[0;31m---------------------------------------------------------------------------\u001b[0m",
      "\u001b[0;31mIndexError\u001b[0m                                Traceback (most recent call last)",
      "\u001b[0;32m/var/folders/4w/wvmyk9216kl39tqqrtqcndl80000gn/T/ipykernel_35534/3392074397.py\u001b[0m in \u001b[0;36m<module>\u001b[0;34m\u001b[0m\n\u001b[1;32m      2\u001b[0m \u001b[0mIIndex\u001b[0m \u001b[0;34m=\u001b[0m \u001b[0mnp\u001b[0m\u001b[0;34m.\u001b[0m\u001b[0mzeros\u001b[0m\u001b[0;34m(\u001b[0m\u001b[0;34m[\u001b[0m\u001b[0mnt\u001b[0m\u001b[0;34m*\u001b[0m \u001b[0mnx\u001b[0m\u001b[0;34m*\u001b[0m \u001b[0mny\u001b[0m\u001b[0;34m,\u001b[0m \u001b[0;36m1\u001b[0m\u001b[0;34m]\u001b[0m\u001b[0;34m)\u001b[0m\u001b[0;34m\u001b[0m\u001b[0;34m\u001b[0m\u001b[0m\n\u001b[1;32m      3\u001b[0m \u001b[0;32mfor\u001b[0m \u001b[0mi\u001b[0m \u001b[0;32min\u001b[0m \u001b[0mrange\u001b[0m\u001b[0;34m(\u001b[0m\u001b[0mN\u001b[0m\u001b[0;34m)\u001b[0m\u001b[0;34m:\u001b[0m\u001b[0;34m\u001b[0m\u001b[0;34m\u001b[0m\u001b[0m\n\u001b[0;32m----> 4\u001b[0;31m     \u001b[0mIIndex\u001b[0m\u001b[0;34m[\u001b[0m\u001b[0mi\u001b[0m\u001b[0;34m]\u001b[0m \u001b[0;34m=\u001b[0m \u001b[0mnx\u001b[0m \u001b[0;34m*\u001b[0m \u001b[0mny\u001b[0m \u001b[0;34m*\u001b[0m \u001b[0mtindex\u001b[0m\u001b[0;34m[\u001b[0m\u001b[0mi\u001b[0m\u001b[0;34m]\u001b[0m \u001b[0;34m+\u001b[0m \u001b[0mnx\u001b[0m \u001b[0;34m*\u001b[0m \u001b[0myindex\u001b[0m\u001b[0;34m[\u001b[0m\u001b[0mi\u001b[0m\u001b[0;34m]\u001b[0m \u001b[0;34m+\u001b[0m \u001b[0mxindex\u001b[0m\u001b[0;34m[\u001b[0m\u001b[0mi\u001b[0m\u001b[0;34m]\u001b[0m\u001b[0;34m\u001b[0m\u001b[0;34m\u001b[0m\u001b[0m\n\u001b[0m",
      "\u001b[0;31mIndexError\u001b[0m: index 1 is out of bounds for axis 0 with size 1"
     ]
    }
   ],
   "source": [
    "# Convert the T, X, Y space to 1-dimensional space\n",
    "IIndex = np.zeros([nt * nx* ny, 1])\n",
    "for i in range(N):\n",
    "    IIndex[i] = nx * ny * tindex[i] + nx * yindex[i] + xindex[i]"
   ]
  },
  {
   "cell_type": "code",
   "execution_count": 80,
   "id": "91c29259-f805-4e54-b2c8-812ced89fa43",
   "metadata": {},
   "outputs": [
    {
     "data": {
      "text/plain": [
       "(400, 1)"
      ]
     },
     "execution_count": 80,
     "metadata": {},
     "output_type": "execute_result"
    }
   ],
   "source": [
    "IIndex.shape"
   ]
  },
  {
   "cell_type": "code",
   "execution_count": null,
   "id": "f2b47982-9ba3-4591-8f0f-d5d82553f0f4",
   "metadata": {},
   "outputs": [],
   "source": [
    "H_v = H_[:2, :3, :2, 0].reshape([8, 1])"
   ]
  },
  {
   "cell_type": "code",
   "execution_count": null,
   "id": "694b5399-83a3-468c-a457-83c956113b7a",
   "metadata": {},
   "outputs": [],
   "source": [
    "H_m = H_[:2, :3, :2, 0]"
   ]
  },
  {
   "cell_type": "code",
   "execution_count": null,
   "id": "985d2ec5-78b2-4bc9-8711-abf04347945c",
   "metadata": {},
   "outputs": [],
   "source": [
    "t = 0\n",
    "j = 1\n",
    "i = 1 "
   ]
  },
  {
   "cell_type": "code",
   "execution_count": null,
   "id": "4ceaf4c6-f415-4dff-948a-9c8707d53c42",
   "metadata": {},
   "outputs": [],
   "source": [
    "H_m[t, j, i], len(H_v)"
   ]
  },
  {
   "cell_type": "code",
   "execution_count": null,
   "id": "0ecea6d5-7590-4f46-8fd2-b8d7b2224fcd",
   "metadata": {},
   "outputs": [],
   "source": [
    "H_v[t * nx * ny + j * nx + i]"
   ]
  },
  {
   "cell_type": "code",
   "execution_count": null,
   "id": "2571cee8-6e17-4bdf-9042-47ee0c1c236a",
   "metadata": {
    "tags": []
   },
   "outputs": [],
   "source": [
    "fig = plt.figure(figsize = (7, 6))\n",
    "plt.pcolor(SSH_XY[0],cmap = cmo.cm.balance, vmin = -1, vmax = 1)\n",
    "plt.title('SSH, sample locations', fontsize = 14)\n",
    "plt.plot(points_x, points_y, 'x', color = 'black')\n",
    "plt.xlabel('X')\n",
    "plt.ylabel('Y')\n",
    "plt.colorbar()"
   ]
  },
  {
   "cell_type": "markdown",
   "id": "47aa9176-c25a-4d3c-a4ea-4ec31615cc18",
   "metadata": {
    "tags": []
   },
   "source": [
    "#### Ordinary Least Squares (OLS) Solution\n",
    "#### The solution is $X_{OLS} = (H^TH)^{-1}H^Ty$\n",
    "#### Solution: Amp = np.array([[.5, .4, .3, .2, .1], [.5, .4, .3, .2, .1]])"
   ]
  },
  {
   "cell_type": "code",
   "execution_count": null,
   "id": "18714582-5252-402a-8bc2-c095ed494d4d",
   "metadata": {},
   "outputs": [],
   "source": [
    "H_inv = LA.inv(np.matmul(H_matrix.T, H_matrix))\n",
    "H_inv.shape, H_matrix.T.shape, y_glider.shape"
   ]
  },
  {
   "cell_type": "code",
   "execution_count": null,
   "id": "5463e440-6659-4e33-9b14-0eade76ee40b",
   "metadata": {},
   "outputs": [],
   "source": [
    "X_OLS = np.matmul(np.matmul(H_inv, H_matrix.T), y_glider)"
   ]
  },
  {
   "cell_type": "code",
   "execution_count": null,
   "id": "d16786a6-5921-40f6-90d1-b0d495863a53",
   "metadata": {},
   "outputs": [],
   "source": [
    "np.matmul(H_inv, H_matrix.T).shape, y_glider.shape"
   ]
  },
  {
   "cell_type": "code",
   "execution_count": null,
   "id": "a4b70318-9f95-4beb-86e1-543ccdda5676",
   "metadata": {},
   "outputs": [],
   "source": [
    "X_OLS.reshape([2, 5], order = 'C') "
   ]
  },
  {
   "cell_type": "markdown",
   "id": "f34c6ebf-f68b-4192-b9a1-c9197f856cc3",
   "metadata": {
    "tags": []
   },
   "source": [
    "### Weighted least square solution"
   ]
  },
  {
   "cell_type": "code",
   "execution_count": null,
   "id": "9f5dc38c-7ed5-4b42-8999-b90c64425fc3",
   "metadata": {},
   "outputs": [],
   "source": [
    "num_samples = len(Y_loc)\n",
    "noise_std = 0.002"
   ]
  },
  {
   "cell_type": "code",
   "execution_count": null,
   "id": "6a7f75ee-807a-48c1-9fcf-f57ed7103235",
   "metadata": {},
   "outputs": [],
   "source": [
    "white_noise = np.random.normal(0, noise_std, size = num_samples)"
   ]
  },
  {
   "cell_type": "code",
   "execution_count": null,
   "id": "a2724881-a0cd-46ed-8e8c-ed7f35c017ce",
   "metadata": {},
   "outputs": [],
   "source": [
    "SSH_WN = np.ma.masked_all(SSH_XY.shape)\n",
    "white_noise_x, white_noise_y = np.ma.masked_all(SSH_XY.shape), np.ma.masked_all(SSH_XY.shape)\n",
    "for tt in range(len(T_time)):\n",
    "    for yy in range(len(Y_loc)):\n",
    "        white_noise_y[tt, yy] = np.random.normal(0, noise_std, size = num_samples)\n",
    "        SSH_WN[tt, yy] = SSH_XY[tt, yy]  + white_noise_y[tt, yy]"
   ]
  },
  {
   "cell_type": "code",
   "execution_count": null,
   "id": "ee71c94a-4532-4da4-a036-9ad9eda9abc9",
   "metadata": {},
   "outputs": [],
   "source": [
    "y_swath = SSH_WN[snapshot, points_x, points_y]"
   ]
  },
  {
   "cell_type": "code",
   "execution_count": null,
   "id": "6b34b7c8-6613-4bb3-a4a4-c24a3bc09d55",
   "metadata": {},
   "outputs": [],
   "source": [
    "y_swath.shape"
   ]
  },
  {
   "cell_type": "code",
   "execution_count": null,
   "id": "28857815-da11-4816-828b-d326f57aa452",
   "metadata": {},
   "outputs": [],
   "source": [
    "plt.figure(figsize=(12, 5))\n",
    "plt.subplot(121)\n",
    "plt.pcolor(SSH_WN[0],cmap = cmo.cm.balance, vmin = -1, vmax = 1)\n",
    "plt.title('SSH (meters)', fontsize = 14)\n",
    "plt.colorbar()\n",
    "\n",
    "plt.subplot(122)\n",
    "plt.pcolor(white_noise_y[0],cmap = cmo.cm.balance,)\n",
    "plt.title('white noise (meters)')\n",
    "plt.colorbar()\n",
    "plt.savefig('./SSH_white_noise.png')"
   ]
  },
  {
   "cell_type": "markdown",
   "id": "7ac19e7a-6043-44c3-a012-d837a97db1b7",
   "metadata": {
    "tags": []
   },
   "source": [
    "### Residual: processes that are not considered \"signals\" in this analysis, here we dictate the standard deviation to be the redidual first"
   ]
  },
  {
   "cell_type": "markdown",
   "id": "80b7f636-fb99-4ec3-be84-7aae10a9797f",
   "metadata": {
    "tags": []
   },
   "source": [
    "### Elements of H"
   ]
  },
  {
   "cell_type": "code",
   "execution_count": null,
   "id": "116c31e4-aa61-40c1-80a7-03484a7210ac",
   "metadata": {},
   "outputs": [],
   "source": [
    "residual = y_swath.std() # = n * sigma **2"
   ]
  },
  {
   "cell_type": "code",
   "execution_count": null,
   "id": "e7895f4b-7b85-47dc-831a-b42c8c3aabfe",
   "metadata": {},
   "outputs": [],
   "source": [
    "residual"
   ]
  },
  {
   "cell_type": "markdown",
   "id": "78de69ae-c97f-45f3-b8c3-ca615d7547cd",
   "metadata": {
    "tags": []
   },
   "source": [
    "#### R Matrix"
   ]
  },
  {
   "cell_type": "code",
   "execution_count": null,
   "id": "e0b2b0f7-4c6b-4dcd-b604-9a12d516bad8",
   "metadata": {},
   "outputs": [],
   "source": [
    "R_ = np.eye(N, N)"
   ]
  },
  {
   "cell_type": "code",
   "execution_count": null,
   "id": "187a824e-9d40-4971-b911-ec11d4f18643",
   "metadata": {
    "tags": []
   },
   "outputs": [],
   "source": [
    "for ii in range(N):\n",
    "    R_[ii, ii] = (residual * 0.7) ** 2 #. half of the variance is noise\n",
    "#R_"
   ]
  },
  {
   "cell_type": "markdown",
   "id": "f99e3420-3e8e-48b4-8818-e85d1d141280",
   "metadata": {
    "tags": []
   },
   "source": [
    "#### P matrix =0 For now"
   ]
  },
  {
   "cell_type": "code",
   "execution_count": null,
   "id": "34a2ea23-65d8-4787-a816-fad461f85564",
   "metadata": {},
   "outputs": [],
   "source": [
    "A = np.matmul(H_matrix.T, LA.inv(R_))"
   ]
  },
  {
   "cell_type": "code",
   "execution_count": null,
   "id": "7a31234a-a78b-4f5c-a9a6-5134a44ab5d4",
   "metadata": {},
   "outputs": [],
   "source": [
    "B = np.matmul(A, H_matrix)"
   ]
  },
  {
   "cell_type": "code",
   "execution_count": null,
   "id": "7bef9a71-63c7-400c-8be7-d5ffbad24f2e",
   "metadata": {},
   "outputs": [],
   "source": [
    "D = np.matmul(np.matmul(LA.inv(B), H_matrix.T) , LA.inv(R_))"
   ]
  },
  {
   "cell_type": "code",
   "execution_count": null,
   "id": "e325cab9-7d9b-445d-bbad-9f5fa3915f1f",
   "metadata": {},
   "outputs": [],
   "source": [
    "X_ = np.matmul(D, y_glider)"
   ]
  },
  {
   "cell_type": "code",
   "execution_count": null,
   "id": "d0bd686b-d10b-407b-870e-07e7c774b429",
   "metadata": {},
   "outputs": [],
   "source": [
    "X_.reshape([2, 5]) #eq.7"
   ]
  },
  {
   "cell_type": "markdown",
   "id": "830f7a9b-b0da-47e5-b187-9e44172f5b5d",
   "metadata": {},
   "source": [
    "#### Amp = np.array([[.5, .4, .3, .2, .1], [.5, .4, .3, .2, .1]])"
   ]
  },
  {
   "cell_type": "code",
   "execution_count": null,
   "id": "4732591b-8377-4470-99f9-a429d2aa7ffd",
   "metadata": {},
   "outputs": [],
   "source": [
    "C = np.matmul(H_matrix.T, H_matrix) # No noise setup"
   ]
  },
  {
   "cell_type": "code",
   "execution_count": null,
   "id": "3fbe0112-9af0-4446-a476-29e90684b1fb",
   "metadata": {},
   "outputs": [],
   "source": [
    "X_no_noise = np.matmul(np.matmul(LA.inv(C) , H_matrix.T) , y_swath) # assume no noise"
   ]
  },
  {
   "cell_type": "code",
   "execution_count": null,
   "id": "8af5d648-3876-4d18-b8c8-9914c4d069a0",
   "metadata": {},
   "outputs": [],
   "source": [
    "X_no_noise.reshape([2, 5]) "
   ]
  },
  {
   "cell_type": "code",
   "execution_count": null,
   "id": "57a33ab5-f942-47ab-bb45-d7c1b9effce2",
   "metadata": {},
   "outputs": [],
   "source": []
  },
  {
   "cell_type": "code",
   "execution_count": null,
   "id": "f0163b05-1db4-43e5-b79c-89c6788b1c4b",
   "metadata": {},
   "outputs": [],
   "source": []
  },
  {
   "cell_type": "code",
   "execution_count": null,
   "id": "c7753b5e-4132-409c-98c4-bc0aae757ca5",
   "metadata": {},
   "outputs": [],
   "source": []
  },
  {
   "cell_type": "code",
   "execution_count": null,
   "id": "591c2c0d-37ac-41b9-9018-fba44c5655a6",
   "metadata": {},
   "outputs": [],
   "source": []
  },
  {
   "cell_type": "code",
   "execution_count": null,
   "id": "4ae23db4-eb42-4059-9683-b35c41b31ba5",
   "metadata": {},
   "outputs": [],
   "source": []
  },
  {
   "cell_type": "code",
   "execution_count": null,
   "id": "ca9970d3-2604-4ff6-a0c8-e4780fc1b8a0",
   "metadata": {},
   "outputs": [],
   "source": []
  },
  {
   "cell_type": "code",
   "execution_count": null,
   "id": "4e443099-3dba-40d6-9ea4-914b96c808a7",
   "metadata": {},
   "outputs": [],
   "source": []
  }
 ],
 "metadata": {
  "kernelspec": {
   "display_name": "Python 3 (ipykernel)",
   "language": "python",
   "name": "python3"
  },
  "language_info": {
   "codemirror_mode": {
    "name": "ipython",
    "version": 3
   },
   "file_extension": ".py",
   "mimetype": "text/x-python",
   "name": "python",
   "nbconvert_exporter": "python",
   "pygments_lexer": "ipython3",
   "version": "3.8.12"
  }
 },
 "nbformat": 4,
 "nbformat_minor": 5
}
