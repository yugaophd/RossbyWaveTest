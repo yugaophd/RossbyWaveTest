{
 "cells": [
  {
   "cell_type": "markdown",
   "id": "19307edd-281b-458b-8432-9346a36d39bd",
   "metadata": {},
   "source": [
    "# Rossby wave Model with 5 modes\n",
    "## This jupyter notebook test inverse problem with swath samples"
   ]
  },
  {
   "cell_type": "markdown",
   "id": "090e3448-08b0-4234-ad91-b0da524213b5",
   "metadata": {
    "tags": []
   },
   "source": [
    "#### First we calculate the Brunt-Vaisla frequency squared with a sample dataset."
   ]
  },
  {
   "cell_type": "code",
   "execution_count": 1,
   "id": "d3166eac-cabd-405b-a19c-0aca6151b1fa",
   "metadata": {},
   "outputs": [],
   "source": [
    "import numpy as np\n",
    "import scipy\n",
    "import gsw\n",
    "import xarray as xr\n",
    "import cmocean as cmo\n",
    "from numpy import linalg as LA\n",
    "from scipy import linalg"
   ]
  },
  {
   "cell_type": "code",
   "execution_count": 2,
   "id": "47606cd5-7063-472b-a467-a0e270376332",
   "metadata": {},
   "outputs": [],
   "source": [
    "import matplotlib.pyplot as plt\n",
    "import cartopy.crs as ccrs"
   ]
  },
  {
   "cell_type": "code",
   "execution_count": 3,
   "id": "f1561427-2527-4166-8ab1-0f7b6700b4b2",
   "metadata": {},
   "outputs": [],
   "source": [
    "state_ds = xr.open_dataset('../../Rossby_wave_test_case/MARA_RUN2_SWOT_state_2015-01-06.nc')\n",
    "#state_ds #.PHIHYD #, state_ds.DRHODR"
   ]
  },
  {
   "cell_type": "code",
   "execution_count": 4,
   "id": "266a0036-7482-4ae7-a555-58aab7b210f5",
   "metadata": {},
   "outputs": [],
   "source": [
    "LAT, LON = state_ds.YC.data, state_ds.XC.data"
   ]
  },
  {
   "cell_type": "code",
   "execution_count": 5,
   "id": "98c25eca-37cb-4d4c-8a98-72960574390b",
   "metadata": {},
   "outputs": [],
   "source": [
    "lat, lon = np.meshgrid(LAT, LON)"
   ]
  },
  {
   "cell_type": "markdown",
   "id": "56269005-f3f3-47c5-bc51-d5040901b35d",
   "metadata": {},
   "source": [
    "# Read Temperature, Salinity and Pressure data"
   ]
  },
  {
   "cell_type": "code",
   "execution_count": 6,
   "id": "3bde795c-8fc7-496f-90ba-30e894031292",
   "metadata": {},
   "outputs": [],
   "source": [
    "temp = state_ds.THETA\n",
    "salinity = state_ds.SALT\n",
    "Z = state_ds.Z\n",
    "pres_anomalies  =  state_ds.PHIHYD"
   ]
  },
  {
   "cell_type": "markdown",
   "id": "1ebd0bc1-4106-4e4f-b905-1084e0d32fdd",
   "metadata": {},
   "source": [
    "# Calculate Brunt-Vaisla frequency squared"
   ]
  },
  {
   "cell_type": "code",
   "execution_count": 7,
   "id": "913dff79-bb46-4cf0-8e4f-b2364da12663",
   "metadata": {
    "tags": []
   },
   "outputs": [],
   "source": [
    "SA, CT = np.ma.masked_all(salinity.shape), np.ma.masked_all(temp.shape)\n",
    "Nsquared = np.ma.masked_all([salinity.shape[0]-1,salinity.shape[1], salinity.shape[2]])\n",
    "Pressure_mid = np.ma.masked_all([salinity.shape[0]-1,salinity.shape[1], salinity.shape[2]])\n",
    "pres = np.ma.masked_all([salinity.shape[0],salinity.shape[1], salinity.shape[2]])\n",
    "Z_mid = np.ma.masked_all([salinity.shape[0]-1, salinity.shape[1], salinity.shape[2]])\n",
    "for y in range(SA.shape[1]):\n",
    "    for x in range(SA.shape[2]):\n",
    "        pres[:, y, x] = gsw.p_from_z(Z.data,  lat = LAT[y]) #+ pres_anomalies.data[:, y, x]\n",
    "        SA[:, y, x] = gsw.conversions.SA_from_SP(salinity.data[:, y, x], pres.data[:, y, x], LON[x], LAT[y])\n",
    "        CT[:, y, x] = gsw.CT_from_pt(SA.data[:, y, x], temp.data[:, y, x])  \n",
    "        Nsquared[:, y, x], Pressure_mid[:, y, x] = gsw.stability.Nsquared(SA[:, y, x], CT[:, y, x], pres[:, y, x])\n",
    "        Z_mid[:, y, x] = gsw.z_from_p(Pressure_mid[:, y, x] , lat = LAT[y])"
   ]
  },
  {
   "cell_type": "code",
   "execution_count": 8,
   "id": "9180f222-a32b-4439-bf67-1300030819e9",
   "metadata": {},
   "outputs": [],
   "source": [
    "xlon, ylat = np.meshgrid(LON, LAT)"
   ]
  },
  {
   "cell_type": "code",
   "execution_count": 9,
   "id": "d6eacb26-5720-419a-9914-5d3202c49df7",
   "metadata": {
    "tags": []
   },
   "outputs": [],
   "source": [
    "zz, yy = np.meshgrid(Z[1:], LAT)"
   ]
  },
  {
   "cell_type": "markdown",
   "id": "c9c126f7-33e9-41dd-b634-c3a694d5fa7d",
   "metadata": {
    "tags": []
   },
   "source": [
    "### Choose a vector at a random location"
   ]
  },
  {
   "cell_type": "code",
   "execution_count": 10,
   "id": "dcc5cd24-bb13-45f4-94a3-10fda1826dc3",
   "metadata": {},
   "outputs": [],
   "source": [
    "laty, lonx = 130, 220"
   ]
  },
  {
   "cell_type": "markdown",
   "id": "b22fb52b-a2e4-4e9c-b331-65331669a209",
   "metadata": {
    "tags": []
   },
   "source": [
    "## Interpolate the N2 vector onto a uniform pressure grid"
   ]
  },
  {
   "cell_type": "code",
   "execution_count": 11,
   "id": "b7a17f68-1afb-4ac4-baa4-43c69c13ad1e",
   "metadata": {},
   "outputs": [],
   "source": [
    "N2_vector = Nsquared[:, laty, lonx]\n",
    "Pmid_vector = Pressure_mid[:, laty, lonx]\n",
    "#Pmid_vector, N2_vector\n",
    "for i in range(len(N2_vector)-1):\n",
    "    if N2_vector[i] < 0:\n",
    "        N2_vector[i] = N2_vector[i+1] #np.median(np.absolute(N2_vector))\n",
    "    if N2_vector[i] == 0:\n",
    "        N2_vector[i] = N2_vector[i+1] #np.median(np.absolute(N2_vector))"
   ]
  },
  {
   "cell_type": "code",
   "execution_count": 12,
   "id": "a8cf9f87-fd6f-4e6c-8570-b6ea971b7edd",
   "metadata": {},
   "outputs": [],
   "source": [
    "Pmid_uniform = np.arange(Pmid_vector[0], Pmid_vector[-1], step = 120)\n",
    "N2_uniform = np.interp(Pmid_uniform, Pmid_vector[:-2], N2_vector[:-2])"
   ]
  },
  {
   "cell_type": "code",
   "execution_count": 13,
   "id": "fef98f5c-5c6a-4b4e-9e04-aa485c55002c",
   "metadata": {},
   "outputs": [],
   "source": [
    "Pmid_uniform = Pmid_uniform[:]\n",
    "N2_uniform = N2_uniform[:]\n",
    "#Pmid_uniform[:-16], N2_uniform[:-16]"
   ]
  },
  {
   "cell_type": "code",
   "execution_count": 14,
   "id": "4e76f91b-a096-4b9a-b80c-a053b7d601af",
   "metadata": {},
   "outputs": [],
   "source": [
    "import VERT_FSFB3"
   ]
  },
  {
   "cell_type": "code",
   "execution_count": 15,
   "id": "2313aaca-dc57-438b-8cfd-febe39154078",
   "metadata": {},
   "outputs": [],
   "source": [
    "c2, Psi, G, N2, Pmid = VERT_FSFB3.VERT_FSFB3(N2_uniform[:-16], Pmid_uniform[:-16])"
   ]
  },
  {
   "cell_type": "code",
   "execution_count": 16,
   "id": "1fa0bc0c-e2ca-423e-8c1f-7c5311fd7573",
   "metadata": {},
   "outputs": [],
   "source": [
    "g = 9.81 # gravity"
   ]
  },
  {
   "cell_type": "markdown",
   "id": "a239a26d-d3b6-49e1-bbc9-694781864ea1",
   "metadata": {
    "tags": []
   },
   "source": [
    "## With a rigid lid assumpsion, SSH = Gm/g, where g is gravity, since hydrastatic pressure p = $rho * g *  SSH$"
   ]
  },
  {
   "cell_type": "code",
   "execution_count": 17,
   "id": "dff40d6e-a701-4d99-80c5-dd03a5f4fa40",
   "metadata": {},
   "outputs": [],
   "source": [
    "SSH = G/g"
   ]
  },
  {
   "cell_type": "code",
   "execution_count": 18,
   "id": "a0362212-ea43-4461-958f-7e89ba0016ae",
   "metadata": {},
   "outputs": [],
   "source": [
    "Z_mid_uniform  = gsw.z_from_p(np.append(0,Pmid), lat = laty)"
   ]
  },
  {
   "cell_type": "code",
   "execution_count": 19,
   "id": "3dd1fdd2-6d0f-4c78-b957-07b1ac8c680e",
   "metadata": {},
   "outputs": [],
   "source": [
    "MODE = G.shape[-1]"
   ]
  },
  {
   "cell_type": "code",
   "execution_count": 20,
   "id": "c49d5929-d3d2-4be8-8121-63b3cf03e500",
   "metadata": {},
   "outputs": [],
   "source": [
    "Zgrid, mode = np.meshgrid(Z_mid_uniform, range(MODE) )"
   ]
  },
  {
   "cell_type": "markdown",
   "id": "b78016d0-519b-4da6-a686-dd7fd9ee574e",
   "metadata": {
    "tags": []
   },
   "source": [
    "### Beta plane paramters"
   ]
  },
  {
   "cell_type": "code",
   "execution_count": 21,
   "id": "9c89dfb5-55eb-4e37-a62d-c2a93ed3094e",
   "metadata": {},
   "outputs": [],
   "source": [
    "Phi0 = 30 # central latitude (φ0)\n",
    "Omega = 7.2921159e-5 # Ω is the angular speed of the earth\n",
    "Earth_radius = 6.371e6 # meters\n",
    "Beta = 2 * Omega * np.cos(Phi0) / Earth_radius\n",
    "f0 = 2 * Omega * np.sin(Phi0) #1.0313e-4 # 45 N"
   ]
  },
  {
   "cell_type": "markdown",
   "id": "cde3bbb7-e252-438d-b6b5-94f37a9e1333",
   "metadata": {
    "tags": []
   },
   "source": [
    "### SSH - 15 waves, 5 baroclinic modes, 3 wavenumbers, 5 modes, 15 frequencies, 30 amplitudes"
   ]
  },
  {
   "cell_type": "markdown",
   "id": "def0fe05-27a5-4ca0-a0a8-bdde86090897",
   "metadata": {},
   "source": [
    "#### The dispersion relation relates frequency to wavenumber for each mode:"
   ]
  },
  {
   "cell_type": "code",
   "execution_count": 22,
   "id": "3b97ef18-77ae-4e2b-9798-b1af84cfa5d6",
   "metadata": {},
   "outputs": [],
   "source": [
    "MModes = 5 # \n",
    "wavelength = np.array([2e5, 1e5, .5e5]) # 200km, 100km, 50km\n",
    "wavespeed = c2[:MModes] # Phase speed\n",
    "k_n = 2 * np.pi / wavelength # wavenumber\n",
    "Rm = wavespeed[:MModes] / f0 # Rossby deformation radius\n",
    "wavelength_l = 0.4 * wavelength\n",
    "l_n = 2 * np.pi / wavelength_l # Y direction wavenumber\n",
    "freq_n = np.zeros([len(wavelength), MModes])\n",
    "for nn in range(len(k_n)):\n",
    "    for mm in range(MModes):\n",
    "        freq_n[nn, mm] = (Beta * k_n[nn]) / (k_n[nn] ** 2 + l_n[nn] ** 2 + Rm[mm] ** (-2))\n",
    "Amp = np.random.rand(2, MModes, len(wavelength))\n",
    "M = Amp.size"
   ]
  },
  {
   "cell_type": "code",
   "execution_count": 23,
   "id": "d9612ab5-7b1a-4ef5-8f61-5113a8eb09ee",
   "metadata": {},
   "outputs": [],
   "source": [
    "X_loc = np.arange(0, 1e6, 1e4) # domain size 1000 km with 10km resolution\n",
    "Y_loc = np.arange(0, 1e6, 1e4)\n",
    "T_time = np.arange(0, 1e10, 1e8) # Time step : ~11days"
   ]
  },
  {
   "cell_type": "markdown",
   "id": "766ac06d-643a-47d2-bb25-dcac83196349",
   "metadata": {
    "tags": []
   },
   "source": [
    "### H Matrix and SSH"
   ]
  },
  {
   "cell_type": "code",
   "execution_count": 24,
   "id": "d4e7f9b1-b69d-4c48-93ff-927648769eb5",
   "metadata": {},
   "outputs": [
    {
     "name": "stdout",
     "output_type": "stream",
     "text": [
      "CPU times: user 1min 5s, sys: 379 ms, total: 1min 6s\n",
      "Wall time: 1min 6s\n"
     ]
    }
   ],
   "source": [
    "%%time\n",
    "H_cos = np.zeros([len(T_time), len(X_loc), len(Y_loc), MModes, len(wavelength)] ) # Number of waves * Number of data\n",
    "H_sin = np.zeros([len(T_time), len(X_loc), len(Y_loc), MModes, len(wavelength)])\n",
    "SSH_XYTMN = np.ma.masked_all([len(T_time), len(X_loc), len(Y_loc), MModes, len(wavelength)])\n",
    "for tt in range(len(T_time)):\n",
    "    for xx in range(len(X_loc)):\n",
    "        for yy in range(len(Y_loc)):\n",
    "            for mm in range(Amp.shape[1]):\n",
    "                for nn in range(len(k_n)):\n",
    "                    H_cos[tt, xx, yy, mm, nn] = Psi[0, mm] * np.cos(k_n[nn] * X_loc[xx] + l_n[nn] * Y_loc[yy] + freq_n[nn, mm] * T_time[tt]) \n",
    "                    H_sin[tt, xx, yy, mm, nn] = Psi[0, mm] * np.sin(k_n[nn] * X_loc[xx] + l_n[nn] * Y_loc[yy] + freq_n[nn, mm] * T_time[tt])\n",
    "\n",
    "for mm in range(MModes):\n",
    "    for nn in range(len(k_n)):\n",
    "        SSH_XYTMN[:, :, :, mm, nn] = Amp[0, mm, nn] * H_cos[:, :, :, mm, nn] + Amp[1, mm, nn] * H_sin[:, :, :, mm, nn]"
   ]
  },
  {
   "cell_type": "markdown",
   "id": "83048ca7-77fb-452d-9def-488aec589784",
   "metadata": {
    "tags": []
   },
   "source": [
    "#### Add up long the last two axis: modes, frequences"
   ]
  },
  {
   "cell_type": "code",
   "execution_count": 25,
   "id": "aa20664a-caec-4b2a-9539-30f6e174db61",
   "metadata": {},
   "outputs": [],
   "source": [
    "SSH_XYT = np.sum(SSH_XYTMN, axis = (-1, -2))"
   ]
  },
  {
   "cell_type": "markdown",
   "id": "b658069b-adb5-4d2e-be4e-10c21c538c5c",
   "metadata": {
    "tags": []
   },
   "source": [
    "### Exact-solution - Solve 30 unknow amplitudes with 30 data points."
   ]
  },
  {
   "cell_type": "code",
   "execution_count": 26,
   "id": "45ff8ca4-7940-4792-8741-7bdbc012843c",
   "metadata": {},
   "outputs": [],
   "source": [
    "a, b, c, d = 0, 1, 50, 1\n",
    "x0 = np.arange(0, 50, 1)\n",
    "y0 = np.arange(0, 50, 1)\n",
    "xswath_index0 = a + b * x0\n",
    "yswath_index0 = c + d * y0\n",
    "swath_ysize = 12\n",
    "yswath_index = np.ma.masked_all([12, len(yswath_index0)])\n",
    "xswath_index = np.ma.masked_all([12, len(xswath_index0)])\n",
    "for yy in range(1, swath_ysize):\n",
    "    if(yy!= 6&7):\n",
    "        yswath_index[yy] = yswath_index0 + yy\n",
    "        xswath_index[yy] = xswath_index0"
   ]
  },
  {
   "cell_type": "markdown",
   "id": "97ed3dfe-3897-4d92-8c62-5e1682e1ba23",
   "metadata": {
    "tags": []
   },
   "source": [
    "#### SWOT swath: two 50km swaths with 20 km gap in middle"
   ]
  },
  {
   "cell_type": "code",
   "execution_count": 27,
   "id": "c4afb9f9-a624-468d-9123-1ab85b290da3",
   "metadata": {
    "tags": []
   },
   "outputs": [],
   "source": [
    "yswath_index = np.ma.masked_greater_equal(yswath_index, 100)\n",
    "y_mask = np.ma.getmask(yswath_index)\n",
    "xswath_index = np.ma.masked_where(((yswath_index ==100)&(yswath_index>100)), xswath_index)"
   ]
  },
  {
   "cell_type": "code",
   "execution_count": 28,
   "id": "012f4901-093d-42c7-a43b-cebfa292fd58",
   "metadata": {
    "tags": []
   },
   "outputs": [
    {
     "data": {
      "image/png": "[encoded data removed]",
      "text/plain": [
       "<Figure size 648x648 with 2 Axes>"
      ]
     },
     "metadata": {
      "needs_background": "light"
     },
     "output_type": "display_data"
    }
   ],
   "source": [
    "fig = plt.figure(figsize = (9, 9))\n",
    "plt.pcolor(SSH_XYT[0], cmap = cmo.cm.balance, vmin = -1.5, vmax = 1.5)\n",
    "plt.title('SSH, Swath', fontsize = 14)\n",
    "for yy in range(swath_ysize):\n",
    "    plt.plot(xswath_index0, yswath_index[yy] , 'x', color = 'black')\n",
    "plt.xlabel('X (km)')\n",
    "plt.ylabel('Y (km)')\n",
    "plt.xticks(np.arange(0, 101, 20), np.arange(0, 1001, 200))\n",
    "plt.yticks(np.arange(0, 101, 20), np.arange(0, 1001, 200)) #Resolution 10 km\n",
    "plt.colorbar()\n",
    "plt.savefig('swath_sample.png')"
   ]
  },
  {
   "cell_type": "markdown",
   "id": "00e0594d-9e90-4fed-b3c9-abdb9616552e",
   "metadata": {},
   "source": [
    "#### Retrieve valid data and random sample in time "
   ]
  },
  {
   "cell_type": "code",
   "execution_count": 69,
   "id": "2eba6a39-d5cb-46a0-836a-452e433ad3b7",
   "metadata": {
    "tags": []
   },
   "outputs": [],
   "source": [
    "yvalid_index = yswath_index.compressed().astype(int) # retrieve the valid data \n",
    "xvalid_index = xswath_index.compressed().astype(int) # retrieve the valid data \n",
    "tindex = np.random.randint(low = 0, high= 99, size= xvalid_index.size)  # Random sampling in time"
   ]
  },
  {
   "cell_type": "code",
   "execution_count": 70,
   "id": "fb6a3ee3-e3c1-4243-b782-0e4bb1b448f8",
   "metadata": {},
   "outputs": [
    {
     "data": {
      "text/plain": [
       "True"
      ]
     },
     "execution_count": 70,
     "metadata": {},
     "output_type": "execute_result"
    }
   ],
   "source": [
    "N = yvalid_index.size\n",
    "N == xvalid_index.size"
   ]
  },
  {
   "cell_type": "code",
   "execution_count": 71,
   "id": "317d04f1-7da3-4862-b580-07e08dfb55f3",
   "metadata": {},
   "outputs": [],
   "source": [
    "H_ = np.ma.masked_all([len(T_time), len(X_loc), len(Y_loc), MModes*2, len(wavelength)]) # Number of data * Number of models\n",
    "H_[:, :, :, 0::2] = H_cos #.reshape([len(T_time), len(X_loc), len(Y_loc), 15], order='F')\n",
    "H_[:, :, :, 1::2] = H_sin #.reshape([len(T_time), len(X_loc), len(Y_loc), 15], order='F')"
   ]
  },
  {
   "cell_type": "code",
   "execution_count": 72,
   "id": "3cfa76a9-90a0-47ad-b061-e6bb091a2a31",
   "metadata": {},
   "outputs": [],
   "source": [
    "# Convert the T, X, Y space to 1-dimensional space\n",
    "IIndex = np.zeros(N) # N: Number of y data\n",
    "Y_v = np.zeros(N) \n",
    "H_v = np.zeros([N, M]) # M: number of model\n",
    "nx, ny = N, N\n",
    "for iii in range(N):\n",
    "    #print(tindex, xswath_index[iii], yswath_index[iii])\n",
    "    IIndex[iii] = nx * ny * tindex[iii] + ny * xvalid_index[iii] + yvalid_index[iii]\n",
    "    Y_v[iii] = SSH_XYT[tindex[iii], xvalid_index[iii], yvalid_index[iii]]\n",
    "    for mm in range(MModes):\n",
    "        for nn in range(len(wavelength)):\n",
    "            H_IIndex = nx * ny * tindex[iii] + ny * xvalid_index[iii] + yvalid_index[iii] ## Data space\n",
    "            JIndex = 2 * MModes * nn +  2 * mm  # Model space\n",
    "            H_v[iii, JIndex] = H_cos[tindex[iii], xvalid_index[iii], yvalid_index[iii], mm, nn]\n",
    "            H_v[iii, JIndex + 1] = H_sin[tindex[iii], xvalid_index[iii], yvalid_index[iii], mm, nn]"
   ]
  },
  {
   "cell_type": "markdown",
   "id": "f34c6ebf-f68b-4192-b9a1-c9197f856cc3",
   "metadata": {
    "tags": []
   },
   "source": [
    "#### Weighted least square solution"
   ]
  },
  {
   "cell_type": "code",
   "execution_count": 73,
   "id": "9f5dc38c-7ed5-4b42-8999-b90c64425fc3",
   "metadata": {},
   "outputs": [],
   "source": [
    "num_samples = len(Y_loc)\n",
    "noise_std = 2"
   ]
  },
  {
   "cell_type": "markdown",
   "id": "78de69ae-c97f-45f3-b8c3-ca615d7547cd",
   "metadata": {
    "tags": []
   },
   "source": [
    "#### R and P Matrix"
   ]
  },
  {
   "cell_type": "code",
   "execution_count": 74,
   "id": "e0b2b0f7-4c6b-4dcd-b604-9a12d516bad8",
   "metadata": {},
   "outputs": [],
   "source": [
    "R_ = np.eye(N, N)"
   ]
  },
  {
   "cell_type": "code",
   "execution_count": 75,
   "id": "4cb74ab3-b1d8-4b8c-be8b-8e053ed53e19",
   "metadata": {},
   "outputs": [],
   "source": [
    "P_ = np.eye(M, M)"
   ]
  },
  {
   "cell_type": "code",
   "execution_count": 76,
   "id": "187a824e-9d40-4971-b911-ec11d4f18643",
   "metadata": {
    "tags": []
   },
   "outputs": [],
   "source": [
    "for ii in range(N):\n",
    "    R_[ii, ii] = .01 #(residual * 0.7) ** 2 # (half of the variance is noise) 1e-6  # Uncertainty in data\n",
    "\n",
    "for ii in range(M):    \n",
    "    P_[ii, ii] = 1 # Uncertainty in model"
   ]
  },
  {
   "cell_type": "markdown",
   "id": "f99e3420-3e8e-48b4-8818-e85d1d141280",
   "metadata": {
    "tags": []
   },
   "source": [
    "#### P matrix =0 For now"
   ]
  },
  {
   "cell_type": "code",
   "execution_count": 77,
   "id": "34a2ea23-65d8-4787-a816-fad461f85564",
   "metadata": {},
   "outputs": [],
   "source": [
    "A = np.matmul(H_v.T, LA.inv(R_))"
   ]
  },
  {
   "cell_type": "code",
   "execution_count": 78,
   "id": "7a31234a-a78b-4f5c-a9a6-5134a44ab5d4",
   "metadata": {},
   "outputs": [],
   "source": [
    "HRH = np.matmul(A, H_v)"
   ]
  },
  {
   "cell_type": "code",
   "execution_count": 79,
   "id": "7bef9a71-63c7-400c-8be7-d5ffbad24f2e",
   "metadata": {},
   "outputs": [],
   "source": [
    "D = np.matmul(np.matmul(LA.inv(HRH + LA.inv(P_)), H_v.T) , LA.inv(R_))"
   ]
  },
  {
   "cell_type": "code",
   "execution_count": 80,
   "id": "38446570-bf78-4bc2-a644-72bf6a3fda95",
   "metadata": {},
   "outputs": [
    {
     "data": {
      "text/plain": [
       "array([24855.04176532, 22738.13575445, 18948.38217668, 18418.49011289,\n",
       "       17288.36968875, 15918.09906249,  6271.23955223,  5900.25465219,\n",
       "        5796.71981673,  5295.65656619,  4897.78061116,  4134.53248309,\n",
       "        4163.6295635 ,  3689.04205233,  3860.78231386,  3818.49612339,\n",
       "          99.59224167,   109.57214978,  1718.14677599,  1764.34116244,\n",
       "        1752.36705368,  1538.31805024,  1419.12034987,  1290.1526156 ,\n",
       "         773.79741789,   728.22419516,   687.06345811,   589.51041347,\n",
       "         642.64392812,   608.99954243])"
      ]
     },
     "execution_count": 80,
     "metadata": {},
     "output_type": "execute_result"
    }
   ],
   "source": [
    "eig, vec = LA.eig(HRH)\n",
    "eig.real"
   ]
  },
  {
   "cell_type": "markdown",
   "id": "669fc142-23df-42df-801b-14996e4113d6",
   "metadata": {},
   "source": [
    "#### Soution with noise"
   ]
  },
  {
   "cell_type": "code",
   "execution_count": 81,
   "id": "e325cab9-7d9b-445d-bbad-9f5fa3915f1f",
   "metadata": {},
   "outputs": [],
   "source": [
    "X_ = np.matmul(D, Y_v)"
   ]
  },
  {
   "cell_type": "code",
   "execution_count": 82,
   "id": "d0bd686b-d10b-407b-870e-07e7c774b429",
   "metadata": {},
   "outputs": [],
   "source": [
    "SOL_WN = X_ #.reshape([2, MModes, len(wavelength)], order = 'C')"
   ]
  },
  {
   "cell_type": "code",
   "execution_count": 83,
   "id": "12cc1b34-93b8-4211-938c-5b27feadcd87",
   "metadata": {},
   "outputs": [
    {
     "data": {
      "image/png": "[encoded data removed]",
      "text/plain": [
       "<Figure size 504x432 with 1 Axes>"
      ]
     },
     "metadata": {
      "needs_background": "light"
     },
     "output_type": "display_data"
    }
   ],
   "source": [
    "plt.figure(figsize = (7,6))\n",
    "plt.plot(SOL_WN,'*-', label = 'Solution')\n",
    "plt.plot(Amp.reshape([30], order = 'F'),'x',label = 'Amplitude')\n",
    "plt.legend()\n",
    "plt.title('Solution with noise, P matrix = ' + str(P_[0, 0]))\n",
    "plt.savefig('inverse_problem_solution_N' + str(N)+'.png')"
   ]
  },
  {
   "cell_type": "code",
   "execution_count": 84,
   "id": "f8011893-cb2f-452e-a6e3-d20d0defb9a1",
   "metadata": {},
   "outputs": [],
   "source": [
    "diff = SOL_WN - Amp.reshape([M], order = 'F')"
   ]
  },
  {
   "cell_type": "code",
   "execution_count": 85,
   "id": "87f9b14b-f251-425b-9b3a-2b484820bc40",
   "metadata": {},
   "outputs": [
    {
     "data": {
      "text/plain": [
       "0.0017114124811484362"
      ]
     },
     "execution_count": 85,
     "metadata": {},
     "output_type": "execute_result"
    }
   ],
   "source": [
    "rms = np.sqrt(np.mean(diff**2))\n",
    "rms"
   ]
  },
  {
   "cell_type": "markdown",
   "id": "f208182a-7e95-4170-9be1-153417de7e4f",
   "metadata": {
    "tags": []
   },
   "source": [
    "#### Create simulated roll error"
   ]
  },
  {
   "cell_type": "code",
   "execution_count": 86,
   "id": "2d81f5c1-c311-48e3-acfd-cca66106abb4",
   "metadata": {},
   "outputs": [],
   "source": [
    "alpha2 = -.1e-4\n",
    "roll_err = np.ma.masked_all(yswath_index.shape)\n",
    "xc = np.ma.masked_all(yswath_index.shape)\n",
    "ac, al = roll_err.shape\n",
    "for xx in range(ac):\n",
    "    xc[xx, :] = (xx - (ac-1)/2) \n",
    "    roll_err[xx, :] = alpha2 * xc[xx, :] * 1e4 #10km resolution"
   ]
  },
  {
   "cell_type": "code",
   "execution_count": 87,
   "id": "fc059dae-9b56-4fe2-91eb-49c39acfbc16",
   "metadata": {},
   "outputs": [
    {
     "data": {
      "text/plain": [
       "(0.55, -0.55)"
      ]
     },
     "execution_count": 87,
     "metadata": {},
     "output_type": "execute_result"
    }
   ],
   "source": [
    "roll_err.max(), roll_err.min()"
   ]
  },
  {
   "cell_type": "code",
   "execution_count": 88,
   "id": "fa6df3f8-1f29-4f73-9670-2948d3429c71",
   "metadata": {},
   "outputs": [
    {
     "data": {
      "image/png": "[encoded data removed]",
      "text/plain": [
       "<Figure size 504x360 with 2 Axes>"
      ]
     },
     "metadata": {
      "needs_background": "light"
     },
     "output_type": "display_data"
    }
   ],
   "source": [
    "plt.figure(figsize = (7, 5))\n",
    "plt.pcolor(roll_err, cmap = cmo.cm.balance, vmin = -1, vmax = 1)\n",
    "plt.colorbar()\n",
    "plt.xlabel('Along-track', fontsize = 13)\n",
    "plt.ylabel('Cross-track', fontsize = 13)\n",
    "plt.title('Cross-track Correlated Roll Error', fontsize = 15)\n",
    "plt.savefig('Cross_track_Correlated_Roll_Error.png', dpi = 100)"
   ]
  },
  {
   "cell_type": "code",
   "execution_count": 89,
   "id": "c1c7a479-cf17-4451-a29c-7278a8cb8494",
   "metadata": {},
   "outputs": [],
   "source": [
    "roll_err_masked = np.ma.MaskedArray(roll_err, y_mask)\n",
    "xc_masked = np.ma.MaskedArray(xc, y_mask)"
   ]
  },
  {
   "cell_type": "code",
   "execution_count": 90,
   "id": "0d37eeb5-dcff-49a8-9267-cfcd06e0bfc2",
   "metadata": {},
   "outputs": [
    {
     "data": {
      "text/plain": [
       "(440,)"
      ]
     },
     "execution_count": 90,
     "metadata": {},
     "output_type": "execute_result"
    }
   ],
   "source": [
    "roll_err_valid = roll_err_masked.compressed().astype(int) # retrieve the valid data \n",
    "xc_valid = xc_masked.compressed().astype(int) # retrieve the valid data \n",
    "roll_err_valid.shape"
   ]
  },
  {
   "cell_type": "markdown",
   "id": "94522f70-fac3-473b-bd2f-891f7343bddb",
   "metadata": {},
   "source": [
    "#### Add roll error to SSH"
   ]
  },
  {
   "cell_type": "code",
   "execution_count": 91,
   "id": "fadfd1b2-fff0-43b4-8cf9-3a6b9d8b1476",
   "metadata": {
    "tags": []
   },
   "outputs": [],
   "source": [
    "# Convert the T, X, Y space to 1-dimensional space\n",
    "IIndex = np.zeros(N) # N: Number of y data\n",
    "Y_v = np.zeros(N) \n",
    "H_v = np.zeros([N, M+1]) # M: number of model\n",
    "nx, ny = N, N\n",
    "for iii in range(N):\n",
    "    #print(xvalid_index[iii], yvalid_index[iii])\n",
    "    IIndex[iii] = nx * ny * tindex[iii] + ny * xvalid_index[iii] + yvalid_index[iii]\n",
    "    Y_v[iii] = SSH_XYT[tindex[iii], xvalid_index[iii], yvalid_index[iii]] + roll_err_valid[iii]\n",
    "    H_v[iii, -1] = xc_valid[iii] # distance from nadir Xc \n",
    "    for mm in range(MModes):\n",
    "        for nn in range(len(wavelength)):\n",
    "            H_IIndex = nx * ny * tindex[iii] + ny * xvalid_index[iii] + yvalid_index[iii] ## Data space\n",
    "            JIndex = 2 * MModes * nn +  2 * mm  # Model space\n",
    "            H_v[iii, JIndex] = H_cos[tindex[iii], xvalid_index[iii], yvalid_index[iii], mm, nn]\n",
    "            H_v[iii, JIndex + 1] = H_sin[tindex[iii], xvalid_index[iii], yvalid_index[iii], mm, nn]"
   ]
  },
  {
   "cell_type": "markdown",
   "id": "e8c7fafc-5be1-4592-abb0-8d723886cac1",
   "metadata": {
    "tags": []
   },
   "source": [
    "#### Weighted least square solution"
   ]
  },
  {
   "cell_type": "markdown",
   "id": "d2d8d1a3-ec75-4384-ab1c-333c4e5e433b",
   "metadata": {
    "tags": []
   },
   "source": [
    "#### R and P Matrix"
   ]
  },
  {
   "cell_type": "code",
   "execution_count": 92,
   "id": "f26bc716-c583-4cbb-aa28-fb1427597970",
   "metadata": {},
   "outputs": [],
   "source": [
    "R_ = np.eye(N, N)"
   ]
  },
  {
   "cell_type": "code",
   "execution_count": 93,
   "id": "2e63e100-703d-4e30-a9a6-f2eddfcf51f5",
   "metadata": {},
   "outputs": [],
   "source": [
    "P_ = np.eye(M+1, M+1)"
   ]
  },
  {
   "cell_type": "code",
   "execution_count": 94,
   "id": "5b413f36-ee3e-4504-bdcc-91249f23aaa2",
   "metadata": {
    "tags": []
   },
   "outputs": [],
   "source": [
    "for ii in range(N):\n",
    "    R_[ii, ii] = .01 #(residual * 0.7) ** 2 # (half of the variance is noise) 1e-6  # Uncertainty in data\n",
    "\n",
    "for ii in range(M+1):    \n",
    "    P_[ii, ii] = 1 # Uncertainty in model"
   ]
  },
  {
   "cell_type": "markdown",
   "id": "275cee94-03b3-424c-96ac-da6fc817d11d",
   "metadata": {
    "tags": []
   },
   "source": [
    "#### P matrix =0 For now"
   ]
  },
  {
   "cell_type": "code",
   "execution_count": 95,
   "id": "2deddcc3-6cfb-4868-b738-4993b1e81aba",
   "metadata": {},
   "outputs": [],
   "source": [
    "A = np.matmul(H_v.T, LA.inv(R_))"
   ]
  },
  {
   "cell_type": "code",
   "execution_count": 96,
   "id": "f80b861e-5667-4f33-aea7-c1071f5f260f",
   "metadata": {},
   "outputs": [],
   "source": [
    "HRH = np.matmul(A, H_v)"
   ]
  },
  {
   "cell_type": "code",
   "execution_count": 97,
   "id": "8337d52b-fa1c-4f10-a813-af22e1173901",
   "metadata": {},
   "outputs": [],
   "source": [
    "D = np.matmul(np.matmul(LA.inv(HRH + LA.inv(P_)), H_v.T) , LA.inv(R_))"
   ]
  },
  {
   "cell_type": "code",
   "execution_count": 98,
   "id": "b579fdf9-7d2d-4a41-abdd-1200f2eb24eb",
   "metadata": {},
   "outputs": [
    {
     "data": {
      "text/plain": [
       "((31, 31), (31, 31))"
      ]
     },
     "execution_count": 98,
     "metadata": {},
     "output_type": "execute_result"
    }
   ],
   "source": [
    "HRH.shape, LA.inv(P_).shape"
   ]
  },
  {
   "cell_type": "code",
   "execution_count": 99,
   "id": "1d171e13-4578-4824-8925-fa9787f7e97b",
   "metadata": {},
   "outputs": [
    {
     "data": {
      "text/plain": [
       "array([3.64888292e+05, 2.47873864e+04, 2.27373593e+04, 1.58925133e+04,\n",
       "       1.89382687e+04, 1.72823488e+04, 1.82172834e+04, 6.27081475e+03,\n",
       "       5.89843785e+03, 5.79546768e+03, 5.29544858e+03, 4.87836356e+03,\n",
       "       4.12364517e+03, 4.16162163e+03, 3.68554238e+03, 3.85914056e+03,\n",
       "       3.80413017e+03, 9.92720846e+01, 1.09390142e+02, 1.76260718e+03,\n",
       "       1.71811004e+03, 1.74845515e+03, 1.53097408e+03, 1.41653810e+03,\n",
       "       1.28932239e+03, 7.72336142e+02, 7.27194373e+02, 6.87042686e+02,\n",
       "       5.88451287e+02, 6.08799552e+02, 6.41944355e+02])"
      ]
     },
     "execution_count": 99,
     "metadata": {},
     "output_type": "execute_result"
    }
   ],
   "source": [
    "eig, vec = LA.eig(HRH)\n",
    "eig.real"
   ]
  },
  {
   "cell_type": "markdown",
   "id": "b786175b-f85f-4f9c-bc01-314dc4e08eb9",
   "metadata": {},
   "source": [
    "#### Soution with noise"
   ]
  },
  {
   "cell_type": "code",
   "execution_count": 100,
   "id": "65b5163e-73dd-4b84-b640-e4c953ce7bec",
   "metadata": {},
   "outputs": [],
   "source": [
    "X_ = np.matmul(D, Y_v)"
   ]
  },
  {
   "cell_type": "code",
   "execution_count": 101,
   "id": "b2bcec9a-3da4-4224-a406-b15cd8017619",
   "metadata": {},
   "outputs": [],
   "source": [
    "SOL_WN = X_ #.reshape([2, MModes, len(wavelength)], order = 'C')"
   ]
  },
  {
   "cell_type": "code",
   "execution_count": 102,
   "id": "cd344ff6-a64f-4cb2-83e6-3d4428fef158",
   "metadata": {},
   "outputs": [],
   "source": [
    "AMP_alpha2 = np.append(Amp.reshape([30], order = 'F'), alpha2)"
   ]
  },
  {
   "cell_type": "code",
   "execution_count": 105,
   "id": "2d4b6a22-527a-4dc1-a66d-013842c71606",
   "metadata": {},
   "outputs": [
    {
     "data": {
      "text/plain": [
       "(-1e-05, -9.880113586024572e-06, 1.198864139754288e-07)"
      ]
     },
     "execution_count": 105,
     "metadata": {},
     "output_type": "execute_result"
    }
   ],
   "source": [
    "AMP_alpha2[-1], SOL_WN[-1], SOL_WN[-1] - AMP_alpha2[-1]"
   ]
  },
  {
   "cell_type": "code",
   "execution_count": 106,
   "id": "450f3e70-764a-489d-ab17-fdcce8e9b93b",
   "metadata": {},
   "outputs": [
    {
     "data": {
      "text/plain": [
       "(array([ 6.51058181e-01,  4.15941924e-01,  3.77640256e-01,  6.38637906e-03,\n",
       "         3.19208385e-01,  4.77511998e-01,  1.61758268e-01,  8.47377622e-01,\n",
       "         5.19012373e-01,  1.27369722e-01,  3.37871000e-01,  5.48758415e-01,\n",
       "         6.73864108e-01,  8.73077383e-01,  8.77858035e-01,  2.33239822e-01,\n",
       "         7.85021585e-01,  9.72709905e-01,  9.19631474e-01,  3.35428555e-01,\n",
       "         7.80220279e-01,  3.44849605e-01,  4.47075670e-01,  2.52765277e-03,\n",
       "         5.26635286e-01,  2.75249749e-01,  1.76590124e-01,  2.51536729e-01,\n",
       "         6.74653485e-01,  9.31178852e-01, -1.00000000e-05]),\n",
       " array([ 6.51016135e-01,  4.15933753e-01,  3.77534086e-01,  6.39184536e-03,\n",
       "         3.19126645e-01,  4.77449368e-01,  1.61609581e-01,  8.46804114e-01,\n",
       "         5.17988177e-01,  1.27070992e-01,  3.37824976e-01,  5.48706768e-01,\n",
       "         6.73660815e-01,  8.72807893e-01,  8.77578181e-01,  2.33186782e-01,\n",
       "         7.84543177e-01,  9.71983094e-01,  9.18329843e-01,  3.34546219e-01,\n",
       "         7.76235497e-01,  3.43750894e-01,  4.39549815e-01,  4.07797652e-03,\n",
       "         5.25263470e-01,  2.74054574e-01,  1.77212923e-01,  2.51064168e-01,\n",
       "         6.74073022e-01,  9.29398223e-01, -9.88011359e-06]))"
      ]
     },
     "execution_count": 106,
     "metadata": {},
     "output_type": "execute_result"
    }
   ],
   "source": [
    "AMP_alpha2[:], SOL_WN[:]"
   ]
  },
  {
   "cell_type": "code",
   "execution_count": 107,
   "id": "03a0f753-3163-4c76-b08a-96631cf098b1",
   "metadata": {},
   "outputs": [
    {
     "data": {
      "image/png": "[encoded data removed]",
      "text/plain": [
       "<Figure size 504x432 with 1 Axes>"
      ]
     },
     "metadata": {
      "needs_background": "light"
     },
     "output_type": "display_data"
    }
   ],
   "source": [
    "plt.figure(figsize = (7,6))\n",
    "plt.plot(SOL_WN,'*-', label = 'Solution')\n",
    "plt.plot(AMP_alpha2,'x',label = 'Amp, Alpha')\n",
    "plt.legend()\n",
    "plt.title('Solution with noise, P matrix = ' + str(P_[0, 0]))\n",
    "plt.savefig('inverse_problem_solution_N' + str(N)+'_alpha2Xc.png')"
   ]
  },
  {
   "cell_type": "code",
   "execution_count": 108,
   "id": "dd97a09d-72b5-41ea-9649-a177380ada00",
   "metadata": {},
   "outputs": [],
   "source": [
    "diff = SOL_WN - AMP_alpha2"
   ]
  },
  {
   "cell_type": "code",
   "execution_count": 109,
   "id": "b517acbf-d700-4cef-bfc4-e27ed3c5aff5",
   "metadata": {},
   "outputs": [
    {
     "data": {
      "text/plain": [
       "0.001689621898030625"
      ]
     },
     "execution_count": 109,
     "metadata": {},
     "output_type": "execute_result"
    }
   ],
   "source": [
    "rms = np.sqrt(np.mean(diff**2))\n",
    "rms"
   ]
  },
  {
   "cell_type": "code",
   "execution_count": null,
   "id": "8359ffaa-9afe-4078-9c73-a94119c7f6b7",
   "metadata": {},
   "outputs": [],
   "source": []
  },
  {
   "cell_type": "code",
   "execution_count": null,
   "id": "c80b8149-3f03-4f41-b71f-f71f8abc5672",
   "metadata": {},
   "outputs": [],
   "source": []
  }
 ],
 "metadata": {
  "kernelspec": {
   "display_name": "Python 3 (ipykernel)",
   "language": "python",
   "name": "python3"
  },
  "language_info": {
   "codemirror_mode": {
    "name": "ipython",
    "version": 3
   },
   "file_extension": ".py",
   "mimetype": "text/x-python",
   "name": "python",
   "nbconvert_exporter": "python",
   "pygments_lexer": "ipython3",
   "version": "3.8.12"
  }
 },
 "nbformat": 4,
 "nbformat_minor": 5
}
