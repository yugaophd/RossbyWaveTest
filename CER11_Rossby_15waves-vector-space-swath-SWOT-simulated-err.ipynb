{
 "cells": [
  {
   "cell_type": "markdown",
   "id": "19307edd-281b-458b-8432-9346a36d39bd",
   "metadata": {},
   "source": [
    "# Rossby wave Model with 5 modes\n",
    "## This jupyter notebook test inverse problem with swath samples"
   ]
  },
  {
   "cell_type": "markdown",
   "id": "090e3448-08b0-4234-ad91-b0da524213b5",
   "metadata": {
    "tags": []
   },
   "source": [
    "#### First we calculate the Brunt-Vaisla frequency squared with a sample dataset."
   ]
  },
  {
   "cell_type": "code",
   "execution_count": 1,
   "id": "d3166eac-cabd-405b-a19c-0aca6151b1fa",
   "metadata": {},
   "outputs": [],
   "source": [
    "import numpy as np\n",
    "import scipy\n",
    "import gsw\n",
    "import xarray as xr\n",
    "import cmocean as cmo\n",
    "from numpy import linalg as LA\n",
    "from scipy import linalg"
   ]
  },
  {
   "cell_type": "code",
   "execution_count": 2,
   "id": "47606cd5-7063-472b-a467-a0e270376332",
   "metadata": {},
   "outputs": [],
   "source": [
    "import matplotlib.pyplot as plt\n",
    "import cartopy.crs as ccrs"
   ]
  },
  {
   "cell_type": "code",
   "execution_count": 3,
   "id": "f1561427-2527-4166-8ab1-0f7b6700b4b2",
   "metadata": {},
   "outputs": [],
   "source": [
    "state_ds = xr.open_dataset('../../Rossby_wave_test_case/MARA_RUN2_SWOT_state_2015-01-06.nc')"
   ]
  },
  {
   "cell_type": "code",
   "execution_count": 4,
   "id": "266a0036-7482-4ae7-a555-58aab7b210f5",
   "metadata": {},
   "outputs": [],
   "source": [
    "LAT, LON = state_ds.YC.data, state_ds.XC.data"
   ]
  },
  {
   "cell_type": "code",
   "execution_count": 5,
   "id": "98c25eca-37cb-4d4c-8a98-72960574390b",
   "metadata": {},
   "outputs": [],
   "source": [
    "lat, lon = np.meshgrid(LAT, LON)"
   ]
  },
  {
   "cell_type": "markdown",
   "id": "56269005-f3f3-47c5-bc51-d5040901b35d",
   "metadata": {},
   "source": [
    "# Read Temperature, Salinity and Pressure data"
   ]
  },
  {
   "cell_type": "code",
   "execution_count": 6,
   "id": "3bde795c-8fc7-496f-90ba-30e894031292",
   "metadata": {},
   "outputs": [],
   "source": [
    "temp = state_ds.THETA\n",
    "salinity = state_ds.SALT\n",
    "Z = state_ds.Z\n",
    "pres_anomalies  =  state_ds.PHIHYD"
   ]
  },
  {
   "cell_type": "markdown",
   "id": "1ebd0bc1-4106-4e4f-b905-1084e0d32fdd",
   "metadata": {},
   "source": [
    "# Calculate Brunt-Vaisla frequency squared"
   ]
  },
  {
   "cell_type": "code",
   "execution_count": 7,
   "id": "913dff79-bb46-4cf0-8e4f-b2364da12663",
   "metadata": {
    "tags": []
   },
   "outputs": [],
   "source": [
    "SA, CT = np.ma.masked_all(salinity.shape), np.ma.masked_all(temp.shape)\n",
    "Nsquared = np.ma.masked_all([salinity.shape[0]-1,salinity.shape[1], salinity.shape[2]])\n",
    "Pressure_mid = np.ma.masked_all([salinity.shape[0]-1,salinity.shape[1], salinity.shape[2]])\n",
    "pres = np.ma.masked_all([salinity.shape[0],salinity.shape[1], salinity.shape[2]])\n",
    "Z_mid = np.ma.masked_all([salinity.shape[0]-1, salinity.shape[1], salinity.shape[2]])\n",
    "for y in range(SA.shape[1]):\n",
    "    for x in range(SA.shape[2]):\n",
    "        pres[:, y, x] = gsw.p_from_z(Z.data,  lat = LAT[y]) #+ pres_anomalies.data[:, y, x]\n",
    "        SA[:, y, x] = gsw.conversions.SA_from_SP(salinity.data[:, y, x], pres.data[:, y, x], LON[x], LAT[y])\n",
    "        CT[:, y, x] = gsw.CT_from_pt(SA.data[:, y, x], temp.data[:, y, x])  \n",
    "        Nsquared[:, y, x], Pressure_mid[:, y, x] = gsw.stability.Nsquared(SA[:, y, x], CT[:, y, x], pres[:, y, x])\n",
    "        Z_mid[:, y, x] = gsw.z_from_p(Pressure_mid[:, y, x] , lat = LAT[y])"
   ]
  },
  {
   "cell_type": "code",
   "execution_count": 8,
   "id": "9180f222-a32b-4439-bf67-1300030819e9",
   "metadata": {},
   "outputs": [],
   "source": [
    "xlon, ylat = np.meshgrid(LON, LAT)"
   ]
  },
  {
   "cell_type": "code",
   "execution_count": 9,
   "id": "d6eacb26-5720-419a-9914-5d3202c49df7",
   "metadata": {
    "tags": []
   },
   "outputs": [],
   "source": [
    "zz, yy = np.meshgrid(Z[1:], LAT)"
   ]
  },
  {
   "cell_type": "markdown",
   "id": "c9c126f7-33e9-41dd-b634-c3a694d5fa7d",
   "metadata": {
    "tags": []
   },
   "source": [
    "### Choose a vector at a random location"
   ]
  },
  {
   "cell_type": "code",
   "execution_count": 10,
   "id": "dcc5cd24-bb13-45f4-94a3-10fda1826dc3",
   "metadata": {},
   "outputs": [],
   "source": [
    "laty, lonx = 130, 220"
   ]
  },
  {
   "cell_type": "markdown",
   "id": "b22fb52b-a2e4-4e9c-b331-65331669a209",
   "metadata": {
    "tags": []
   },
   "source": [
    "## Interpolate the N2 vector onto a uniform pressure grid"
   ]
  },
  {
   "cell_type": "code",
   "execution_count": 11,
   "id": "b7a17f68-1afb-4ac4-baa4-43c69c13ad1e",
   "metadata": {},
   "outputs": [],
   "source": [
    "N2_vector = Nsquared[:, laty, lonx]\n",
    "Pmid_vector = Pressure_mid[:, laty, lonx]\n",
    "#Pmid_vector, N2_vector\n",
    "for i in range(len(N2_vector)-1):\n",
    "    if N2_vector[i] < 0:\n",
    "        N2_vector[i] = N2_vector[i+1] #np.median(np.absolute(N2_vector))\n",
    "    if N2_vector[i] == 0:\n",
    "        N2_vector[i] = N2_vector[i+1] #np.median(np.absolute(N2_vector))"
   ]
  },
  {
   "cell_type": "code",
   "execution_count": 12,
   "id": "a8cf9f87-fd6f-4e6c-8570-b6ea971b7edd",
   "metadata": {},
   "outputs": [],
   "source": [
    "Pmid_uniform = np.arange(Pmid_vector[0], Pmid_vector[-1], step = 120)\n",
    "N2_uniform = np.interp(Pmid_uniform, Pmid_vector[:-2], N2_vector[:-2])"
   ]
  },
  {
   "cell_type": "code",
   "execution_count": 13,
   "id": "fef98f5c-5c6a-4b4e-9e04-aa485c55002c",
   "metadata": {},
   "outputs": [],
   "source": [
    "Pmid_uniform = Pmid_uniform[:]\n",
    "N2_uniform = N2_uniform[:]\n",
    "#Pmid_uniform[:-16], N2_uniform[:-16]"
   ]
  },
  {
   "cell_type": "code",
   "execution_count": 14,
   "id": "4e76f91b-a096-4b9a-b80c-a053b7d601af",
   "metadata": {},
   "outputs": [],
   "source": [
    "import VERT_FSFB3"
   ]
  },
  {
   "cell_type": "code",
   "execution_count": 15,
   "id": "2313aaca-dc57-438b-8cfd-febe39154078",
   "metadata": {},
   "outputs": [],
   "source": [
    "c2, Psi, G, N2, Pmid = VERT_FSFB3.VERT_FSFB3(N2_uniform[:-16], Pmid_uniform[:-16])"
   ]
  },
  {
   "cell_type": "code",
   "execution_count": 16,
   "id": "1fa0bc0c-e2ca-423e-8c1f-7c5311fd7573",
   "metadata": {},
   "outputs": [],
   "source": [
    "g = 9.81 # gravity"
   ]
  },
  {
   "cell_type": "markdown",
   "id": "a239a26d-d3b6-49e1-bbc9-694781864ea1",
   "metadata": {
    "tags": []
   },
   "source": [
    "## With a rigid lid assumpsion, SSH = Gm/g, where g is gravity, since hydrastatic pressure p = $rho * g *  SSH$"
   ]
  },
  {
   "cell_type": "code",
   "execution_count": 17,
   "id": "dff40d6e-a701-4d99-80c5-dd03a5f4fa40",
   "metadata": {},
   "outputs": [],
   "source": [
    "SSH = G/g"
   ]
  },
  {
   "cell_type": "code",
   "execution_count": 18,
   "id": "a0362212-ea43-4461-958f-7e89ba0016ae",
   "metadata": {},
   "outputs": [],
   "source": [
    "Z_mid_uniform  = gsw.z_from_p(np.append(0, Pmid), lat = laty)"
   ]
  },
  {
   "cell_type": "code",
   "execution_count": 19,
   "id": "3dd1fdd2-6d0f-4c78-b957-07b1ac8c680e",
   "metadata": {},
   "outputs": [],
   "source": [
    "MODE = G.shape[-1]"
   ]
  },
  {
   "cell_type": "code",
   "execution_count": 20,
   "id": "c49d5929-d3d2-4be8-8121-63b3cf03e500",
   "metadata": {},
   "outputs": [],
   "source": [
    "Zgrid, mode = np.meshgrid(Z_mid_uniform, range(MODE) )"
   ]
  },
  {
   "cell_type": "markdown",
   "id": "b78016d0-519b-4da6-a686-dd7fd9ee574e",
   "metadata": {
    "tags": []
   },
   "source": [
    "### Beta plane paramters"
   ]
  },
  {
   "cell_type": "code",
   "execution_count": 21,
   "id": "9c89dfb5-55eb-4e37-a62d-c2a93ed3094e",
   "metadata": {},
   "outputs": [],
   "source": [
    "Phi0 = 30 # central latitude (φ0)\n",
    "Omega = 7.2921159e-5 # Ω is the angular speed of the earth\n",
    "Earth_radius = 6.371e6 # meters\n",
    "Beta = 2 * Omega * np.cos(Phi0) / Earth_radius\n",
    "f0 = 2 * Omega * np.sin(Phi0) #1.0313e-4 # 45 N"
   ]
  },
  {
   "cell_type": "markdown",
   "id": "cde3bbb7-e252-438d-b6b5-94f37a9e1333",
   "metadata": {
    "tags": []
   },
   "source": [
    "### SSH - 15 waves, 5 baroclinic modes, 3 wavenumbers, 5 modes, 15 frequencies, 30 amplitudes"
   ]
  },
  {
   "cell_type": "markdown",
   "id": "def0fe05-27a5-4ca0-a0a8-bdde86090897",
   "metadata": {},
   "source": [
    "#### The dispersion relation relates frequency to wavenumber for each mode:"
   ]
  },
  {
   "cell_type": "code",
   "execution_count": 22,
   "id": "3b97ef18-77ae-4e2b-9798-b1af84cfa5d6",
   "metadata": {},
   "outputs": [],
   "source": [
    "MModes = 5 # \n",
    "wavelength = np.array([2e5, 1e5, .5e5]) # 200km, 100km, 50km\n",
    "wavespeed = c2[:MModes] # Phase speed\n",
    "k_n = 2 * np.pi / wavelength # wavenumber\n",
    "Rm = wavespeed[:MModes] / f0 # Rossby deformation radius\n",
    "wavelength_l = 0.4 * wavelength\n",
    "l_n = 2 * np.pi / wavelength_l # Y direction wavenumber\n",
    "freq_n = np.zeros([len(wavelength), MModes])\n",
    "for nn in range(len(k_n)):\n",
    "    for mm in range(MModes):\n",
    "        freq_n[nn, mm] = (Beta * k_n[nn]) / (k_n[nn] ** 2 + l_n[nn] ** 2 + Rm[mm] ** (-2))\n",
    "Amp = np.random.rand(2, MModes, len(wavelength))\n",
    "M = Amp.size"
   ]
  },
  {
   "cell_type": "markdown",
   "id": "6538a32f-df02-49f4-a33f-507c36b1c0c7",
   "metadata": {
    "tags": []
   },
   "source": [
    "#### SWOT swath: two 50km swaths with 20 km gap in middle"
   ]
  },
  {
   "cell_type": "code",
   "execution_count": 23,
   "id": "45ff8ca4-7940-4792-8741-7bdbc012843c",
   "metadata": {},
   "outputs": [],
   "source": [
    "a, b, c, d = 0, 1, 50, 1\n",
    "x0 = np.arange(0, 50, 1)\n",
    "y0 = np.arange(0, 50, 1)\n",
    "xswath_index0 = a + b * x0\n",
    "yswath_index0 = c + d * y0\n",
    "swath_ysize = 12\n",
    "yswath_index = np.ma.masked_all([12, len(yswath_index0)])\n",
    "xswath_index = np.ma.masked_all([12, len(xswath_index0)])\n",
    "for yy in range(1, swath_ysize):\n",
    "    if(yy!= 6&7):\n",
    "        yswath_index[yy] = yswath_index0 + yy\n",
    "        xswath_index[yy] = xswath_index0"
   ]
  },
  {
   "cell_type": "code",
   "execution_count": 63,
   "id": "c4afb9f9-a624-468d-9123-1ab85b290da3",
   "metadata": {
    "tags": []
   },
   "outputs": [],
   "source": [
    "yswath_index = np.ma.masked_outside(yswath_index, 0, 99)\n",
    "y_mask = np.ma.getmask(yswath_index)\n",
    "xswath_index = np.ma.MaskedArray(xswath_index, y_mask)"
   ]
  },
  {
   "cell_type": "markdown",
   "id": "891fa28c-e647-4542-ab4f-8f9fa76e267e",
   "metadata": {},
   "source": [
    "#### Retrieve valid data and random sample in time "
   ]
  },
  {
   "cell_type": "code",
   "execution_count": 64,
   "id": "2eba6a39-d5cb-46a0-836a-452e433ad3b7",
   "metadata": {
    "tags": []
   },
   "outputs": [],
   "source": [
    "yvalid_index = yswath_index.compressed().astype(int) # retrieve the valid data \n",
    "xvalid_index = xswath_index.compressed().astype(int) # retrieve the valid data \n",
    "tindex = np.random.randint(low = 0, high= 99, size= xvalid_index.size)  # Random sampling in time"
   ]
  },
  {
   "cell_type": "code",
   "execution_count": 65,
   "id": "fb6a3ee3-e3c1-4243-b782-0e4bb1b448f8",
   "metadata": {},
   "outputs": [
    {
     "data": {
      "text/plain": [
       "True"
      ]
     },
     "execution_count": 65,
     "metadata": {},
     "output_type": "execute_result"
    }
   ],
   "source": [
    "N = yvalid_index.size\n",
    "N == xvalid_index.size"
   ]
  },
  {
   "cell_type": "code",
   "execution_count": 66,
   "id": "d9612ab5-7b1a-4ef5-8f61-5113a8eb09ee",
   "metadata": {},
   "outputs": [],
   "source": [
    "X_loc = np.arange(0, 1e6, 1e4)[xvalid_index] # domain size 1000 km with 10km resolution\n",
    "Y_loc = np.arange(0, 1e6, 1e4)[yvalid_index]\n",
    "T_time = np.arange(0, 1e10, 1e8)[tindex] # seconds, Time step : ~11days"
   ]
  },
  {
   "cell_type": "markdown",
   "id": "766ac06d-643a-47d2-bb25-dcac83196349",
   "metadata": {
    "tags": []
   },
   "source": [
    "### H Matrix and SSH"
   ]
  },
  {
   "cell_type": "markdown",
   "id": "a3da15e8-752f-459f-b637-1e9ec608250e",
   "metadata": {
    "tags": []
   },
   "source": [
    "### Construct model in vector space"
   ]
  },
  {
   "cell_type": "code",
   "execution_count": 67,
   "id": "5eccf460-ed07-4d2a-903c-43c4396c3480",
   "metadata": {},
   "outputs": [
    {
     "name": "stdout",
     "output_type": "stream",
     "text": [
      "CPU times: user 45 ms, sys: 1.51 ms, total: 46.5 ms\n",
      "Wall time: 46.1 ms\n"
     ]
    }
   ],
   "source": [
    "%%time\n",
    "N_data = N\n",
    "H_cos = np.zeros([N_data, MModes, len(wavelength)]) # Number of waves * Number of data\n",
    "H_sin = np.zeros([N_data, MModes, len(wavelength)])\n",
    "SSH_MN = np.ma.masked_all([N_data, MModes, len(wavelength)])\n",
    "for tt in range(N_data):\n",
    "    for mm in range(Amp.shape[1]):\n",
    "        for nn in range(len(k_n)):\n",
    "            H_cos[tt, mm, nn] = Psi[0, mm] * np.cos(k_n[nn] * X_loc[tt] + l_n[nn] * Y_loc[tt] + freq_n[nn, mm] * T_time[tt]) \n",
    "            H_sin[tt, mm, nn] = Psi[0, mm] * np.sin(k_n[nn] * X_loc[tt] + l_n[nn] * Y_loc[tt] + freq_n[nn, mm] * T_time[tt])"
   ]
  },
  {
   "cell_type": "code",
   "execution_count": 68,
   "id": "a459064c-cb24-4bc6-9fdf-c196f22549db",
   "metadata": {
    "tags": []
   },
   "outputs": [],
   "source": [
    "for mm in range(MModes):\n",
    "    for nn in range(len(k_n)):\n",
    "        SSH_MN[ :, mm, nn] = Amp[0, mm, nn] * H_cos[ :, mm, nn] + Amp[1, mm, nn] * H_sin[:, mm, nn]\n",
    "\n",
    "SSH = SSH_MN.sum(axis = (-1, -2))\n",
    "\n",
    "IIndex = np.zeros(N_data) # N: Number of y data\n",
    "Y_v = np.zeros(N_data) \n",
    "H_v = np.zeros([N_data, M]) # M: number of model\n",
    "\n",
    "for iii in range(N_data):\n",
    "    Y_v[iii] = SSH[iii]\n",
    "    for mm in range(MModes):\n",
    "        for nn in range(len(wavelength)):\n",
    "            JIndex = 2 * MModes * nn +  2 * mm  # Model space\n",
    "            H_v[iii, JIndex] = H_cos[iii, mm, nn]\n",
    "            H_v[iii, JIndex + 1] = H_sin[iii, mm, nn]"
   ]
  },
  {
   "cell_type": "markdown",
   "id": "b658069b-adb5-4d2e-be4e-10c21c538c5c",
   "metadata": {
    "tags": []
   },
   "source": [
    "### Exact-solution - Solve 30 unknow amplitudes with 30 data points."
   ]
  },
  {
   "cell_type": "markdown",
   "id": "f34c6ebf-f68b-4192-b9a1-c9197f856cc3",
   "metadata": {
    "tags": []
   },
   "source": [
    "#### Weighted least square solution"
   ]
  },
  {
   "cell_type": "markdown",
   "id": "78de69ae-c97f-45f3-b8c3-ca615d7547cd",
   "metadata": {
    "tags": []
   },
   "source": [
    "#### R and P Matrix"
   ]
  },
  {
   "cell_type": "code",
   "execution_count": 69,
   "id": "e0b2b0f7-4c6b-4dcd-b604-9a12d516bad8",
   "metadata": {},
   "outputs": [],
   "source": [
    "R_ = np.eye(N, N)"
   ]
  },
  {
   "cell_type": "code",
   "execution_count": 70,
   "id": "4cb74ab3-b1d8-4b8c-be8b-8e053ed53e19",
   "metadata": {},
   "outputs": [],
   "source": [
    "P_ = np.eye(M, M)"
   ]
  },
  {
   "cell_type": "code",
   "execution_count": 71,
   "id": "187a824e-9d40-4971-b911-ec11d4f18643",
   "metadata": {
    "tags": []
   },
   "outputs": [],
   "source": [
    "for ii in range(N):\n",
    "    R_[ii, ii] = .01 #(residual * 0.7) ** 2 # (half of the variance is noise) 1e-6  # Uncertainty in data\n",
    "\n",
    "for ii in range(M):    \n",
    "    P_[ii, ii] = 1 # Uncertainty in model"
   ]
  },
  {
   "cell_type": "markdown",
   "id": "f99e3420-3e8e-48b4-8818-e85d1d141280",
   "metadata": {
    "tags": []
   },
   "source": [
    "#### P matrix =0 For now"
   ]
  },
  {
   "cell_type": "code",
   "execution_count": 72,
   "id": "34a2ea23-65d8-4787-a816-fad461f85564",
   "metadata": {},
   "outputs": [],
   "source": [
    "A = np.matmul(H_v.T, LA.inv(R_))"
   ]
  },
  {
   "cell_type": "code",
   "execution_count": 73,
   "id": "7a31234a-a78b-4f5c-a9a6-5134a44ab5d4",
   "metadata": {},
   "outputs": [],
   "source": [
    "HRH = np.matmul(A, H_v)"
   ]
  },
  {
   "cell_type": "code",
   "execution_count": 74,
   "id": "7bef9a71-63c7-400c-8be7-d5ffbad24f2e",
   "metadata": {},
   "outputs": [],
   "source": [
    "D = np.matmul(np.matmul(LA.inv(HRH + LA.inv(P_)), H_v.T) , LA.inv(R_))"
   ]
  },
  {
   "cell_type": "markdown",
   "id": "7dff4371-b6e0-462f-a5a8-89f81f778148",
   "metadata": {},
   "source": [
    "#### if the Eigenvalues of HRH are -->0, the problem is poorly conditioned. Otherwise, the problem is well conditioned."
   ]
  },
  {
   "cell_type": "code",
   "execution_count": 75,
   "id": "38446570-bf78-4bc2-a644-72bf6a3fda95",
   "metadata": {},
   "outputs": [
    {
     "data": {
      "text/plain": [
       "array([26480.69666033, 22069.03534576, 18762.31329689, 18364.17348838,\n",
       "       17049.90250156, 15483.60799742,  6375.86962646,  6304.80202318,\n",
       "        5436.96978126,  5156.37831222,  4724.52754825,  4470.14853281,\n",
       "        4100.3012325 ,  3807.3961861 ,  3754.56305575,  3558.65816727,\n",
       "          86.15754496,    94.22165164,  1808.16582951,  1723.85698131,\n",
       "        1335.75518557,  1611.04812347,  1588.39536313,  1535.68126453,\n",
       "         517.30266351,   617.50602659,   663.5061394 ,   688.97920503,\n",
       "         794.58706274,   751.99485214])"
      ]
     },
     "execution_count": 75,
     "metadata": {},
     "output_type": "execute_result"
    }
   ],
   "source": [
    "eig, vec = LA.eig(HRH)\n",
    "eig.real"
   ]
  },
  {
   "cell_type": "markdown",
   "id": "669fc142-23df-42df-801b-14996e4113d6",
   "metadata": {},
   "source": [
    "#### Soution with noise"
   ]
  },
  {
   "cell_type": "code",
   "execution_count": 76,
   "id": "e325cab9-7d9b-445d-bbad-9f5fa3915f1f",
   "metadata": {},
   "outputs": [],
   "source": [
    "X_ = np.matmul(D, Y_v)"
   ]
  },
  {
   "cell_type": "code",
   "execution_count": 77,
   "id": "d0bd686b-d10b-407b-870e-07e7c774b429",
   "metadata": {},
   "outputs": [],
   "source": [
    "SOL_WN = X_ #.reshape([2, MModes, len(wavelength)], order = 'C')"
   ]
  },
  {
   "cell_type": "code",
   "execution_count": 78,
   "id": "12cc1b34-93b8-4211-938c-5b27feadcd87",
   "metadata": {},
   "outputs": [
    {
     "data": {
      "image/png": "[encoded data removed]",
      "text/plain": [
       "<Figure size 504x432 with 1 Axes>"
      ]
     },
     "metadata": {
      "needs_background": "light"
     },
     "output_type": "display_data"
    }
   ],
   "source": [
    "plt.figure(figsize = (7,6))\n",
    "plt.plot(SOL_WN,'*-', label = 'Solution')\n",
    "plt.plot(Amp.reshape([30], order = 'F'),'x',label = 'Amplitude')\n",
    "plt.legend()\n",
    "plt.title('Solution with noise, P matrix = ' + str(P_[0, 0]))\n",
    "plt.savefig('inverse_problem_solution_N' + str(N)+'.png')"
   ]
  },
  {
   "cell_type": "code",
   "execution_count": 79,
   "id": "f8011893-cb2f-452e-a6e3-d20d0defb9a1",
   "metadata": {},
   "outputs": [],
   "source": [
    "diff = SOL_WN - Amp.reshape([M], order = 'F')"
   ]
  },
  {
   "cell_type": "code",
   "execution_count": 80,
   "id": "87f9b14b-f251-425b-9b3a-2b484820bc40",
   "metadata": {},
   "outputs": [
    {
     "data": {
      "text/plain": [
       "0.0027062606852676124"
      ]
     },
     "execution_count": 80,
     "metadata": {},
     "output_type": "execute_result"
    }
   ],
   "source": [
    "rms = np.sqrt(np.mean(diff**2))\n",
    "rms"
   ]
  },
  {
   "cell_type": "markdown",
   "id": "f208182a-7e95-4170-9be1-153417de7e4f",
   "metadata": {
    "tags": []
   },
   "source": [
    "#### Create simulated roll error"
   ]
  },
  {
   "cell_type": "code",
   "execution_count": 81,
   "id": "f77101e6-063e-4cd6-8bcf-d53353b39f86",
   "metadata": {},
   "outputs": [],
   "source": [
    "alpha2 = -1e-5\n",
    "roll_err = np.ma.masked_all(yswath_index.shape)\n",
    "xc = np.ma.masked_all(yswath_index.shape)\n",
    "ac, al = roll_err.shape\n",
    "for xx in range(ac):\n",
    "    xc[xx, :] = (xx - (ac-1)/2) \n",
    "    roll_err[xx, :] = alpha2 * xc[xx, :] * 1e4 #10km resolution"
   ]
  },
  {
   "cell_type": "code",
   "execution_count": 82,
   "id": "1b6813bd-f5e4-4ccf-bc4e-23427f870c96",
   "metadata": {},
   "outputs": [
    {
     "data": {
      "image/png": "[encoded data removed]",
      "text/plain": [
       "<Figure size 648x432 with 4 Axes>"
      ]
     },
     "metadata": {
      "needs_background": "light"
     },
     "output_type": "display_data"
    }
   ],
   "source": [
    "plt.figure(figsize = (9, 6))\n",
    "plt.subplot(121)\n",
    "plt.pcolor(roll_err, cmap = cmo.cm.balance, vmin = -1, vmax = 1)\n",
    "plt.colorbar()\n",
    "plt.xlabel('Along-track', fontsize = 13)\n",
    "plt.ylabel('Cross-track', fontsize = 13)\n",
    "plt.title('Cross-track Correlated Roll Error', fontsize = 15)\n",
    "\n",
    "plt.subplot(122)\n",
    "plt.pcolor(xc, cmap = cmo.cm.balance)\n",
    "plt.colorbar()\n",
    "plt.xlabel('Along-track', fontsize = 13)\n",
    "plt.ylabel('Cross-track', fontsize = 13)\n",
    "plt.title('Xc', fontsize = 15)\n",
    "plt.tight_layout()\n",
    "plt.savefig('Cross_track_Correlated_Roll_Error.png', dpi = 100)"
   ]
  },
  {
   "cell_type": "code",
   "execution_count": 83,
   "id": "eb2da6e9-3032-43f2-a8df-b9feefe62418",
   "metadata": {},
   "outputs": [],
   "source": [
    "roll_err_masked = np.ma.MaskedArray(roll_err, y_mask)\n",
    "xc_masked = np.ma.MaskedArray(xc, y_mask)"
   ]
  },
  {
   "cell_type": "code",
   "execution_count": 84,
   "id": "c739968a-b147-499f-8058-def3e3a8881b",
   "metadata": {},
   "outputs": [],
   "source": [
    "roll_err_valid = roll_err_masked.compressed().astype(int) # retrieve the valid data \n",
    "xc_valid = xc_masked.compressed().astype(int) # retrieve the valid data "
   ]
  },
  {
   "cell_type": "markdown",
   "id": "139bff37-8caa-4e07-a438-88ceabfd4fa0",
   "metadata": {},
   "source": [
    "#### Add simple roll error to SSH"
   ]
  },
  {
   "cell_type": "code",
   "execution_count": 85,
   "id": "6fa02dac-5fd6-409a-82de-f71172c35594",
   "metadata": {
    "tags": []
   },
   "outputs": [],
   "source": [
    "# Convert the T, X, Y space to 1-dimensional space\n",
    "IIndex = np.zeros(N) # N: Number of y data\n",
    "Y_v = np.zeros(N) \n",
    "H_v = np.zeros([N, M+1]) # M: number of model\n",
    "nx, ny = N, N\n",
    "for iii in range(N):\n",
    "    Y_v[iii] = SSH[iii] + roll_err_valid[iii]\n",
    "    H_v[iii, -1] = xc_valid[iii] # distance from nadir Xc \n",
    "    for mm in range(MModes):\n",
    "        for nn in range(len(wavelength)):\n",
    "            JIndex = 2 * MModes * nn +  2 * mm  # Model space\n",
    "            H_v[iii, JIndex] = H_cos[iii, mm, nn]\n",
    "            H_v[iii, JIndex + 1] = H_sin[iii, mm, nn]"
   ]
  },
  {
   "cell_type": "markdown",
   "id": "0b96718b-ce44-4ce4-8550-d1244012c1e4",
   "metadata": {
    "tags": []
   },
   "source": [
    "#### Weighted least square solution"
   ]
  },
  {
   "cell_type": "markdown",
   "id": "ea3402ee-497f-4dfd-867e-5acc585a625d",
   "metadata": {
    "tags": []
   },
   "source": [
    "#### R and P Matrix"
   ]
  },
  {
   "cell_type": "code",
   "execution_count": 86,
   "id": "3ebd1332-26d4-4251-9e62-0cf579e35649",
   "metadata": {},
   "outputs": [],
   "source": [
    "R_ = np.eye(N, N)"
   ]
  },
  {
   "cell_type": "code",
   "execution_count": 87,
   "id": "8c992f57-4752-4107-8c1f-9a90ecd0037f",
   "metadata": {},
   "outputs": [],
   "source": [
    "P_ = np.eye(M+1, M+1)"
   ]
  },
  {
   "cell_type": "code",
   "execution_count": 88,
   "id": "5a523043-bef6-4bd6-bce8-d4c922c4cdc0",
   "metadata": {
    "tags": []
   },
   "outputs": [],
   "source": [
    "for ii in range(N):\n",
    "    R_[ii, ii] = .01 #(residual * 0.7) ** 2 # (half of the variance is noise) 1e-6  # Uncertainty in data\n",
    "\n",
    "for ii in range(M + 1):    \n",
    "    P_[ii, ii] = 1 # Uncertainty in model"
   ]
  },
  {
   "cell_type": "markdown",
   "id": "6f9abcee-9248-45be-aef7-9ebf53ac8672",
   "metadata": {
    "tags": []
   },
   "source": [
    "#### P matrix =0 For now"
   ]
  },
  {
   "cell_type": "code",
   "execution_count": 89,
   "id": "afba868b-6188-44ab-9e8f-90ae49531921",
   "metadata": {},
   "outputs": [],
   "source": [
    "A = np.matmul(H_v.T, LA.inv(R_))"
   ]
  },
  {
   "cell_type": "code",
   "execution_count": 90,
   "id": "9bee48e7-dcd9-48f1-8ee5-e5803c306c90",
   "metadata": {},
   "outputs": [],
   "source": [
    "HRH = np.matmul(A, H_v)"
   ]
  },
  {
   "cell_type": "code",
   "execution_count": 91,
   "id": "6b8d54b8-00d1-4944-8c0d-63bb1e1ef020",
   "metadata": {},
   "outputs": [],
   "source": [
    "D = np.matmul(np.matmul(LA.inv(HRH + LA.inv(P_)), H_v.T) , LA.inv(R_))"
   ]
  },
  {
   "cell_type": "code",
   "execution_count": 92,
   "id": "9cece67a-e26f-4e75-8e7e-d4dcf6c635cf",
   "metadata": {},
   "outputs": [
    {
     "data": {
      "text/plain": [
       "((31, 31), (31, 31))"
      ]
     },
     "execution_count": 92,
     "metadata": {},
     "output_type": "execute_result"
    }
   ],
   "source": [
    "HRH.shape, LA.inv(P_).shape"
   ]
  },
  {
   "cell_type": "code",
   "execution_count": 93,
   "id": "dbf4ca1a-adf0-4a45-aaf1-8c465958470e",
   "metadata": {},
   "outputs": [
    {
     "data": {
      "text/plain": [
       "array([3.65080709e+05, 2.63692275e+04, 2.20465089e+04, 1.86213342e+04,\n",
       "       1.81971984e+04, 1.69749594e+04, 1.54820572e+04, 6.37583753e+03,\n",
       "       6.30448520e+03, 5.43692782e+03, 5.15632369e+03, 4.71902383e+03,\n",
       "       4.46896708e+03, 4.10029725e+03, 3.79314726e+03, 3.74230361e+03,\n",
       "       3.55857651e+03, 8.61342856e+01, 9.40221089e+01, 1.80764572e+03,\n",
       "       1.72255902e+03, 1.61103858e+03, 1.58835022e+03, 1.53525163e+03,\n",
       "       1.32744500e+03, 5.17162489e+02, 6.09653903e+02, 6.63246542e+02,\n",
       "       6.83890956e+02, 7.93923285e+02, 7.48293362e+02])"
      ]
     },
     "execution_count": 93,
     "metadata": {},
     "output_type": "execute_result"
    }
   ],
   "source": [
    "eig, vec = LA.eig(HRH)\n",
    "eig.real"
   ]
  },
  {
   "cell_type": "markdown",
   "id": "92fd1773-d550-4aeb-9dba-61b127cc9c78",
   "metadata": {},
   "source": [
    "#### Soution with noise"
   ]
  },
  {
   "cell_type": "code",
   "execution_count": 94,
   "id": "b21eb376-e7a3-44f9-9cce-8048c6ffdf98",
   "metadata": {},
   "outputs": [],
   "source": [
    "X_ = np.matmul(D, Y_v)"
   ]
  },
  {
   "cell_type": "code",
   "execution_count": 95,
   "id": "9fc6e327-cf55-46a0-ac4b-6154c89e8cd2",
   "metadata": {},
   "outputs": [],
   "source": [
    "SOL_WN = X_ #.reshape([2, MModes, len(wavelength)], order = 'C')"
   ]
  },
  {
   "cell_type": "code",
   "execution_count": 96,
   "id": "0ad04f47-3064-40c6-8547-c6ebb896d7f3",
   "metadata": {},
   "outputs": [],
   "source": [
    "AMP_alpha2 = np.append(Amp.reshape([30], order = 'F'), alpha2)"
   ]
  },
  {
   "cell_type": "code",
   "execution_count": 97,
   "id": "1802a523-96ba-4115-a686-0f07577a53b4",
   "metadata": {},
   "outputs": [
    {
     "data": {
      "text/plain": [
       "(-1e-05, 4.241247514891709e-06, 1.424124751489171e-05)"
      ]
     },
     "execution_count": 97,
     "metadata": {},
     "output_type": "execute_result"
    }
   ],
   "source": [
    "AMP_alpha2[-1], SOL_WN[-1], SOL_WN[-1] - AMP_alpha2[-1]"
   ]
  },
  {
   "cell_type": "code",
   "execution_count": 98,
   "id": "76acb5d1-26e9-4c68-9087-ef42bafeeb5d",
   "metadata": {},
   "outputs": [
    {
     "data": {
      "text/plain": [
       "(array([ 4.19902415e-01,  5.79811658e-01,  2.18944281e-01,  6.61229220e-02,\n",
       "         5.16187788e-01,  2.75172621e-01,  9.17934185e-01,  8.84895630e-01,\n",
       "         5.29414480e-01,  9.69558759e-01,  8.66361753e-03,  1.37828088e-01,\n",
       "         4.49957859e-01,  5.51283547e-01,  5.83421537e-01,  8.64538042e-01,\n",
       "         7.73645967e-01,  2.35383381e-01,  2.50641017e-01,  9.28228170e-01,\n",
       "         5.63377348e-01,  9.36082870e-01,  3.09360237e-01,  8.55970411e-01,\n",
       "         2.32700607e-01,  8.89194698e-01,  8.68896674e-01,  8.05339325e-01,\n",
       "         4.76376655e-01,  7.73574245e-01, -1.00000000e-05]),\n",
       " array([4.19809084e-01, 5.79779362e-01, 2.18807473e-01, 6.61699482e-02,\n",
       "        5.16003926e-01, 2.75253818e-01, 9.17615179e-01, 8.84358006e-01,\n",
       "        5.28321325e-01, 9.67944005e-01, 8.54211956e-03, 1.37918218e-01,\n",
       "        4.49889286e-01, 5.51116955e-01, 5.83375090e-01, 8.64327290e-01,\n",
       "        7.73283913e-01, 2.35494791e-01, 2.50661647e-01, 9.26358609e-01,\n",
       "        5.62127021e-01, 9.29629492e-01, 3.01803492e-01, 8.45903924e-01,\n",
       "        2.33529208e-01, 8.86487651e-01, 8.68627416e-01, 8.05773617e-01,\n",
       "        4.75887597e-01, 7.72366054e-01, 4.24124751e-06]))"
      ]
     },
     "execution_count": 98,
     "metadata": {},
     "output_type": "execute_result"
    }
   ],
   "source": [
    "AMP_alpha2[:], SOL_WN[:]"
   ]
  },
  {
   "cell_type": "code",
   "execution_count": 60,
   "id": "2bace32c-7e0c-4f5d-a50a-fac0c418a194",
   "metadata": {},
   "outputs": [
    {
     "data": {
      "image/png": "[encoded data removed]",
      "text/plain": [
       "<Figure size 504x432 with 1 Axes>"
      ]
     },
     "metadata": {
      "needs_background": "light"
     },
     "output_type": "display_data"
    }
   ],
   "source": [
    "plt.figure(figsize = (7,6))\n",
    "plt.plot(SOL_WN,'*-', label = 'Solution')\n",
    "plt.plot(AMP_alpha2,'x',label = 'Amp, Alpha')\n",
    "plt.legend()\n",
    "plt.title('Solution with noise, P matrix = ' + str(P_[0, 0]))\n",
    "plt.savefig('inverse_problem_solution_N' + str(N)+'_alpha2Xc.png')"
   ]
  },
  {
   "cell_type": "code",
   "execution_count": 61,
   "id": "c0e727fc-bd44-4d3b-a46a-a3928e7ee31c",
   "metadata": {},
   "outputs": [],
   "source": [
    "diff = SOL_WN - AMP_alpha2"
   ]
  },
  {
   "cell_type": "code",
   "execution_count": 62,
   "id": "65f6e3b5-6eb1-4ab2-a1c3-cc8a6b1814d1",
   "metadata": {},
   "outputs": [
    {
     "data": {
      "text/plain": [
       "0.002290572119705503"
      ]
     },
     "execution_count": 62,
     "metadata": {},
     "output_type": "execute_result"
    }
   ],
   "source": [
    "rms = np.sqrt(np.mean(diff ** 2))\n",
    "rms"
   ]
  },
  {
   "cell_type": "code",
   "execution_count": null,
   "id": "8359ffaa-9afe-4078-9c73-a94119c7f6b7",
   "metadata": {},
   "outputs": [],
   "source": []
  },
  {
   "cell_type": "code",
   "execution_count": null,
   "id": "7a9dc2cb-508f-46bb-ac08-1ccb195b6274",
   "metadata": {},
   "outputs": [],
   "source": []
  },
  {
   "cell_type": "code",
   "execution_count": null,
   "id": "e085d44f-e31b-492b-9c71-b9257f81047e",
   "metadata": {},
   "outputs": [],
   "source": []
  },
  {
   "cell_type": "code",
   "execution_count": null,
   "id": "e5eecf96-d2bc-48e8-8c1b-da405d782159",
   "metadata": {},
   "outputs": [],
   "source": []
  },
  {
   "cell_type": "code",
   "execution_count": null,
   "id": "c0817112-1339-4979-80f1-1a79a58a70e8",
   "metadata": {},
   "outputs": [],
   "source": []
  }
 ],
 "metadata": {
  "kernelspec": {
   "display_name": "Python 3 (ipykernel)",
   "language": "python",
   "name": "python3"
  },
  "language_info": {
   "codemirror_mode": {
    "name": "ipython",
    "version": 3
   },
   "file_extension": ".py",
   "mimetype": "text/x-python",
   "name": "python",
   "nbconvert_exporter": "python",
   "pygments_lexer": "ipython3",
   "version": "3.8.12"
  }
 },
 "nbformat": 4,
 "nbformat_minor": 5
}
